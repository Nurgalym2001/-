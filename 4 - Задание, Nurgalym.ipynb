{
 "cells": [
  {
   "cell_type": "markdown",
   "id": "d8bd940e",
   "metadata": {},
   "source": [
    "## Амангелді Нұрғалым, СИБ 23-01"
   ]
  },
  {
   "cell_type": "markdown",
   "id": "f9362f38",
   "metadata": {},
   "source": [
    "### 4. Аутентификация и управление доступом\n",
    "#### •\tЗадача: Создать систему аутентификации пользователей с использованием многофакторной аутентификации (например, пароль + одноразовые коды).\n",
    "#### •\tЦель: Защищенная аутентификация пользователей и защита от атак на пароли (brute-force)"
   ]
  },
  {
   "cell_type": "markdown",
   "id": "2671cc52",
   "metadata": {},
   "source": [
    "### 1. Регистрация пользователя с хешированием пароля."
   ]
  },
  {
   "cell_type": "code",
   "execution_count": 7,
   "id": "c9ff6fd1",
   "metadata": {},
   "outputs": [
    {
     "name": "stdout",
     "output_type": "stream",
     "text": [
      "Пользователь Nurgalym_user успешно зарегистрирован.\n"
     ]
    }
   ],
   "source": [
    "import bcrypt\n",
    "import pyotp\n",
    "\n",
    "# Базы данных пользователей\n",
    "users_db = {}\n",
    "\n",
    "# Функция для регистрации пользователя с хешированием пароля и генерацией секретного ключа\n",
    "def register_user(username, password):\n",
    "    if username in users_db:\n",
    "        print(\"Пользователь с таким логином уже существует.\")\n",
    "        return\n",
    "    # Хешируем пароль\n",
    "    password_hash = bcrypt.hashpw(password.encode(), bcrypt.gensalt())\n",
    "    # Генерируем секретный ключ для одноразового кода\n",
    "    otp_secret = pyotp.random_base32()\n",
    "    # Сохраняем пользователя с хешем пароля и секретным ключом\n",
    "    users_db[username] = {\"password_hash\": password_hash, \"otp_secret\": otp_secret}\n",
    "    print(f\"Пользователь {username} успешно зарегистрирован.\")\n",
    "    \n",
    "# Регистрации пользователя\n",
    "register_user(\"Nurgalym_user\", \"SIB2301_password\")"
   ]
  },
  {
   "cell_type": "markdown",
   "id": "ade29cd8",
   "metadata": {},
   "source": [
    "### 2. Проверка пароля\n",
    "#### Дальше реализуем функцию для входа, которая сначала проверяет пароль."
   ]
  },
  {
   "cell_type": "code",
   "execution_count": 8,
   "id": "ce528e4f",
   "metadata": {},
   "outputs": [],
   "source": [
    "# Функция для проверки пароля\n",
    "def verify_password(username, password):\n",
    "    user = users_db.get(username)\n",
    "    if not user:\n",
    "        print(\"Пользователь не найден.\")\n",
    "        return False\n",
    "    \n",
    "    # Проверяем пароль с хешем\n",
    "    if bcrypt.checkpw(password.encode(), user[\"password_hash\"]):\n",
    "        print(\"Пароль подтвержден.\")\n",
    "        return True\n",
    "    else:\n",
    "        print(\"Неправильный пароль.\")\n",
    "        return False\n"
   ]
  },
  {
   "cell_type": "markdown",
   "id": "44a34134",
   "metadata": {},
   "source": [
    "### 3. Генерация и проверка одноразового кода\n",
    "#### В следующем шаге создадим одноразовые коды с помощью \"pyotp\", чтобы обеспечить второй фактор аутентификации."
   ]
  },
  {
   "cell_type": "code",
   "execution_count": 9,
   "id": "9eca1761",
   "metadata": {},
   "outputs": [],
   "source": [
    "# Функция для генерации одноразового кода\n",
    "def generate_otp(username):\n",
    "    user = users_db.get(username)\n",
    "    if not user:\n",
    "        print(\"Пользователь не найден.\")\n",
    "        return None\n",
    "    \n",
    "    # Создаем TOTP объект\n",
    "    totp = pyotp.TOTP(user[\"otp_secret\"])\n",
    "    # Генерируем код\n",
    "    return totp.now()\n",
    "\n",
    "# Функция для проверки одноразового кода\n",
    "def verify_otp(username, otp_code):\n",
    "    user = users_db.get(username)\n",
    "    if not user:\n",
    "        print(\"Пользователь не найден.\")\n",
    "        return False\n",
    "    \n",
    "    totp = pyotp.TOTP(user[\"otp_secret\"])\n",
    "    # Проверяем код\n",
    "    if totp.verify(otp_code):\n",
    "        print(\"Одноразовый код подтвержден.\")\n",
    "        return True\n",
    "    else:\n",
    "        print(\"Неправильный одноразовый код.\")\n",
    "        return False\n"
   ]
  },
  {
   "cell_type": "markdown",
   "id": "953ee53e",
   "metadata": {},
   "source": [
    "### 4. Ограничение на количество попыток (защита от brute-force)\n",
    "#### Вот теперь добавим счетчик неудачных попыток, чтобы заблокировать пользователя после нескольких неудачных попыток входа"
   ]
  },
  {
   "cell_type": "code",
   "execution_count": 10,
   "id": "9177fb24",
   "metadata": {},
   "outputs": [],
   "source": [
    "# Добавим ограничение попыток на вход\n",
    "attempts_db = {}\n",
    "\n",
    "def authenticate_user(username, password, otp_code):\n",
    "    if username not in attempts_db:\n",
    "        attempts_db[username] = 0\n",
    "    \n",
    "    # Проверка попыток\n",
    "    if attempts_db[username] >= 3:\n",
    "        print(\"Превышено количество попыток. Попробуйте позже.\")\n",
    "        return False\n",
    "    \n",
    "    # Проверяем пароль\n",
    "    if not verify_password(username, password):\n",
    "        attempts_db[username] += 1\n",
    "        return False\n",
    "    \n",
    "    # Проверяем одноразовый код\n",
    "    if not verify_otp(username, otp_code):\n",
    "        attempts_db[username] += 1\n",
    "        return False\n",
    "    \n",
    "    # Сбросить счетчик при успешной аутентификации\n",
    "    attempts_db[username] = 0\n",
    "    print(\"Аутентификация пройдена.\")\n",
    "    return True\n"
   ]
  },
  {
   "cell_type": "markdown",
   "id": "2566538c",
   "metadata": {},
   "source": [
    "### 5. Завершаем процесс и тестируем программу на работоспособность"
   ]
  },
  {
   "cell_type": "code",
   "execution_count": 12,
   "id": "e6021fce",
   "metadata": {},
   "outputs": [
    {
     "name": "stdout",
     "output_type": "stream",
     "text": [
      "Пользователь с таким логином уже существует.\n",
      "Пароль подтвержден.\n",
      "Одноразовый код подтвержден.\n",
      "Аутентификация пройдена.\n"
     ]
    },
    {
     "data": {
      "text/plain": [
       "True"
      ]
     },
     "execution_count": 12,
     "metadata": {},
     "output_type": "execute_result"
    }
   ],
   "source": [
    "# Регистрация пользователя\n",
    "register_user(\"Nurgalym_user\", \"SIB2301_password\")\n",
    "\n",
    "# Аутентификация: сначала вводим правильный пароль и одноразовый код\n",
    "password = \"SIB2301_password\"\n",
    "otp_code = generate_otp(\"Nurgalym_user\")  # Получаем одноразовый код\n",
    "\n",
    "# Проводим аутентификацию\n",
    "authenticate_user(\"Nurgalym_user\", password, otp_code)"
   ]
  },
  {
   "cell_type": "markdown",
   "id": "ee8770d9",
   "metadata": {},
   "source": [
    "### Вывод: Глядя на результат, можно с уверенностью сказать, что система аутентификации работает правильно.\n",
    "#### То есть:\n",
    "#### 1. Пользователь Nurgalym_user был успешно зарегистрирован, и система создала для него хеш пароля и секретный ключ для генерации одноразовых кодов.\n",
    "#### 2. При повторной попытке регистрации система выдала сообщение о том, что пользователь уже существует, что защищает от повторной регистрации.\n",
    "#### 3. При входе с правильным паролем система подтвердила его как корректный.\n",
    "#### 4. Введенный одноразовый код был проверен и признан верным.\n",
    "#### 5. Система выдала сообщение об успешной аутентификации, что ограничивает количество попыток для защиты от brute-force атак.\n"
   ]
  },
  {
   "cell_type": "code",
   "execution_count": null,
   "id": "71eb9687",
   "metadata": {},
   "outputs": [],
   "source": []
  }
 ],
 "metadata": {
  "kernelspec": {
   "display_name": "Python 3 (ipykernel)",
   "language": "python",
   "name": "python3"
  },
  "language_info": {
   "codemirror_mode": {
    "name": "ipython",
    "version": 3
   },
   "file_extension": ".py",
   "mimetype": "text/x-python",
   "name": "python",
   "nbconvert_exporter": "python",
   "pygments_lexer": "ipython3",
   "version": "3.10.9"
  }
 },
 "nbformat": 4,
 "nbformat_minor": 5
}
