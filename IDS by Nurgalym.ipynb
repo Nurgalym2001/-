{
 "cells": [
  {
   "cell_type": "markdown",
   "id": "ab162340",
   "metadata": {},
   "source": [
    "## Amangeldi Nurgalym, СИБ 23-01"
   ]
  },
  {
   "cell_type": "markdown",
   "id": "eb7e0817",
   "metadata": {},
   "source": [
    "### Этот код который я написал представляет собой базовую программу для системы обнаружения вторжений (IDS), которая анализирует сетевой трафик в реальном времени:"
   ]
  },
  {
   "cell_type": "code",
   "execution_count": 3,
   "id": "7e02897f",
   "metadata": {},
   "outputs": [],
   "source": [
    "import logging\n",
    "import time\n",
    "from scapy.all import *\n",
    "from collections import defaultdict\n",
    "\n",
    "class RealTimeIntrusionDetector:\n",
    "    def __init__(self, threshold=10, time_window=10, log_file=\"intrusion.log\"):\n",
    "        \"\"\"\n",
    "        threshold: Максимальное количество пакетов от одного IP в пределах временного окна.\n",
    "        time_window: Временное окно для анализа частоты пакетов (в секундах).\n",
    "        log_file: Файл для записи логов о вторжениях.\n",
    "        \"\"\"\n",
    "        self.threshold = threshold\n",
    "        self.time_window = time_window\n",
    "        self.ip_timestamps = defaultdict(list)\n",
    "        \n",
    "        # Настройка логирования\n",
    "        logging.basicConfig(\n",
    "            filename=log_file,\n",
    "            level=logging.INFO,\n",
    "            format=\"%(asctime)s - %(message)s\"\n",
    "        )\n",
    "        print(f\"Логирование настроено. Логи записываются в {log_file}.\")\n",
    "\n",
    "    def detect_anomaly(self, packet):\n",
    "        \"\"\"\n",
    "        Анализ пакетов для обнаружения аномалий.\n",
    "        Проверяется частота пакетов от одного IP-адреса в пределах временного окна.\n",
    "        \"\"\"\n",
    "        if IP in packet:\n",
    "            src_ip = packet[IP].src\n",
    "            current_time = time.time()\n",
    "\n",
    "            # Удаление старых временных меток\n",
    "            self.ip_timestamps[src_ip] = [\n",
    "                ts for ts in self.ip_timestamps[src_ip]\n",
    "                if current_time - ts <= self.time_window\n",
    "            ]\n",
    "\n",
    "            # Добавление текущей временной метки\n",
    "            self.ip_timestamps[src_ip].append(current_time)\n",
    "\n",
    "            # Проверка порогового значения\n",
    "            if len(self.ip_timestamps[src_ip]) > self.threshold:\n",
    "                return True, src_ip\n",
    "\n",
    "        return False, None\n",
    "\n",
    "    def packet_handler(self, packet):\n",
    "        \"\"\"\n",
    "        Обработка каждого сетевого пакета.\n",
    "        Если аномалия обнаружена, она логируется и выводится в консоль.\n",
    "        \"\"\"\n",
    "        anomaly_detected, src_ip = self.detect_anomaly(packet)\n",
    "        if anomaly_detected:\n",
    "            message = f\"Вторжение обнаружено! Источник: {src_ip}.\"\n",
    "            print(message)\n",
    "            logging.info(message)\n",
    "\n",
    "    def sniff_traffic(self, duration=30):\n",
    "        \"\"\"\n",
    "        Захват трафика с ограничением по времени.\n",
    "        duration: Время захвата трафика (в секундах).\n",
    "        \"\"\"\n",
    "        print(f\"Мониторинг сетевого трафика в течение {duration} секунд...\")\n",
    "        sniff(prn=self.packet_handler, store=False, timeout=duration)\n",
    "        print(\"Мониторинг завершён.\")\n"
   ]
  },
  {
   "cell_type": "code",
   "execution_count": 6,
   "id": "24f2521d",
   "metadata": {},
   "outputs": [
    {
     "name": "stdout",
     "output_type": "stream",
     "text": [
      "Логирование настроено. Логи записываются в intrusion.log.\n",
      "Мониторинг сетевого трафика в течение 5 секунд...\n",
      "Вторжение обнаружено! Источник: 192.168.76.18.\n",
      "Вторжение обнаружено! Источник: 192.168.76.18.\n",
      "Вторжение обнаружено! Источник: 192.168.76.18.\n",
      "Вторжение обнаружено! Источник: 192.168.76.18.\n",
      "Вторжение обнаружено! Источник: 192.168.76.18.\n",
      "Вторжение обнаружено! Источник: 192.168.76.18.\n",
      "Вторжение обнаружено! Источник: 192.168.76.18.\n",
      "Вторжение обнаружено! Источник: 192.168.76.18.\n",
      "Вторжение обнаружено! Источник: 192.168.76.18.\n",
      "Вторжение обнаружено! Источник: 192.168.76.18.\n",
      "Вторжение обнаружено! Источник: 192.168.76.18.\n",
      "Вторжение обнаружено! Источник: 192.168.76.18.\n",
      "Вторжение обнаружено! Источник: 192.168.76.18.\n",
      "Вторжение обнаружено! Источник: 192.168.76.18.\n",
      "Вторжение обнаружено! Источник: 192.168.76.18.\n",
      "Вторжение обнаружено! Источник: 192.168.76.18.\n",
      "Вторжение обнаружено! Источник: 192.168.76.18.\n",
      "Вторжение обнаружено! Источник: 192.168.76.18.\n",
      "Вторжение обнаружено! Источник: 192.168.76.18.\n",
      "Вторжение обнаружено! Источник: 192.168.76.18.\n",
      "Вторжение обнаружено! Источник: 192.168.76.18.\n",
      "Вторжение обнаружено! Источник: 192.168.76.18.\n",
      "Вторжение обнаружено! Источник: 192.168.76.18.\n",
      "Вторжение обнаружено! Источник: 192.168.76.18.\n",
      "Вторжение обнаружено! Источник: 192.168.76.18.\n",
      "Вторжение обнаружено! Источник: 192.168.76.18.\n",
      "Вторжение обнаружено! Источник: 192.168.76.18.\n",
      "Вторжение обнаружено! Источник: 192.168.76.18.\n",
      "Вторжение обнаружено! Источник: 192.168.76.18.\n",
      "Вторжение обнаружено! Источник: 192.168.76.18.\n",
      "Вторжение обнаружено! Источник: 192.168.76.18.\n",
      "Вторжение обнаружено! Источник: 192.168.76.18.\n",
      "Вторжение обнаружено! Источник: 192.168.76.18.\n",
      "Вторжение обнаружено! Источник: 192.168.76.18.\n",
      "Мониторинг завершён.\n"
     ]
    }
   ],
   "source": [
    "if __name__ == '__main__':\n",
    "    detector = RealTimeIntrusionDetector(threshold=10, time_window=10, log_file=\"intrusion.log\")\n",
    "    detector.sniff_traffic(duration=5)  # Мониторинг определенного времени\n"
   ]
  },
  {
   "cell_type": "markdown",
   "id": "5dcc648b",
   "metadata": {},
   "source": [
    "### Приведённая выше программа предназначена для создания базовой системы обнаружения вторжений в реальном времени с помощью Python. Основная библиотека, которую мы используем для перехвата пакетов, - Scapy"
   ]
  },
  {
   "cell_type": "markdown",
   "id": "10f1236c",
   "metadata": {},
   "source": [
    "### Логи записываются в файл intrusion.log. После завершения программы, откроем файл intrusion.log, чтобы увидеть обнаруженные аномалии."
   ]
  },
  {
   "cell_type": "code",
   "execution_count": null,
   "id": "5945d718",
   "metadata": {},
   "outputs": [],
   "source": []
  }
 ],
 "metadata": {
  "kernelspec": {
   "display_name": "Python 3 (ipykernel)",
   "language": "python",
   "name": "python3"
  },
  "language_info": {
   "codemirror_mode": {
    "name": "ipython",
    "version": 3
   },
   "file_extension": ".py",
   "mimetype": "text/x-python",
   "name": "python",
   "nbconvert_exporter": "python",
   "pygments_lexer": "ipython3",
   "version": "3.10.9"
  }
 },
 "nbformat": 4,
 "nbformat_minor": 5
}
