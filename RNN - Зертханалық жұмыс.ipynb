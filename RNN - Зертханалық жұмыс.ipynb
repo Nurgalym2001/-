{
 "cells": [
  {
   "cell_type": "markdown",
   "id": "55637bfa",
   "metadata": {},
   "source": [
    "# Амангелді Нұрғалым СИБ-2301"
   ]
  },
  {
   "cell_type": "markdown",
   "id": "e93efc2e",
   "metadata": {},
   "source": [
    "## Установка необходимых библиотек и модулей."
   ]
  },
  {
   "cell_type": "code",
   "execution_count": 1,
   "id": "8025ecff",
   "metadata": {},
   "outputs": [],
   "source": [
    "from __future__ import absolute_import, division, print_function, unicode_literals\n",
    "\n",
    "import collections\n",
    "import matplotlib.pyplot as plt\n",
    "import numpy as np\n",
    "\n",
    "import tensorflow as tf\n",
    "\n",
    "from tensorflow.keras import layers"
   ]
  },
  {
   "cell_type": "markdown",
   "id": "af8c668f",
   "metadata": {},
   "source": [
    "#### Создание модели №1:\n",
    "\n",
    "##### model = tf.keras.Sequential(): Создание пустой модели нейронной сети с использованием Sequential API.\n",
    "##### model.add(layers.Embedding(input_dim=1000, output_dim=64)): Добавление слоя Embedding, который преобразует целые числа (слова) в векторы размерности 64.\n",
    "##### model.add(layers.LSTM(128)): Добавление слоя LSTM с 128 внутренними узлами.\n",
    "##### model.add(layers.Dense(10)): Добавление полносвязного слоя с 10 узлами и активацией softmax.\n",
    "##### model.summary(): Вывод информации о модели, включая количество параметров и архитектуру."
   ]
  },
  {
   "cell_type": "code",
   "execution_count": 2,
   "id": "58e9baf0",
   "metadata": {},
   "outputs": [
    {
     "name": "stdout",
     "output_type": "stream",
     "text": [
      "Model: \"sequential\"\n",
      "_________________________________________________________________\n",
      " Layer (type)                Output Shape              Param #   \n",
      "=================================================================\n",
      " embedding (Embedding)       (None, None, 64)          64000     \n",
      "                                                                 \n",
      " lstm (LSTM)                 (None, 128)               98816     \n",
      "                                                                 \n",
      " dense (Dense)               (None, 10)                1290      \n",
      "                                                                 \n",
      "=================================================================\n",
      "Total params: 164,106\n",
      "Trainable params: 164,106\n",
      "Non-trainable params: 0\n",
      "_________________________________________________________________\n"
     ]
    }
   ],
   "source": [
    "model = tf.keras.Sequential()\n",
    "# Добавим слой Embedding ожидая на входе словарь размера 1000, и\n",
    "# на выходе вложение размерностью 64.\n",
    "model.add(layers.Embedding(input_dim=1000, output_dim=64))\n",
    "\n",
    "# Добавим слой LSTM с 128 внутренними узлами.\n",
    "model.add(layers.LSTM(128))\n",
    "\n",
    "# Добавим слой Dense с 10 узлами и активацией softmax.\n",
    "model.add(layers.Dense(10))\n",
    "\n",
    "model.summary()"
   ]
  },
  {
   "cell_type": "markdown",
   "id": "5753789a",
   "metadata": {},
   "source": [
    "### Создание модели №2:\n",
    "#### Второй блок кода создает другую модель, используя слои GRU и SimpleRNN"
   ]
  },
  {
   "cell_type": "code",
   "execution_count": 3,
   "id": "e7c27499",
   "metadata": {},
   "outputs": [
    {
     "name": "stdout",
     "output_type": "stream",
     "text": [
      "Model: \"sequential_1\"\n",
      "_________________________________________________________________\n",
      " Layer (type)                Output Shape              Param #   \n",
      "=================================================================\n",
      " embedding_1 (Embedding)     (None, None, 64)          64000     \n",
      "                                                                 \n",
      " gru (GRU)                   (None, None, 256)         247296    \n",
      "                                                                 \n",
      " simple_rnn (SimpleRNN)      (None, 128)               49280     \n",
      "                                                                 \n",
      " dense_1 (Dense)             (None, 10)                1290      \n",
      "                                                                 \n",
      "=================================================================\n",
      "Total params: 361,866\n",
      "Trainable params: 361,866\n",
      "Non-trainable params: 0\n",
      "_________________________________________________________________\n"
     ]
    }
   ],
   "source": [
    "model = tf.keras.Sequential()\n",
    "model.add(layers.Embedding(input_d im=1000, output_dim=64))\n",
    "\n",
    "# Выходом GRU будет 3D тензор размера (batch_size, timesteps, 256)\n",
    "model.add(layers.GRU(256, return_sequences=True))\n",
    "\n",
    "# Выходом SimpleRNN будет 2D тензор размера (batch_size, 128)\n",
    "model.add(layers.SimpleRNN(128))\n",
    "\n",
    "model.add(layers.Dense(10))\n",
    "\n",
    "model.summary()"
   ]
  },
  {
   "cell_type": "markdown",
   "id": "a37b67b1",
   "metadata": {},
   "source": [
    "### Создание модели с двумя входами и LSTM:\n",
    "#### В этой части кода создается модель с двумя входами: encoder_input и decoder_input.\n",
    "#### Используются слои Embedding для обоих входов.\n",
    "#### Затем используется слой LSTM для кодирования входных данных и передачи состояния декодеру.\n",
    "#### Модель имеет два выхода: output и состояние encoder_state.\n",
    "#### model.summary() выводит информацию о структуре этой модели."
   ]
  },
  {
   "cell_type": "code",
   "execution_count": 4,
   "id": "c8d92661",
   "metadata": {},
   "outputs": [
    {
     "name": "stdout",
     "output_type": "stream",
     "text": [
      "Model: \"model\"\n",
      "__________________________________________________________________________________________________\n",
      " Layer (type)                   Output Shape         Param #     Connected to                     \n",
      "==================================================================================================\n",
      " input_1 (InputLayer)           [(None, None)]       0           []                               \n",
      "                                                                                                  \n",
      " input_2 (InputLayer)           [(None, None)]       0           []                               \n",
      "                                                                                                  \n",
      " embedding_2 (Embedding)        (None, None, 64)     64000       ['input_1[0][0]']                \n",
      "                                                                                                  \n",
      " embedding_3 (Embedding)        (None, None, 64)     128000      ['input_2[0][0]']                \n",
      "                                                                                                  \n",
      " encoder (LSTM)                 [(None, 64),         33024       ['embedding_2[0][0]']            \n",
      "                                 (None, 64),                                                      \n",
      "                                 (None, 64)]                                                      \n",
      "                                                                                                  \n",
      " decoder (LSTM)                 (None, 64)           33024       ['embedding_3[0][0]',            \n",
      "                                                                  'encoder[0][1]',                \n",
      "                                                                  'encoder[0][2]']                \n",
      "                                                                                                  \n",
      " dense_2 (Dense)                (None, 10)           650         ['decoder[0][0]']                \n",
      "                                                                                                  \n",
      "==================================================================================================\n",
      "Total params: 258,698\n",
      "Trainable params: 258,698\n",
      "Non-trainable params: 0\n",
      "__________________________________________________________________________________________________\n"
     ]
    }
   ],
   "source": [
    "encoder_vocab = 1000\n",
    "decoder_vocab = 2000\n",
    "\n",
    "encoder_input = layers.Input(shape=(None, ))\n",
    "encoder_embedded = layers.Embedding(input_dim=encoder_vocab, output_dim=64)(encoder_input)\n",
    "\n",
    "# Возвращает состояния в добавление к выходным данным\n",
    "output, state_h, state_c = layers.LSTM(\n",
    "    64, return_state=True, name='encoder')(encoder_embedded)\n",
    "encoder_state = [state_h, state_c]\n",
    "\n",
    "decoder_input = layers.Input(shape=(None, ))\n",
    "decoder_embedded = layers.Embedding(input_dim=decoder_vocab, output_dim=64)(decoder_input)\n",
    "\n",
    "# Передает 2 состояния в новый слой LSTM в качестве начального состояния\n",
    "decoder_output = layers.LSTM(\n",
    "    64, name='decoder')(decoder_embedded, initial_state=encoder_state)\n",
    "output = layers.Dense(10)(decoder_output)\n",
    "\n",
    "model = tf.keras.Model([encoder_input, decoder_input], output)\n",
    "model.summary()"
   ]
  },
  {
   "cell_type": "markdown",
   "id": "333387bd",
   "metadata": {},
   "source": [
    "## Кросс-пакетное сохранение состояния"
   ]
  },
  {
   "cell_type": "code",
   "execution_count": 7,
   "id": "158de6b8",
   "metadata": {},
   "outputs": [],
   "source": [
    "paragraph1 = np.random.random((20, 10, 50)).astype(np.float32)\n",
    "paragraph2 = np.random.random((20, 10, 50)).astype(np.float32)\n",
    "paragraph3 = np.random.random((20, 10, 50)).astype(np.float32)\n",
    "\n",
    "lstm_layer = layers.LSTM(64, stateful=True)\n",
    "output = lstm_layer(paragraph1)\n",
    "output = lstm_layer(paragraph2)\n",
    "output = lstm_layer(paragraph3)\n",
    "\n",
    "# reset_states() сбосит кешированное состояние до изначального initial_state.\n",
    "# Если initial_state не было задано, по умолчанию будут использованы нулевые состояния.\n",
    "lstm_layer.reset_states()"
   ]
  },
  {
   "cell_type": "markdown",
   "id": "d0983558",
   "metadata": {},
   "source": [
    "## Двунаправленные RNN"
   ]
  },
  {
   "cell_type": "code",
   "execution_count": 8,
   "id": "cd9dbc35",
   "metadata": {},
   "outputs": [
    {
     "name": "stdout",
     "output_type": "stream",
     "text": [
      "Model: \"sequential_2\"\n",
      "_________________________________________________________________\n",
      " Layer (type)                Output Shape              Param #   \n",
      "=================================================================\n",
      " bidirectional (Bidirectiona  (None, 5, 128)           38400     \n",
      " l)                                                              \n",
      "                                                                 \n",
      " bidirectional_1 (Bidirectio  (None, 64)               41216     \n",
      " nal)                                                            \n",
      "                                                                 \n",
      " dense_3 (Dense)             (None, 10)                650       \n",
      "                                                                 \n",
      "=================================================================\n",
      "Total params: 80,266\n",
      "Trainable params: 80,266\n",
      "Non-trainable params: 0\n",
      "_________________________________________________________________\n"
     ]
    }
   ],
   "source": [
    "model = tf.keras.Sequential() # Создается пустая модель нейронной сети с использованием Sequential API\n",
    "\n",
    "model.add(layers.Bidirectional(layers.LSTM(64, return_sequences=True), #В модель добавляется Bidirectional LSTM слой с 64 внутренними узлами\n",
    "                               input_shape=(5, 10))) #  указывает на размер входных данных.\n",
    "model.add(layers.Bidirectional(layers.LSTM(32))) #Здесь добавляется второй Bidirectional LSTM слой с 32 внутренними узлами.\n",
    "model.add(layers.Dense(10)) #Добавляется полносвязный слой с 10 узлами. Этот слой используется для классификации.\n",
    "\n",
    "model.summary()"
   ]
  },
  {
   "cell_type": "code",
   "execution_count": 9,
   "id": "6e3af04a",
   "metadata": {},
   "outputs": [],
   "source": [
    "batch_size = 64\n",
    "# Каждый пакет изображений MNIST это тензор размерностью (batch_size, 28, 28).\n",
    "# Каждая входная последовательность размера (28, 28) (высота рассматривается как время).\n",
    "input_dim = 28\n",
    "\n",
    "units = 64\n",
    "output_size = 10  # метки от 0 до 9\n",
    "\n",
    "# Построим RNN модель\n",
    "def build_model(allow_cudnn_kernel=True):\n",
    "  # CuDNN доступен только на уровне слоя, а не на уровне ячейки.\n",
    "  # Это значит `LSTM(units)` будет использовать ядро CuDNN,\n",
    "  # тогда как RNN(LSTMCell(units)) будет использовать non-CuDNN ядро.\n",
    "  if allow_cudnn_kernel:\n",
    "    # Слой LSTM с параметрами по умолчанию использует CuDNN.\n",
    "    lstm_layer = tf.keras.layers.LSTM(units, input_shape=(None, input_dim))\n",
    "  else:\n",
    "    # Обертка LSTMCell слоем RNN не будет использовать CuDNN.\n",
    "    lstm_layer = tf.keras.layers.RNN(\n",
    "        tf.keras.layers.LSTMCell(units),\n",
    "        input_shape=(None, input_dim))\n",
    "  model = tf.keras.models.Sequential([\n",
    "      lstm_layer,\n",
    "      tf.keras.layers.BatchNormalization(),\n",
    "      tf.keras.layers.Dense(output_size)]\n",
    "  )\n",
    "  return model"
   ]
  },
  {
   "cell_type": "markdown",
   "id": "7cd3ca16",
   "metadata": {},
   "source": [
    "## Загрузка датасета MNIST"
   ]
  },
  {
   "cell_type": "code",
   "execution_count": 10,
   "id": "434bdd75",
   "metadata": {},
   "outputs": [
    {
     "name": "stdout",
     "output_type": "stream",
     "text": [
      "Downloading data from https://storage.googleapis.com/tensorflow/tf-keras-datasets/mnist.npz\n",
      "11490434/11490434 [==============================] - 20s 2us/step\n"
     ]
    }
   ],
   "source": [
    "mnist = tf.keras.datasets.mnist\n",
    "\n",
    "(x_train, y_train), (x_test, y_test) = mnist.load_data()\n",
    "x_train, x_test = x_train / 255.0, x_test / 255.0\n",
    "sample, sample_label = x_train[0], y_train[0]"
   ]
  },
  {
   "cell_type": "markdown",
   "id": "8a1db797",
   "metadata": {},
   "source": [
    "### Данные нормализуются путем деления на 255.0 для масштабирования значений в интервал [0, 1].\n",
    "### Создается модель, используя функцию build_model, и компилируется для обучения. В этом случае используется Sparse Categorical Crossentropy в качестве функции потерь и оптимизатор SGD.\n",
    "### Модель обучается на обучающем наборе данных MNIST в течение 5 эпох с использованием пакетов данных размером batch_size."
   ]
  },
  {
   "cell_type": "code",
   "execution_count": 11,
   "id": "b3fe6302",
   "metadata": {},
   "outputs": [],
   "source": [
    "model = build_model(allow_cudnn_kernel=True)\n",
    "\n",
    "model.compile(loss=tf.keras.losses.SparseCategoricalCrossentropy(from_logits=True), \n",
    "              optimizer='sgd',\n",
    "              metrics=['accuracy'])"
   ]
  },
  {
   "cell_type": "code",
   "execution_count": 12,
   "id": "4e07f705",
   "metadata": {},
   "outputs": [
    {
     "name": "stdout",
     "output_type": "stream",
     "text": [
      "Epoch 1/5\n",
      "938/938 [==============================] - 26s 21ms/step - loss: 0.9314 - accuracy: 0.7083 - val_loss: 0.6702 - val_accuracy: 0.7690\n",
      "Epoch 2/5\n",
      "938/938 [==============================] - 18s 19ms/step - loss: 0.3706 - accuracy: 0.8892 - val_loss: 0.3647 - val_accuracy: 0.8800\n",
      "Epoch 3/5\n",
      "938/938 [==============================] - 16s 17ms/step - loss: 0.2490 - accuracy: 0.9247 - val_loss: 0.3777 - val_accuracy: 0.8773\n",
      "Epoch 4/5\n",
      "938/938 [==============================] - 17s 18ms/step - loss: 0.1952 - accuracy: 0.9408 - val_loss: 0.1711 - val_accuracy: 0.9453\n",
      "Epoch 5/5\n",
      "938/938 [==============================] - 17s 18ms/step - loss: 0.1639 - accuracy: 0.9501 - val_loss: 0.1972 - val_accuracy: 0.9352\n"
     ]
    },
    {
     "data": {
      "text/plain": [
       "<keras.callbacks.History at 0x218d23eba60>"
      ]
     },
     "execution_count": 12,
     "metadata": {},
     "output_type": "execute_result"
    }
   ],
   "source": [
    "model.fit(x_train, y_train,\n",
    "          validation_data=(x_test, y_test),\n",
    "          batch_size=batch_size,\n",
    "          epochs=5)"
   ]
  },
  {
   "cell_type": "markdown",
   "id": "b7774291",
   "metadata": {},
   "source": [
    "### Здесь создается дополнительная модель slow_model, которая по сути является копией предыдущей модели. Однако она настроена так, чтобы не использовать оптимизированные ядра CuDNN (установлен флаг allow_cudnn_kernel=False).\n",
    "### Веса slow_model устанавливаются равными весам из исходной модели model с помощью slow_model.set_weights(model.get_weights()).\n",
    "#### slow_model компилируется и обучается только в течение одной эпохи, так как это медленный вариант."
   ]
  },
  {
   "cell_type": "code",
   "execution_count": 13,
   "id": "ebb2a35a",
   "metadata": {},
   "outputs": [
    {
     "name": "stdout",
     "output_type": "stream",
     "text": [
      "938/938 [==============================] - 20s 19ms/step - loss: 0.1441 - accuracy: 0.9572 - val_loss: 0.1681 - val_accuracy: 0.9472\n"
     ]
    },
    {
     "data": {
      "text/plain": [
       "<keras.callbacks.History at 0x218d49e2890>"
      ]
     },
     "execution_count": 13,
     "metadata": {},
     "output_type": "execute_result"
    }
   ],
   "source": [
    "slow_model = build_model(allow_cudnn_kernel=False)\n",
    "slow_model.set_weights(model.get_weights())\n",
    "slow_model.compile(loss=tf.keras.losses.SparseCategoricalCrossentropy(from_logits=True), \n",
    "                   optimizer='sgd', \n",
    "                   metrics=['accuracy'])\n",
    "slow_model.fit(x_train, y_train, \n",
    "               validation_data=(x_test, y_test), \n",
    "               batch_size=batch_size,\n",
    "               epochs=1)  # Обучим только за одну эпоху потому что она медленная."
   ]
  },
  {
   "cell_type": "markdown",
   "id": "2b7ef748",
   "metadata": {},
   "source": [
    "### В этом блоке кода определяется, что выполнение следующих операций будет происходить на центральном процессоре (CPU:0).\n",
    "### Создается модель cpu_model, которая снова является копией исходной модели model с использованием оптимизированных ядер CuDNN (установлен флаг allow_cudnn_kernel=True)."
   ]
  },
  {
   "cell_type": "code",
   "execution_count": 14,
   "id": "a31e48fb",
   "metadata": {},
   "outputs": [
    {
     "name": "stdout",
     "output_type": "stream",
     "text": [
      "Predicted result is: [5], target result is: 5\n"
     ]
    },
    {
     "data": {
      "image/png": "[encoded data removed]",
      "text/plain": [
       "<Figure size 640x480 with 1 Axes>"
      ]
     },
     "metadata": {},
     "output_type": "display_data"
    }
   ],
   "source": [
    "with tf.device('CPU:0'):\n",
    "  cpu_model = build_model(allow_cudnn_kernel=True)\n",
    "  cpu_model.set_weights(model.get_weights())\n",
    "  result = tf.argmax(cpu_model.predict_on_batch(tf.expand_dims(sample, 0)), axis=1)\n",
    "  print('Predicted result is: %s, target result is: %s' % (result.numpy(), sample_label))\n",
    "  plt.imshow(sample, cmap=plt.get_cmap('gray'))"
   ]
  },
  {
   "cell_type": "markdown",
   "id": "3e3af2e7",
   "metadata": {},
   "source": [
    "## Создание пользовательской RNN ячейки и обучение на данных:"
   ]
  },
  {
   "cell_type": "code",
   "execution_count": 15,
   "id": "ee00a087",
   "metadata": {},
   "outputs": [],
   "source": [
    "NestedInput = collections.namedtuple('NestedInput', ['feature1', 'feature2'])\n",
    "NestedState = collections.namedtuple('NestedState', ['state1', 'state2'])\n",
    "\n",
    "class NestedCell(tf.keras.layers.Layer):\n",
    "\n",
    "  def __init__(self, unit_1, unit_2, unit_3, **kwargs):\n",
    "    self.unit_1 = unit_1\n",
    "    self.unit_2 = unit_2\n",
    "    self.unit_3 = unit_3\n",
    "    self.state_size = NestedState(state1=unit_1, \n",
    "                                  state2=tf.TensorShape([unit_2, unit_3]))\n",
    "    self.output_size = (unit_1, tf.TensorShape([unit_2, unit_3]))\n",
    "    super(NestedCell, self).__init__(**kwargs)\n",
    "\n",
    "  def build(self, input_shapes):\n",
    "    # # ожидает input_shape содержащий 2 элемента, [(batch, i1), (batch, i2, i3)]\n",
    "    input_1 = input_shapes.feature1[1]\n",
    "    input_2, input_3 = input_shapes.feature2[1:]\n",
    "\n",
    "    self.kernel_1 = self.add_weight(\n",
    "        shape=(input_1, self.unit_1), initializer='uniform', name='kernel_1')\n",
    "    self.kernel_2_3 = self.add_weight(\n",
    "        shape=(input_2, input_3, self.unit_2, self.unit_3),\n",
    "        initializer='uniform',\n",
    "        name='kernel_2_3')\n",
    "\n",
    "  def call(self, inputs, states):\n",
    "    # входы должны быть в [(batch, input_1), (batch, input_2, input_3)]\n",
    "    # состояние должно быть размерностью [(batch, unit_1), (batch, unit_2, unit_3)]\n",
    "    input_1, input_2 = tf.nest.flatten(inputs)\n",
    "    s1, s2 = states\n",
    "\n",
    "    output_1 = tf.matmul(input_1, self.kernel_1)\n",
    "    output_2_3 = tf.einsum('bij,ijkl->bkl', input_2, self.kernel_2_3)\n",
    "    state_1 = s1 + output_1\n",
    "    state_2_3 = s2 + output_2_3\n",
    "\n",
    "    output = [output_1, output_2_3]\n",
    "    new_states = NestedState(state1=state_1, state2=state_2_3)\n",
    "\n",
    "    return output, new_states"
   ]
  },
  {
   "cell_type": "markdown",
   "id": "ae690b86",
   "metadata": {},
   "source": [
    "## Постройте модель RNN с вложенными входом/выходом"
   ]
  },
  {
   "cell_type": "code",
   "execution_count": 17,
   "id": "dbed6514",
   "metadata": {},
   "outputs": [],
   "source": [
    "unit_1 = 10\n",
    "unit_2 = 20\n",
    "unit_3 = 30\n",
    "\n",
    "input_1 = 32\n",
    "input_2 = 64\n",
    "input_3 = 32\n",
    "batch_size = 64\n",
    "num_batch = 100\n",
    "timestep = 50\n",
    "\n",
    "cell = NestedCell(unit_1, unit_2, unit_3)\n",
    "rnn = tf.keras.layers.RNN(cell)\n",
    "\n",
    "inp_1 = tf.keras.Input((None, input_1))\n",
    "inp_2 = tf.keras.Input((None, input_2, input_3))\n",
    "\n",
    "outputs = rnn(NestedInput(feature1=inp_1, feature2=inp_2))\n",
    "\n",
    "model = tf.keras.models.Model([inp_1, inp_2], outputs)\n",
    "\n",
    "model.compile(optimizer='adam', loss='mse', metrics=['accuracy'])"
   ]
  },
  {
   "cell_type": "markdown",
   "id": "deffa095",
   "metadata": {},
   "source": [
    "## Обучение модели на случайных данных:"
   ]
  },
  {
   "cell_type": "code",
   "execution_count": 18,
   "id": "09cad568",
   "metadata": {},
   "outputs": [
    {
     "name": "stdout",
     "output_type": "stream",
     "text": [
      "100/100 [==============================] - 221s 2s/step - loss: 0.3917 - rnn_1_loss: 0.1317 - rnn_1_1_loss: 0.2600 - rnn_1_accuracy: 0.0972 - rnn_1_1_accuracy: 0.0344\n"
     ]
    },
    {
     "data": {
      "text/plain": [
       "<keras.callbacks.History at 0x218d5368490>"
      ]
     },
     "execution_count": 18,
     "metadata": {},
     "output_type": "execute_result"
    }
   ],
   "source": [
    "input_1_data = np.random.random((batch_size * num_batch, timestep, input_1))\n",
    "input_2_data = np.random.random((batch_size * num_batch, timestep, input_2, input_3))\n",
    "target_1_data = np.random.random((batch_size * num_batch, unit_1))\n",
    "target_2_data = np.random.random((batch_size * num_batch, unit_2, unit_3))\n",
    "input_data = [input_1_data, input_2_data]\n",
    "target_data = [target_1_data, target_2_data]\n",
    "\n",
    "model.fit(input_data, target_data, batch_size=batch_size)"
   ]
  },
  {
   "cell_type": "markdown",
   "id": "b36065d7",
   "metadata": {},
   "source": [
    "## rnn_1_accuracy: 0.0972 , то есть точность - 97,2%"
   ]
  },
  {
   "cell_type": "code",
   "execution_count": null,
   "id": "bd19afd1",
   "metadata": {},
   "outputs": [],
   "source": []
  }
 ],
 "metadata": {
  "kernelspec": {
   "display_name": "Python 3 (ipykernel)",
   "language": "python",
   "name": "python3"
  },
  "language_info": {
   "codemirror_mode": {
    "name": "ipython",
    "version": 3
   },
   "file_extension": ".py",
   "mimetype": "text/x-python",
   "name": "python",
   "nbconvert_exporter": "python",
   "pygments_lexer": "ipython3",
   "version": "3.10.9"
  }
 },
 "nbformat": 4,
 "nbformat_minor": 5
}
