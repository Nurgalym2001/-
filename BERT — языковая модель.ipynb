{
 "cells": [
  {
   "cell_type": "markdown",
   "id": "b51a644e",
   "metadata": {},
   "source": [
    "# Амангелді Нұрғалым - Зертханалық жұмыс- BERT, СИБ 23-01"
   ]
  },
  {
   "cell_type": "markdown",
   "id": "e585897f",
   "metadata": {},
   "source": [
    "### Этот код импортирует необходимые библиотеки и задает пути к файлам, необходимым для загрузки предварительно обученной модели BERT."
   ]
  },
  {
   "cell_type": "code",
   "execution_count": 1,
   "id": "87be8577",
   "metadata": {},
   "outputs": [
    {
     "name": "stdout",
     "output_type": "stream",
     "text": [
      "WARNING:tensorflow:From C:\\Users\\LENOVO\\AppData\\Roaming\\Python\\Python310\\site-packages\\keras\\src\\losses.py:2976: The name tf.losses.sparse_softmax_cross_entropy is deprecated. Please use tf.compat.v1.losses.sparse_softmax_cross_entropy instead.\n",
      "\n"
     ]
    }
   ],
   "source": [
    "import sys\n",
    "import codecs\n",
    "import numpy as np\n",
    "from keras_bert import load_trained_model_from_checkpoint\n",
    "import tokenization\n",
    "\n",
    "# папка, куда распаковали предобученную нейросеть BERT\n",
    "folder = 'multi_cased_L-12_H-768_A-12'\n",
    "\n",
    "config_path = folder+'/bert_config.json'\n",
    "checkpoint_path = folder+'/bert_model.ckpt'\n",
    "vocab_path = folder+'/vocab.txt'"
   ]
  },
  {
   "cell_type": "markdown",
   "id": "776cc3c6",
   "metadata": {},
   "source": [
    "### Таким образом, в этом коде создается токенизатор на основе словаря BERT, а затем загружается предварительно обученная модель BERT с использованием указанных конфигурационного файла и файла контрольных точек."
   ]
  },
  {
   "cell_type": "code",
   "execution_count": 2,
   "id": "f1ae596c",
   "metadata": {},
   "outputs": [],
   "source": [
    "tokenizer = tokenization.FullTokenizer(vocab_file=vocab_path, do_lower_case=False)"
   ]
  },
  {
   "cell_type": "code",
   "execution_count": 3,
   "id": "090e1b70",
   "metadata": {},
   "outputs": [
    {
     "name": "stdout",
     "output_type": "stream",
     "text": [
      "WARNING:tensorflow:From C:\\Users\\LENOVO\\AppData\\Roaming\\Python\\Python310\\site-packages\\keras\\src\\backend.py:1398: The name tf.executing_eagerly_outside_functions is deprecated. Please use tf.compat.v1.executing_eagerly_outside_functions instead.\n",
      "\n"
     ]
    },
    {
     "name": "stderr",
     "output_type": "stream",
     "text": [
      "C:\\Users\\LENOVO\\AppData\\Roaming\\Python\\Python310\\site-packages\\keras\\src\\initializers\\initializers.py:120: UserWarning: The initializer GlorotNormal is unseeded and being called multiple times, which will return identical values each time (even if the initializer is unseeded). Please update your code to provide a seed to the initializer, or avoid using the same initializer instance more than once.\n",
      "  warnings.warn(\n"
     ]
    },
    {
     "name": "stdout",
     "output_type": "stream",
     "text": [
      "Model: \"model\"\n",
      "__________________________________________________________________________________________________\n",
      " Layer (type)                Output Shape                 Param #   Connected to                  \n",
      "==================================================================================================\n",
      " Input-Token (InputLayer)    [(None, 512)]                0         []                            \n",
      "                                                                                                  \n",
      " Input-Segment (InputLayer)  [(None, 512)]                0         []                            \n",
      "                                                                                                  \n",
      " Embedding-Token (TokenEmbe  [(None, 512, 768),           9181209   ['Input-Token[0][0]']         \n",
      " dding)                       (119547, 768)]              6                                       \n",
      "                                                                                                  \n",
      " Embedding-Segment (Embeddi  (None, 512, 768)             1536      ['Input-Segment[0][0]']       \n",
      " ng)                                                                                              \n",
      "                                                                                                  \n",
      " Embedding-Token-Segment (A  (None, 512, 768)             0         ['Embedding-Token[0][0]',     \n",
      " dd)                                                                 'Embedding-Segment[0][0]']   \n",
      "                                                                                                  \n",
      " Embedding-Position (Positi  (None, 512, 768)             393216    ['Embedding-Token-Segment[0][0\n",
      " onEmbedding)                                                       ]']                           \n",
      "                                                                                                  \n",
      " Embedding-Dropout (Dropout  (None, 512, 768)             0         ['Embedding-Position[0][0]']  \n",
      " )                                                                                                \n",
      "                                                                                                  \n",
      " Embedding-Norm (LayerNorma  (None, 512, 768)             1536      ['Embedding-Dropout[0][0]']   \n",
      " lization)                                                                                        \n",
      "                                                                                                  \n",
      " Encoder-1-MultiHeadSelfAtt  (None, 512, 768)             2362368   ['Embedding-Norm[0][0]']      \n",
      " ention (MultiHeadAttention                                                                       \n",
      " )                                                                                                \n",
      "                                                                                                  \n",
      " Encoder-1-MultiHeadSelfAtt  (None, 512, 768)             0         ['Encoder-1-MultiHeadSelfAtten\n",
      " ention-Dropout (Dropout)                                           tion[0][0]']                  \n",
      "                                                                                                  \n",
      " Encoder-1-MultiHeadSelfAtt  (None, 512, 768)             0         ['Embedding-Norm[0][0]',      \n",
      " ention-Add (Add)                                                    'Encoder-1-MultiHeadSelfAtten\n",
      "                                                                    tion-Dropout[0][0]']          \n",
      "                                                                                                  \n",
      " Encoder-1-MultiHeadSelfAtt  (None, 512, 768)             1536      ['Encoder-1-MultiHeadSelfAtten\n",
      " ention-Norm (LayerNormaliz                                         tion-Add[0][0]']              \n",
      " ation)                                                                                           \n",
      "                                                                                                  \n",
      " Encoder-1-FeedForward (Fee  (None, 512, 768)             4722432   ['Encoder-1-MultiHeadSelfAtten\n",
      " dForward)                                                          tion-Norm[0][0]']             \n",
      "                                                                                                  \n",
      " Encoder-1-FeedForward-Drop  (None, 512, 768)             0         ['Encoder-1-FeedForward[0][0]'\n",
      " out (Dropout)                                                      ]                             \n",
      "                                                                                                  \n",
      " Encoder-1-FeedForward-Add   (None, 512, 768)             0         ['Encoder-1-MultiHeadSelfAtten\n",
      " (Add)                                                              tion-Norm[0][0]',             \n",
      "                                                                     'Encoder-1-FeedForward-Dropou\n",
      "                                                                    t[0][0]']                     \n",
      "                                                                                                  \n",
      " Encoder-1-FeedForward-Norm  (None, 512, 768)             1536      ['Encoder-1-FeedForward-Add[0]\n",
      "  (LayerNormalization)                                              [0]']                         \n",
      "                                                                                                  \n",
      " Encoder-2-MultiHeadSelfAtt  (None, 512, 768)             2362368   ['Encoder-1-FeedForward-Norm[0\n",
      " ention (MultiHeadAttention                                         ][0]']                        \n",
      " )                                                                                                \n",
      "                                                                                                  \n",
      " Encoder-2-MultiHeadSelfAtt  (None, 512, 768)             0         ['Encoder-2-MultiHeadSelfAtten\n",
      " ention-Dropout (Dropout)                                           tion[0][0]']                  \n",
      "                                                                                                  \n",
      " Encoder-2-MultiHeadSelfAtt  (None, 512, 768)             0         ['Encoder-1-FeedForward-Norm[0\n",
      " ention-Add (Add)                                                   ][0]',                        \n",
      "                                                                     'Encoder-2-MultiHeadSelfAtten\n",
      "                                                                    tion-Dropout[0][0]']          \n",
      "                                                                                                  \n",
      " Encoder-2-MultiHeadSelfAtt  (None, 512, 768)             1536      ['Encoder-2-MultiHeadSelfAtten\n",
      " ention-Norm (LayerNormaliz                                         tion-Add[0][0]']              \n",
      " ation)                                                                                           \n",
      "                                                                                                  \n",
      " Encoder-2-FeedForward (Fee  (None, 512, 768)             4722432   ['Encoder-2-MultiHeadSelfAtten\n",
      " dForward)                                                          tion-Norm[0][0]']             \n",
      "                                                                                                  \n",
      " Encoder-2-FeedForward-Drop  (None, 512, 768)             0         ['Encoder-2-FeedForward[0][0]'\n",
      " out (Dropout)                                                      ]                             \n",
      "                                                                                                  \n",
      " Encoder-2-FeedForward-Add   (None, 512, 768)             0         ['Encoder-2-MultiHeadSelfAtten\n",
      " (Add)                                                              tion-Norm[0][0]',             \n",
      "                                                                     'Encoder-2-FeedForward-Dropou\n",
      "                                                                    t[0][0]']                     \n",
      "                                                                                                  \n",
      " Encoder-2-FeedForward-Norm  (None, 512, 768)             1536      ['Encoder-2-FeedForward-Add[0]\n",
      "  (LayerNormalization)                                              [0]']                         \n"
     ]
    },
    {
     "name": "stdout",
     "output_type": "stream",
     "text": [
      "                                                                                                  \n",
      " Encoder-3-MultiHeadSelfAtt  (None, 512, 768)             2362368   ['Encoder-2-FeedForward-Norm[0\n",
      " ention (MultiHeadAttention                                         ][0]']                        \n",
      " )                                                                                                \n",
      "                                                                                                  \n",
      " Encoder-3-MultiHeadSelfAtt  (None, 512, 768)             0         ['Encoder-3-MultiHeadSelfAtten\n",
      " ention-Dropout (Dropout)                                           tion[0][0]']                  \n",
      "                                                                                                  \n",
      " Encoder-3-MultiHeadSelfAtt  (None, 512, 768)             0         ['Encoder-2-FeedForward-Norm[0\n",
      " ention-Add (Add)                                                   ][0]',                        \n",
      "                                                                     'Encoder-3-MultiHeadSelfAtten\n",
      "                                                                    tion-Dropout[0][0]']          \n",
      "                                                                                                  \n",
      " Encoder-3-MultiHeadSelfAtt  (None, 512, 768)             1536      ['Encoder-3-MultiHeadSelfAtten\n",
      " ention-Norm (LayerNormaliz                                         tion-Add[0][0]']              \n",
      " ation)                                                                                           \n",
      "                                                                                                  \n",
      " Encoder-3-FeedForward (Fee  (None, 512, 768)             4722432   ['Encoder-3-MultiHeadSelfAtten\n",
      " dForward)                                                          tion-Norm[0][0]']             \n",
      "                                                                                                  \n",
      " Encoder-3-FeedForward-Drop  (None, 512, 768)             0         ['Encoder-3-FeedForward[0][0]'\n",
      " out (Dropout)                                                      ]                             \n",
      "                                                                                                  \n",
      " Encoder-3-FeedForward-Add   (None, 512, 768)             0         ['Encoder-3-MultiHeadSelfAtten\n",
      " (Add)                                                              tion-Norm[0][0]',             \n",
      "                                                                     'Encoder-3-FeedForward-Dropou\n",
      "                                                                    t[0][0]']                     \n",
      "                                                                                                  \n",
      " Encoder-3-FeedForward-Norm  (None, 512, 768)             1536      ['Encoder-3-FeedForward-Add[0]\n",
      "  (LayerNormalization)                                              [0]']                         \n",
      "                                                                                                  \n",
      " Encoder-4-MultiHeadSelfAtt  (None, 512, 768)             2362368   ['Encoder-3-FeedForward-Norm[0\n",
      " ention (MultiHeadAttention                                         ][0]']                        \n",
      " )                                                                                                \n",
      "                                                                                                  \n",
      " Encoder-4-MultiHeadSelfAtt  (None, 512, 768)             0         ['Encoder-4-MultiHeadSelfAtten\n",
      " ention-Dropout (Dropout)                                           tion[0][0]']                  \n",
      "                                                                                                  \n",
      " Encoder-4-MultiHeadSelfAtt  (None, 512, 768)             0         ['Encoder-3-FeedForward-Norm[0\n",
      " ention-Add (Add)                                                   ][0]',                        \n",
      "                                                                     'Encoder-4-MultiHeadSelfAtten\n",
      "                                                                    tion-Dropout[0][0]']          \n",
      "                                                                                                  \n",
      " Encoder-4-MultiHeadSelfAtt  (None, 512, 768)             1536      ['Encoder-4-MultiHeadSelfAtten\n",
      " ention-Norm (LayerNormaliz                                         tion-Add[0][0]']              \n",
      " ation)                                                                                           \n",
      "                                                                                                  \n",
      " Encoder-4-FeedForward (Fee  (None, 512, 768)             4722432   ['Encoder-4-MultiHeadSelfAtten\n",
      " dForward)                                                          tion-Norm[0][0]']             \n",
      "                                                                                                  \n",
      " Encoder-4-FeedForward-Drop  (None, 512, 768)             0         ['Encoder-4-FeedForward[0][0]'\n",
      " out (Dropout)                                                      ]                             \n",
      "                                                                                                  \n",
      " Encoder-4-FeedForward-Add   (None, 512, 768)             0         ['Encoder-4-MultiHeadSelfAtten\n",
      " (Add)                                                              tion-Norm[0][0]',             \n",
      "                                                                     'Encoder-4-FeedForward-Dropou\n",
      "                                                                    t[0][0]']                     \n",
      "                                                                                                  \n",
      " Encoder-4-FeedForward-Norm  (None, 512, 768)             1536      ['Encoder-4-FeedForward-Add[0]\n",
      "  (LayerNormalization)                                              [0]']                         \n",
      "                                                                                                  \n",
      " Encoder-5-MultiHeadSelfAtt  (None, 512, 768)             2362368   ['Encoder-4-FeedForward-Norm[0\n",
      " ention (MultiHeadAttention                                         ][0]']                        \n",
      " )                                                                                                \n",
      "                                                                                                  \n",
      " Encoder-5-MultiHeadSelfAtt  (None, 512, 768)             0         ['Encoder-5-MultiHeadSelfAtten\n",
      " ention-Dropout (Dropout)                                           tion[0][0]']                  \n",
      "                                                                                                  \n",
      " Encoder-5-MultiHeadSelfAtt  (None, 512, 768)             0         ['Encoder-4-FeedForward-Norm[0\n",
      " ention-Add (Add)                                                   ][0]',                        \n",
      "                                                                     'Encoder-5-MultiHeadSelfAtten\n",
      "                                                                    tion-Dropout[0][0]']          \n",
      "                                                                                                  \n",
      " Encoder-5-MultiHeadSelfAtt  (None, 512, 768)             1536      ['Encoder-5-MultiHeadSelfAtten\n",
      " ention-Norm (LayerNormaliz                                         tion-Add[0][0]']              \n",
      " ation)                                                                                           \n",
      "                                                                                                  \n",
      " Encoder-5-FeedForward (Fee  (None, 512, 768)             4722432   ['Encoder-5-MultiHeadSelfAtten\n",
      " dForward)                                                          tion-Norm[0][0]']             \n",
      "                                                                                                  \n",
      " Encoder-5-FeedForward-Drop  (None, 512, 768)             0         ['Encoder-5-FeedForward[0][0]'\n",
      " out (Dropout)                                                      ]                             \n",
      "                                                                                                  \n"
     ]
    },
    {
     "name": "stdout",
     "output_type": "stream",
     "text": [
      " Encoder-5-FeedForward-Add   (None, 512, 768)             0         ['Encoder-5-MultiHeadSelfAtten\n",
      " (Add)                                                              tion-Norm[0][0]',             \n",
      "                                                                     'Encoder-5-FeedForward-Dropou\n",
      "                                                                    t[0][0]']                     \n",
      "                                                                                                  \n",
      " Encoder-5-FeedForward-Norm  (None, 512, 768)             1536      ['Encoder-5-FeedForward-Add[0]\n",
      "  (LayerNormalization)                                              [0]']                         \n",
      "                                                                                                  \n",
      " Encoder-6-MultiHeadSelfAtt  (None, 512, 768)             2362368   ['Encoder-5-FeedForward-Norm[0\n",
      " ention (MultiHeadAttention                                         ][0]']                        \n",
      " )                                                                                                \n",
      "                                                                                                  \n",
      " Encoder-6-MultiHeadSelfAtt  (None, 512, 768)             0         ['Encoder-6-MultiHeadSelfAtten\n",
      " ention-Dropout (Dropout)                                           tion[0][0]']                  \n",
      "                                                                                                  \n",
      " Encoder-6-MultiHeadSelfAtt  (None, 512, 768)             0         ['Encoder-5-FeedForward-Norm[0\n",
      " ention-Add (Add)                                                   ][0]',                        \n",
      "                                                                     'Encoder-6-MultiHeadSelfAtten\n",
      "                                                                    tion-Dropout[0][0]']          \n",
      "                                                                                                  \n",
      " Encoder-6-MultiHeadSelfAtt  (None, 512, 768)             1536      ['Encoder-6-MultiHeadSelfAtten\n",
      " ention-Norm (LayerNormaliz                                         tion-Add[0][0]']              \n",
      " ation)                                                                                           \n",
      "                                                                                                  \n",
      " Encoder-6-FeedForward (Fee  (None, 512, 768)             4722432   ['Encoder-6-MultiHeadSelfAtten\n",
      " dForward)                                                          tion-Norm[0][0]']             \n",
      "                                                                                                  \n",
      " Encoder-6-FeedForward-Drop  (None, 512, 768)             0         ['Encoder-6-FeedForward[0][0]'\n",
      " out (Dropout)                                                      ]                             \n",
      "                                                                                                  \n",
      " Encoder-6-FeedForward-Add   (None, 512, 768)             0         ['Encoder-6-MultiHeadSelfAtten\n",
      " (Add)                                                              tion-Norm[0][0]',             \n",
      "                                                                     'Encoder-6-FeedForward-Dropou\n",
      "                                                                    t[0][0]']                     \n",
      "                                                                                                  \n",
      " Encoder-6-FeedForward-Norm  (None, 512, 768)             1536      ['Encoder-6-FeedForward-Add[0]\n",
      "  (LayerNormalization)                                              [0]']                         \n",
      "                                                                                                  \n",
      " Encoder-7-MultiHeadSelfAtt  (None, 512, 768)             2362368   ['Encoder-6-FeedForward-Norm[0\n",
      " ention (MultiHeadAttention                                         ][0]']                        \n",
      " )                                                                                                \n",
      "                                                                                                  \n",
      " Encoder-7-MultiHeadSelfAtt  (None, 512, 768)             0         ['Encoder-7-MultiHeadSelfAtten\n",
      " ention-Dropout (Dropout)                                           tion[0][0]']                  \n",
      "                                                                                                  \n",
      " Encoder-7-MultiHeadSelfAtt  (None, 512, 768)             0         ['Encoder-6-FeedForward-Norm[0\n",
      " ention-Add (Add)                                                   ][0]',                        \n",
      "                                                                     'Encoder-7-MultiHeadSelfAtten\n",
      "                                                                    tion-Dropout[0][0]']          \n",
      "                                                                                                  \n",
      " Encoder-7-MultiHeadSelfAtt  (None, 512, 768)             1536      ['Encoder-7-MultiHeadSelfAtten\n",
      " ention-Norm (LayerNormaliz                                         tion-Add[0][0]']              \n",
      " ation)                                                                                           \n",
      "                                                                                                  \n",
      " Encoder-7-FeedForward (Fee  (None, 512, 768)             4722432   ['Encoder-7-MultiHeadSelfAtten\n",
      " dForward)                                                          tion-Norm[0][0]']             \n",
      "                                                                                                  \n",
      " Encoder-7-FeedForward-Drop  (None, 512, 768)             0         ['Encoder-7-FeedForward[0][0]'\n",
      " out (Dropout)                                                      ]                             \n",
      "                                                                                                  \n",
      " Encoder-7-FeedForward-Add   (None, 512, 768)             0         ['Encoder-7-MultiHeadSelfAtten\n",
      " (Add)                                                              tion-Norm[0][0]',             \n",
      "                                                                     'Encoder-7-FeedForward-Dropou\n",
      "                                                                    t[0][0]']                     \n",
      "                                                                                                  \n",
      " Encoder-7-FeedForward-Norm  (None, 512, 768)             1536      ['Encoder-7-FeedForward-Add[0]\n",
      "  (LayerNormalization)                                              [0]']                         \n",
      "                                                                                                  \n",
      " Encoder-8-MultiHeadSelfAtt  (None, 512, 768)             2362368   ['Encoder-7-FeedForward-Norm[0\n",
      " ention (MultiHeadAttention                                         ][0]']                        \n",
      " )                                                                                                \n",
      "                                                                                                  \n",
      " Encoder-8-MultiHeadSelfAtt  (None, 512, 768)             0         ['Encoder-8-MultiHeadSelfAtten\n",
      " ention-Dropout (Dropout)                                           tion[0][0]']                  \n",
      "                                                                                                  \n",
      " Encoder-8-MultiHeadSelfAtt  (None, 512, 768)             0         ['Encoder-7-FeedForward-Norm[0\n",
      " ention-Add (Add)                                                   ][0]',                        \n",
      "                                                                     'Encoder-8-MultiHeadSelfAtten\n",
      "                                                                    tion-Dropout[0][0]']          \n",
      "                                                                                                  \n",
      " Encoder-8-MultiHeadSelfAtt  (None, 512, 768)             1536      ['Encoder-8-MultiHeadSelfAtten\n",
      " ention-Norm (LayerNormaliz                                         tion-Add[0][0]']              \n",
      " ation)                                                                                           \n"
     ]
    },
    {
     "name": "stdout",
     "output_type": "stream",
     "text": [
      "                                                                                                  \n",
      " Encoder-8-FeedForward (Fee  (None, 512, 768)             4722432   ['Encoder-8-MultiHeadSelfAtten\n",
      " dForward)                                                          tion-Norm[0][0]']             \n",
      "                                                                                                  \n",
      " Encoder-8-FeedForward-Drop  (None, 512, 768)             0         ['Encoder-8-FeedForward[0][0]'\n",
      " out (Dropout)                                                      ]                             \n",
      "                                                                                                  \n",
      " Encoder-8-FeedForward-Add   (None, 512, 768)             0         ['Encoder-8-MultiHeadSelfAtten\n",
      " (Add)                                                              tion-Norm[0][0]',             \n",
      "                                                                     'Encoder-8-FeedForward-Dropou\n",
      "                                                                    t[0][0]']                     \n",
      "                                                                                                  \n",
      " Encoder-8-FeedForward-Norm  (None, 512, 768)             1536      ['Encoder-8-FeedForward-Add[0]\n",
      "  (LayerNormalization)                                              [0]']                         \n",
      "                                                                                                  \n",
      " Encoder-9-MultiHeadSelfAtt  (None, 512, 768)             2362368   ['Encoder-8-FeedForward-Norm[0\n",
      " ention (MultiHeadAttention                                         ][0]']                        \n",
      " )                                                                                                \n",
      "                                                                                                  \n",
      " Encoder-9-MultiHeadSelfAtt  (None, 512, 768)             0         ['Encoder-9-MultiHeadSelfAtten\n",
      " ention-Dropout (Dropout)                                           tion[0][0]']                  \n",
      "                                                                                                  \n",
      " Encoder-9-MultiHeadSelfAtt  (None, 512, 768)             0         ['Encoder-8-FeedForward-Norm[0\n",
      " ention-Add (Add)                                                   ][0]',                        \n",
      "                                                                     'Encoder-9-MultiHeadSelfAtten\n",
      "                                                                    tion-Dropout[0][0]']          \n",
      "                                                                                                  \n",
      " Encoder-9-MultiHeadSelfAtt  (None, 512, 768)             1536      ['Encoder-9-MultiHeadSelfAtten\n",
      " ention-Norm (LayerNormaliz                                         tion-Add[0][0]']              \n",
      " ation)                                                                                           \n",
      "                                                                                                  \n",
      " Encoder-9-FeedForward (Fee  (None, 512, 768)             4722432   ['Encoder-9-MultiHeadSelfAtten\n",
      " dForward)                                                          tion-Norm[0][0]']             \n",
      "                                                                                                  \n",
      " Encoder-9-FeedForward-Drop  (None, 512, 768)             0         ['Encoder-9-FeedForward[0][0]'\n",
      " out (Dropout)                                                      ]                             \n",
      "                                                                                                  \n",
      " Encoder-9-FeedForward-Add   (None, 512, 768)             0         ['Encoder-9-MultiHeadSelfAtten\n",
      " (Add)                                                              tion-Norm[0][0]',             \n",
      "                                                                     'Encoder-9-FeedForward-Dropou\n",
      "                                                                    t[0][0]']                     \n",
      "                                                                                                  \n",
      " Encoder-9-FeedForward-Norm  (None, 512, 768)             1536      ['Encoder-9-FeedForward-Add[0]\n",
      "  (LayerNormalization)                                              [0]']                         \n",
      "                                                                                                  \n",
      " Encoder-10-MultiHeadSelfAt  (None, 512, 768)             2362368   ['Encoder-9-FeedForward-Norm[0\n",
      " tention (MultiHeadAttentio                                         ][0]']                        \n",
      " n)                                                                                               \n",
      "                                                                                                  \n",
      " Encoder-10-MultiHeadSelfAt  (None, 512, 768)             0         ['Encoder-10-MultiHeadSelfAtte\n",
      " tention-Dropout (Dropout)                                          ntion[0][0]']                 \n",
      "                                                                                                  \n",
      " Encoder-10-MultiHeadSelfAt  (None, 512, 768)             0         ['Encoder-9-FeedForward-Norm[0\n",
      " tention-Add (Add)                                                  ][0]',                        \n",
      "                                                                     'Encoder-10-MultiHeadSelfAtte\n",
      "                                                                    ntion-Dropout[0][0]']         \n",
      "                                                                                                  \n",
      " Encoder-10-MultiHeadSelfAt  (None, 512, 768)             1536      ['Encoder-10-MultiHeadSelfAtte\n",
      " tention-Norm (LayerNormali                                         ntion-Add[0][0]']             \n",
      " zation)                                                                                          \n",
      "                                                                                                  \n",
      " Encoder-10-FeedForward (Fe  (None, 512, 768)             4722432   ['Encoder-10-MultiHeadSelfAtte\n",
      " edForward)                                                         ntion-Norm[0][0]']            \n",
      "                                                                                                  \n",
      " Encoder-10-FeedForward-Dro  (None, 512, 768)             0         ['Encoder-10-FeedForward[0][0]\n",
      " pout (Dropout)                                                     ']                            \n",
      "                                                                                                  \n",
      " Encoder-10-FeedForward-Add  (None, 512, 768)             0         ['Encoder-10-MultiHeadSelfAtte\n",
      "  (Add)                                                             ntion-Norm[0][0]',            \n",
      "                                                                     'Encoder-10-FeedForward-Dropo\n",
      "                                                                    ut[0][0]']                    \n",
      "                                                                                                  \n",
      " Encoder-10-FeedForward-Nor  (None, 512, 768)             1536      ['Encoder-10-FeedForward-Add[0\n",
      " m (LayerNormalization)                                             ][0]']                        \n",
      "                                                                                                  \n",
      " Encoder-11-MultiHeadSelfAt  (None, 512, 768)             2362368   ['Encoder-10-FeedForward-Norm[\n",
      " tention (MultiHeadAttentio                                         0][0]']                       \n",
      " n)                                                                                               \n",
      "                                                                                                  \n",
      " Encoder-11-MultiHeadSelfAt  (None, 512, 768)             0         ['Encoder-11-MultiHeadSelfAtte\n",
      " tention-Dropout (Dropout)                                          ntion[0][0]']                 \n",
      "                                                                                                  \n",
      " Encoder-11-MultiHeadSelfAt  (None, 512, 768)             0         ['Encoder-10-FeedForward-Norm[\n"
     ]
    },
    {
     "name": "stdout",
     "output_type": "stream",
     "text": [
      " tention-Add (Add)                                                  0][0]',                       \n",
      "                                                                     'Encoder-11-MultiHeadSelfAtte\n",
      "                                                                    ntion-Dropout[0][0]']         \n",
      "                                                                                                  \n",
      " Encoder-11-MultiHeadSelfAt  (None, 512, 768)             1536      ['Encoder-11-MultiHeadSelfAtte\n",
      " tention-Norm (LayerNormali                                         ntion-Add[0][0]']             \n",
      " zation)                                                                                          \n",
      "                                                                                                  \n",
      " Encoder-11-FeedForward (Fe  (None, 512, 768)             4722432   ['Encoder-11-MultiHeadSelfAtte\n",
      " edForward)                                                         ntion-Norm[0][0]']            \n",
      "                                                                                                  \n",
      " Encoder-11-FeedForward-Dro  (None, 512, 768)             0         ['Encoder-11-FeedForward[0][0]\n",
      " pout (Dropout)                                                     ']                            \n",
      "                                                                                                  \n",
      " Encoder-11-FeedForward-Add  (None, 512, 768)             0         ['Encoder-11-MultiHeadSelfAtte\n",
      "  (Add)                                                             ntion-Norm[0][0]',            \n",
      "                                                                     'Encoder-11-FeedForward-Dropo\n",
      "                                                                    ut[0][0]']                    \n",
      "                                                                                                  \n",
      " Encoder-11-FeedForward-Nor  (None, 512, 768)             1536      ['Encoder-11-FeedForward-Add[0\n",
      " m (LayerNormalization)                                             ][0]']                        \n",
      "                                                                                                  \n",
      " Encoder-12-MultiHeadSelfAt  (None, 512, 768)             2362368   ['Encoder-11-FeedForward-Norm[\n",
      " tention (MultiHeadAttentio                                         0][0]']                       \n",
      " n)                                                                                               \n",
      "                                                                                                  \n",
      " Encoder-12-MultiHeadSelfAt  (None, 512, 768)             0         ['Encoder-12-MultiHeadSelfAtte\n",
      " tention-Dropout (Dropout)                                          ntion[0][0]']                 \n",
      "                                                                                                  \n",
      " Encoder-12-MultiHeadSelfAt  (None, 512, 768)             0         ['Encoder-11-FeedForward-Norm[\n",
      " tention-Add (Add)                                                  0][0]',                       \n",
      "                                                                     'Encoder-12-MultiHeadSelfAtte\n",
      "                                                                    ntion-Dropout[0][0]']         \n",
      "                                                                                                  \n",
      " Encoder-12-MultiHeadSelfAt  (None, 512, 768)             1536      ['Encoder-12-MultiHeadSelfAtte\n",
      " tention-Norm (LayerNormali                                         ntion-Add[0][0]']             \n",
      " zation)                                                                                          \n",
      "                                                                                                  \n",
      " Encoder-12-FeedForward (Fe  (None, 512, 768)             4722432   ['Encoder-12-MultiHeadSelfAtte\n",
      " edForward)                                                         ntion-Norm[0][0]']            \n",
      "                                                                                                  \n",
      " Encoder-12-FeedForward-Dro  (None, 512, 768)             0         ['Encoder-12-FeedForward[0][0]\n",
      " pout (Dropout)                                                     ']                            \n",
      "                                                                                                  \n",
      " Encoder-12-FeedForward-Add  (None, 512, 768)             0         ['Encoder-12-MultiHeadSelfAtte\n",
      "  (Add)                                                             ntion-Norm[0][0]',            \n",
      "                                                                     'Encoder-12-FeedForward-Dropo\n",
      "                                                                    ut[0][0]']                    \n",
      "                                                                                                  \n",
      " Encoder-12-FeedForward-Nor  (None, 512, 768)             1536      ['Encoder-12-FeedForward-Add[0\n",
      " m (LayerNormalization)                                             ][0]']                        \n",
      "                                                                                                  \n",
      " MLM-Dense (Dense)           (None, 512, 768)             590592    ['Encoder-12-FeedForward-Norm[\n",
      "                                                                    0][0]']                       \n",
      "                                                                                                  \n",
      " MLM-Norm (LayerNormalizati  (None, 512, 768)             1536      ['MLM-Dense[0][0]']           \n",
      " on)                                                                                              \n",
      "                                                                                                  \n",
      " Extract (Extract)           (None, 768)                  0         ['Encoder-12-FeedForward-Norm[\n",
      "                                                                    0][0]']                       \n",
      "                                                                                                  \n",
      " MLM-Sim (EmbeddingSimilari  (None, 512, 119547)          119547    ['MLM-Norm[0][0]',            \n",
      " ty)                                                                 'Embedding-Token[0][1]']     \n",
      "                                                                                                  \n",
      " Input-Masked (InputLayer)   [(None, 512)]                0         []                            \n",
      "                                                                                                  \n",
      " NSP-Dense (Dense)           (None, 768)                  590592    ['Extract[0][0]']             \n",
      "                                                                                                  \n",
      " MLM (Masked)                (None, 512, 119547)          0         ['MLM-Sim[0][0]',             \n",
      "                                                                     'Input-Masked[0][0]']        \n",
      "                                                                                                  \n",
      " NSP (Dense)                 (None, 2)                    1538      ['NSP-Dense[0][0]']           \n",
      "                                                                                                  \n",
      "==================================================================================================\n",
      "Total params: 178566653 (681.18 MB)\n",
      "Trainable params: 178566653 (681.18 MB)\n",
      "Non-trainable params: 0 (0.00 Byte)\n",
      "__________________________________________________________________________________________________\n"
     ]
    }
   ],
   "source": [
    "model = load_trained_model_from_checkpoint(config_path, checkpoint_path, training=True)\n",
    "model.summary()"
   ]
  },
  {
   "cell_type": "markdown",
   "id": "e5586af4",
   "metadata": {},
   "source": [
    "## Режим 1: предсказание слов, закрытых токеном [MASK] в фразе"
   ]
  },
  {
   "cell_type": "code",
   "execution_count": 4,
   "id": "1eafa3af",
   "metadata": {},
   "outputs": [
    {
     "name": "stdout",
     "output_type": "stream",
     "text": [
      "Я пришел в [MASK] и купил [MASK].\n"
     ]
    }
   ],
   "source": [
    "sentence = 'Я пришел в [MASK] и купил [MASK].'\n",
    "print(sentence)"
   ]
  },
  {
   "cell_type": "code",
   "execution_count": 5,
   "id": "12e00b02",
   "metadata": {},
   "outputs": [],
   "source": [
    "sentence = sentence.replace(' [MASK] ','[MASK]'); sentence = sentence.replace('[MASK] ','[MASK]'); sentence = sentence.replace(' [MASK]','[MASK]')  # удаляем лишние пробелы\n",
    "sentence = sentence.split('[MASK]')             # разбиваем строку по маске\n",
    "tokens = ['[CLS]']                              # фраза всегда должна начинаться на [CLS]\n",
    "# обычные строки преобразуем в токены с помощью tokenizer.tokenize(), вставляя между ними [MASK]\n",
    "for i in range(len(sentence)):\n",
    "    if i == 0:\n",
    "        tokens = tokens + tokenizer.tokenize(sentence[i]) \n",
    "    else:\n",
    "        tokens = tokens + ['[MASK]'] + tokenizer.tokenize(sentence[i]) \n",
    "tokens = tokens + ['[SEP]']                     # фраза всегда должна заканчиваться на [SEP] "
   ]
  },
  {
   "cell_type": "markdown",
   "id": "9261cf31",
   "metadata": {},
   "source": [
    "### в итоге создается последовательность токенов, начинающаяся с [CLS], содержащая токены из исходной фразы и маскированные [MASK], и заканчивающаяся на [SEP]. Эта последовательность токенов затем преобразуется в их числовые идентификаторы, дополняя нулями до длины 512."
   ]
  },
  {
   "cell_type": "code",
   "execution_count": 6,
   "id": "257c6418",
   "metadata": {},
   "outputs": [],
   "source": [
    "token_input = tokenizer.convert_tokens_to_ids(tokens)    # Преобразование токенов в их числовые идентификаторы (token IDs):"
   ]
  },
  {
   "cell_type": "code",
   "execution_count": 7,
   "id": "df6c99dc",
   "metadata": {},
   "outputs": [],
   "source": [
    "token_input = token_input + [0] * (512 - len(token_input))"
   ]
  },
  {
   "cell_type": "code",
   "execution_count": 8,
   "id": "ed74e3b4",
   "metadata": {},
   "outputs": [],
   "source": [
    "mask_input = [0]*512 # Инициализация массива mask_input длиной 512 с нулевыми значениями\n",
    "for i in range(len(mask_input)): # Проход по массиву token_input и установка соответствующих значений в mask_input:\n",
    "    if token_input[i] == 103:\n",
    "        mask_input[i] = 1"
   ]
  },
  {
   "cell_type": "code",
   "execution_count": 9,
   "id": "3cb0e5d5",
   "metadata": {},
   "outputs": [],
   "source": [
    "seg_input = [0]*512 # Инициализация массива seg_input длиной 512 с нулевыми значениями"
   ]
  },
  {
   "cell_type": "markdown",
   "id": "341e51d0",
   "metadata": {},
   "source": [
    "#### Преобразование token_input, mask_input и seg_input в массивы NumPy:"
   ]
  },
  {
   "cell_type": "code",
   "execution_count": 10,
   "id": "f8dd0721",
   "metadata": {},
   "outputs": [],
   "source": [
    "token_input = np.asarray([token_input])\n",
    "mask_input = np.asarray([mask_input])\n",
    "seg_input = np.asarray([seg_input])"
   ]
  },
  {
   "cell_type": "markdown",
   "id": "5eafae5e",
   "metadata": {},
   "source": [
    "#### Ок, готово. Теперь запускаем предсказание нейросети!"
   ]
  },
  {
   "cell_type": "code",
   "execution_count": 11,
   "id": "92f2a62d",
   "metadata": {},
   "outputs": [
    {
     "name": "stdout",
     "output_type": "stream",
     "text": [
      "1/1 [==============================] - 12s 12s/step\n"
     ]
    }
   ],
   "source": [
    "predicts = model.predict([token_input, seg_input, mask_input])[0] \n",
    "predicts = np.argmax(predicts, axis=-1)\n",
    "predicts = predicts[0][:len(tokens)]    # отрезаем начало фразы, длиной как исходная фраза, чтобы отсечь случайные выбросы среди нулей дальше"
   ]
  },
  {
   "cell_type": "markdown",
   "id": "9df370c2",
   "metadata": {},
   "source": [
    "### Следующий код создает текстовый вывод на основе предсказаний модели BERT для позиций с [MASK]."
   ]
  },
  {
   "cell_type": "code",
   "execution_count": 12,
   "id": "06a05f35",
   "metadata": {},
   "outputs": [],
   "source": [
    "out = []\n",
    "# добавляем в out только слова в позиции [MASK], которые маскированы цифрой 1 в mask_input\n",
    "for i in range(len(mask_input[0])):\n",
    "    if mask_input[0][i] == 1:                       # [0][i], т.к. сеть возвращает batch с формой (1,512), где в первом элементе наш результат\n",
    "        out.append(predicts[i]) \n",
    "\n",
    "out = tokenizer.convert_ids_to_tokens(out)          # индексы в текстовые токены\n",
    "out = ' '.join(out)                                 # объединяем токены в строку с пробелами\n",
    "out = tokenization.printable_text(out)              # в удобочитаемый текст\n",
    "out = out.replace(' ##','')                         # объединяем разъединенные слова: \"при ##шел\" -> \"пришел\""
   ]
  },
  {
   "cell_type": "code",
   "execution_count": 13,
   "id": "1e19acd0",
   "metadata": {},
   "outputs": [
    {
     "name": "stdout",
     "output_type": "stream",
     "text": [
      "Result: дом его\n"
     ]
    }
   ],
   "source": [
    "print('Result:', out)"
   ]
  },
  {
   "cell_type": "markdown",
   "id": "6ace5c32",
   "metadata": {},
   "source": [
    "#### Как мы  видим, в нашем примере, для фразы \"Я пришел в [MASK] и купил [MASK].\" нейросеть выдала результат \"дом\" и \"его\": \"Я пришел в дом и купил его\". Ну, не так уж и плохо, для первого раза. Купить дом определенно лучше, чем молоко )."
   ]
  },
  {
   "cell_type": "markdown",
   "id": "20a9260f",
   "metadata": {},
   "source": [
    "# Режим 2: проверка логичности двух фраз"
   ]
  },
  {
   "cell_type": "code",
   "execution_count": 14,
   "id": "e51c7d6b",
   "metadata": {},
   "outputs": [
    {
     "name": "stdout",
     "output_type": "stream",
     "text": [
      "Я пришел в магазин. -> И купил молоко.\n"
     ]
    }
   ],
   "source": [
    "sentence_1 = 'Я пришел в магазин.'\n",
    "sentence_2 = 'И купил молоко.'\n",
    "\n",
    "print(sentence_1, '->', sentence_2)"
   ]
  },
  {
   "cell_type": "markdown",
   "id": "e78f5193",
   "metadata": {},
   "source": [
    "### Следующий код выполняет токенизацию двух предложений (sentence_1 и sentence_2), преобразует их токены в числовые идентификаторы, и подготавливает входные данные для модели BERT."
   ]
  },
  {
   "cell_type": "code",
   "execution_count": 15,
   "id": "616b80c8",
   "metadata": {},
   "outputs": [],
   "source": [
    "# Токенизация первого предложения\n",
    "tokens_sen_1 = tokenizer.tokenize(sentence_1)\n",
    "\n",
    "# Токенизация второго предложения\n",
    "tokens_sen_2 = tokenizer.tokenize(sentence_2)\n",
    "\n",
    "# Формирование общего списка токенов с добавлением маркеров [CLS] и [SEP]\n",
    "tokens = ['[CLS]'] + tokens_sen_1 + ['[SEP]'] + tokens_sen_2 + ['[SEP]']"
   ]
  },
  {
   "cell_type": "code",
   "execution_count": 16,
   "id": "64af69de",
   "metadata": {},
   "outputs": [],
   "source": [
    "token_input = tokenizer.convert_tokens_to_ids(tokens) # Преобразование токенов в числовые идентификаторы (token IDs)\n",
    "token_input = token_input + [0] * (512 - len(token_input)) #Дополнение числовых идентификаторов нулями до длины 512"
   ]
  },
  {
   "cell_type": "code",
   "execution_count": 17,
   "id": "b7197353",
   "metadata": {},
   "outputs": [],
   "source": [
    "mask_input = [0] * 512  # Инициализация массива mask_input длиной 512 с нулевыми значениями"
   ]
  },
  {
   "cell_type": "code",
   "execution_count": 18,
   "id": "b55ec438",
   "metadata": {},
   "outputs": [],
   "source": [
    "seg_input = [0]*512\n",
    "len_1 = len(tokens_sen_1) + 2                   # длина первой фразы, +2 - включая начальный CLS и разделитель SEP\n",
    "for i in range(len(tokens_sen_2)+1):            # +1, т.к. включая последний SEP\n",
    "        seg_input[len_1 + i] = 1                # маскируем вторую фразу, включая последний SEP, единицами\n",
    "\n",
    "# конвертируем в numpy в форму (1,) -> (1,512)\n",
    "token_input = np.asarray([token_input])\n",
    "mask_input = np.asarray([mask_input])\n",
    "seg_input = np.asarray([seg_input])"
   ]
  },
  {
   "cell_type": "markdown",
   "id": "389e40d9",
   "metadata": {},
   "source": [
    "### Пропускаем фразы через нейросеть (в этот раз результат в [1], а не в [0], как было выше)"
   ]
  },
  {
   "cell_type": "code",
   "execution_count": 19,
   "id": "9880bb59",
   "metadata": {},
   "outputs": [
    {
     "name": "stdout",
     "output_type": "stream",
     "text": [
      "1/1 [==============================] - 2s 2s/step\n"
     ]
    }
   ],
   "source": [
    "predicts = model.predict([token_input, seg_input, mask_input])[1] "
   ]
  },
  {
   "cell_type": "markdown",
   "id": "968ccca0",
   "metadata": {},
   "source": [
    "### И выводим вероятность того, что вторая фраза является нормальной, а не случайным набором слов"
   ]
  },
  {
   "cell_type": "code",
   "execution_count": 20,
   "id": "166eb699",
   "metadata": {},
   "outputs": [
    {
     "name": "stdout",
     "output_type": "stream",
     "text": [
      "Sentence is okey: 99 %\n"
     ]
    }
   ],
   "source": [
    "print('Sentence is okey:', int(round(predicts[0][0]*100)), '%')"
   ]
  },
  {
   "cell_type": "markdown",
   "id": "64dd9063",
   "metadata": {},
   "source": [
    "### На две фразы:\n",
    "### Я пришел в магазин. -> И купил молоко.\n",
    "### Ответ нейросети: Sentence is okey: 99 %"
   ]
  },
  {
   "cell_type": "code",
   "execution_count": null,
   "id": "9fc382a1",
   "metadata": {},
   "outputs": [],
   "source": []
  }
 ],
 "metadata": {
  "kernelspec": {
   "display_name": "Python 3 (ipykernel)",
   "language": "python",
   "name": "python3"
  },
  "language_info": {
   "codemirror_mode": {
    "name": "ipython",
    "version": 3
   },
   "file_extension": ".py",
   "mimetype": "text/x-python",
   "name": "python",
   "nbconvert_exporter": "python",
   "pygments_lexer": "ipython3",
   "version": "3.10.9"
  }
 },
 "nbformat": 4,
 "nbformat_minor": 5
}
