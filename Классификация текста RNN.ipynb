{
 "cells": [
  {
   "cell_type": "markdown",
   "metadata": {},
   "source": [
    "# Амангелді Нұралым СИБ 23-01, Зертханалық жұмыс 12"
   ]
  },
  {
   "cell_type": "markdown",
   "metadata": {
    "id": "_2VQo4bajwUU"
   },
   "source": [
    "## Установка библиотек"
   ]
  },
  {
   "cell_type": "code",
   "execution_count": 2,
   "metadata": {
    "execution": {
     "iopub.execute_input": "2023-11-16T13:53:09.757798Z",
     "iopub.status.busy": "2023-11-16T13:53:09.757245Z",
     "iopub.status.idle": "2023-11-16T13:53:12.430177Z",
     "shell.execute_reply": "2023-11-16T13:53:12.429476Z"
    },
    "id": "z682XYsrjkY9"
   },
   "outputs": [
    {
     "name": "stderr",
     "output_type": "stream",
     "text": [
      "2023-11-16 13:53:10.615881: E external/local_xla/xla/stream_executor/cuda/cuda_dnn.cc:9261] Unable to register cuDNN factory: Attempting to register factory for plugin cuDNN when one has already been registered\n",
      "2023-11-16 13:53:10.615930: E external/local_xla/xla/stream_executor/cuda/cuda_fft.cc:607] Unable to register cuFFT factory: Attempting to register factory for plugin cuFFT when one has already been registered\n",
      "2023-11-16 13:53:10.617515: E external/local_xla/xla/stream_executor/cuda/cuda_blas.cc:1515] Unable to register cuBLAS factory: Attempting to register factory for plugin cuBLAS when one has already been registered\n"
     ]
    }
   ],
   "source": [
    "# Импорт библиотеки NumPy и псевдонима np для удобства использования\n",
    "import numpy as np\n",
    "\n",
    "# Импорт библиотеки TensorFlow Datasets и псевдонима tfds\n",
    "import tensorflow_datasets as tfds\n",
    "\n",
    "# Импорт библиотеки TensorFlow и псевдонима tf\n",
    "import tensorflow as tf\n",
    "\n",
    "# Отключение строки прогресса при загрузке данных с использованием TensorFlow Datasets\n",
    "tfds.disable_progress_bar()"
   ]
  },
  {
   "cell_type": "code",
   "execution_count": 3,
   "metadata": {
    "execution": {
     "iopub.execute_input": "2023-11-16T13:53:12.434802Z",
     "iopub.status.busy": "2023-11-16T13:53:12.434050Z",
     "iopub.status.idle": "2023-11-16T13:53:12.686780Z",
     "shell.execute_reply": "2023-11-16T13:53:12.686128Z"
    },
    "id": "Mp1Z7P9pYRSK"
   },
   "outputs": [],
   "source": [
    "# Импорт библиотеки Matplotlib и псевдонима plt для удобства использования\n",
    "import matplotlib.pyplot as plt\n",
    "\n",
    "# Определение функции для построения графика метрики в ходе обучения\n",
    "def plot_graphs(history, metric):\n",
    "  # Построение графика для значения метрики на тренировочном наборе данных\n",
    "  plt.plot(history.history[metric])\n",
    "  \n",
    "  # Построение графика для значения метрики на валидационном наборе данных\n",
    "  plt.plot(history.history['val_'+metric], '')\n",
    "  \n",
    "  # Настройка осей графика\n",
    "  plt.xlabel(\"Epochs\")  # Метка по оси X - количество эпох (итераций обучения)\n",
    "  plt.ylabel(metric)     # Метка по оси Y - значение выбранной метрики\n",
    "  plt.legend([metric, 'val_'+metric])  # Добавление легенды для графиков"
   ]
  },
  {
   "cell_type": "markdown",
   "metadata": {
    "id": "pRmMubr0jrE2"
   },
   "source": [
    "## Настройка входного конвейера"
   ]
  },
  {
   "cell_type": "markdown",
   "metadata": {},
   "source": [
    "#### Далее, загрузили датасет с отзывами, разделили его на обучающую и тестовую выборки, и вывели информацию о структуре элементов обучающей выборки."
   ]
  },
  {
   "cell_type": "code",
   "execution_count": 4,
   "metadata": {
    "execution": {
     "iopub.execute_input": "2023-11-16T13:53:12.690785Z",
     "iopub.status.busy": "2023-11-16T13:53:12.690268Z",
     "iopub.status.idle": "2023-11-16T13:53:15.904788Z",
     "shell.execute_reply": "2023-11-16T13:53:15.904081Z"
    },
    "id": "SHRwRoP2nVHX"
   },
   "outputs": [
    {
     "data": {
      "text/plain": [
       "(TensorSpec(shape=(), dtype=tf.string, name=None),\n",
       " TensorSpec(shape=(), dtype=tf.int64, name=None))"
      ]
     },
     "execution_count": 4,
     "metadata": {},
     "output_type": "execute_result"
    }
   ],
   "source": [
    "dataset, info = tfds.load('imdb_reviews', with_info=True,\n",
    "                          as_supervised=True)\n",
    "train_dataset, test_dataset = dataset['train'], dataset['test']\n",
    "\n",
    "train_dataset.element_spec"
   ]
  },
  {
   "cell_type": "markdown",
   "metadata": {
    "id": "nWA4c2ir7g6p"
   },
   "source": [
    "#### Следующий код берет первый элемент из обучающей выборки и выводит текст отзыва и соответствующую метку в удобном формате."
   ]
  },
  {
   "cell_type": "code",
   "execution_count": 5,
   "metadata": {
    "execution": {
     "iopub.execute_input": "2023-11-16T13:53:15.908821Z",
     "iopub.status.busy": "2023-11-16T13:53:15.908326Z",
     "iopub.status.idle": "2023-11-16T13:53:16.739998Z",
     "shell.execute_reply": "2023-11-16T13:53:16.739148Z"
    },
    "id": "vd4_BGKyurao"
   },
   "outputs": [
    {
     "name": "stdout",
     "output_type": "stream",
     "text": [
      "text:  b\"This was an absolutely terrible movie. Don't be lured in by Christopher Walken or Michael Ironside. Both are great actors, but this must simply be their worst role in history. Even their great acting could not redeem this movie's ridiculous storyline. This movie is an early nineties US propaganda piece. The most pathetic scenes were those when the Columbian rebels were making their cases for revolutions. Maria Conchita Alonso appeared phony, and her pseudo-love affair with Walken was nothing but a pathetic emotional plug in a movie that was devoid of any real meaning. I am disappointed that there are movies like this, ruining actor's like Christopher Walken's good name. I could barely sit through it.\"\n",
      "label:  0\n"
     ]
    }
   ],
   "source": [
    "# Проходим через первый элемент обучающей выборки (take(1) означает взять один элемент)\n",
    "for example, label in train_dataset.take(1):\n",
    "    # Выводим текст отзыва, преобразованный в массив NumPy\n",
    "    print('text: ', example.numpy())\n",
    "\n",
    "    # Выводим метку отзыва, преобразованную в массив NumPy\n",
    "    print('label: ', label.numpy())"
   ]
  },
  {
   "cell_type": "markdown",
   "metadata": {
    "id": "z2qVJzcEluH_"
   },
   "source": [
    "#### Следующий код создает итераторы для обучающей и тестовой выборок, применяет перемешивание и упаковку данных, а затем выводит несколько текстов и соответствующих меток из первого пакета обучающей выборки. (text, label):"
   ]
  },
  {
   "cell_type": "code",
   "execution_count": 6,
   "metadata": {
    "execution": {
     "iopub.execute_input": "2023-11-16T13:53:16.743883Z",
     "iopub.status.busy": "2023-11-16T13:53:16.743218Z",
     "iopub.status.idle": "2023-11-16T13:53:16.746743Z",
     "shell.execute_reply": "2023-11-16T13:53:16.746140Z"
    },
    "id": "dDsCaZCDYZgm"
   },
   "outputs": [],
   "source": [
    "BUFFER_SIZE = 10000 # Определение размера буфера для перемешивания данных\n",
    "BATCH_SIZE = 64     # Определение размера пакета для обучающей и тестовой выборок"
   ]
  },
  {
   "cell_type": "code",
   "execution_count": 7,
   "metadata": {
    "execution": {
     "iopub.execute_input": "2023-11-16T13:53:16.750011Z",
     "iopub.status.busy": "2023-11-16T13:53:16.749460Z",
     "iopub.status.idle": "2023-11-16T13:53:16.762904Z",
     "shell.execute_reply": "2023-11-16T13:53:16.762312Z"
    },
    "id": "VznrltNOnUc5"
   },
   "outputs": [],
   "source": [
    "train_dataset = train_dataset.shuffle(BUFFER_SIZE).batch(BATCH_SIZE).prefetch(tf.data.AUTOTUNE) # Перемешивание и упаковка данных для обучающей выборки\n",
    "test_dataset = test_dataset.batch(BATCH_SIZE).prefetch(tf.data.AUTOTUNE) # Упаковка данных для тестовой выборки"
   ]
  },
  {
   "cell_type": "code",
   "execution_count": 8,
   "metadata": {
    "execution": {
     "iopub.execute_input": "2023-11-16T13:53:16.765903Z",
     "iopub.status.busy": "2023-11-16T13:53:16.765682Z",
     "iopub.status.idle": "2023-11-16T13:53:17.506212Z",
     "shell.execute_reply": "2023-11-16T13:53:17.505446Z"
    },
    "id": "jqkvdcFv41wC"
   },
   "outputs": [
    {
     "name": "stdout",
     "output_type": "stream",
     "text": [
      "texts:  [b'Watching beautiful women sneaking around, playing cops and robbers is one of the most delightful guilty pleasures the medium film lets me enjoy. So The House on Carroll Street was not entirely a waste of time, although the story is contrived and the screenplay uninspired and somewhat irritating.<br /><br />There are many allusions to different Hitchcock pictures, not least the choice of Kelly McGillis in the starring role. She is dressed up as Grace Kelly, and she is not far off the mark. Not at all. But her character is not convincing. The way she is introduced to the audience, she should be someone with political convictions and a purpose in life. After all the movie deals with a clearly defined time period, true events and a specific issue. But the story degenerates within the first minutes into a sorry run-off-the-mill crime story with unbelievable coincidences, high predictability and a set of two dimensional characters. This is all the more regrettable, as the performances of the actors are good, as are the photography and the set design.<br /><br />The finale in Central Station, New York is breath taking. It starts in the subterranean section and then moves up to the roof. The movie can be praised for its good use of architecture.'\n",
      " b'A group of people are invited to there high school reunion, but after they arrive they discover it to be a scam by an old classmate they played an almost fatal prank on. Now, he seeks to get revenge on all those that hurt him by sealing all the exits and cutting off all telephone lines.<br /><br />Dark slasher film with an unexceptional premise. Bringing it up a notch are a few good performances, some rather creative death scenes, plenty of excitement & scares, some humor and an original ending.<br /><br />Unrated for Extreme Violence, Graphic Nudity, Sexual Situations, Profanity and Drug Use.'\n",
      " b'The short that starts this film is the true footage of a guy named Gary, apparently it was taken randomly in the parking lot of a television station where Gary works in the town of Beaver. Gary is a little \"different\"; he is an impersonator and drives an old Chevy named Farrah (after Fawcett). Lo and behold the filmmaker gets a letter from Gary some time later inviting him to return to Beaver to get some footage of the local talent contest he has put together, including Gary\\'s staggering performace as Olivia Newton Dawn. Oh, my. The two shorts that follow are Gary\\'s story, the same one you just witnessed only the first is portrayed by Sean Penn and the second by Crispin Glover titled \"The Orkly Kid.\" If you are in the mood for making fun of someone this is definitely the film to watch. I was doubled over with laughter through most of it, especially Crispins performance which could definitely stand on it\\'s own. When it was over, I had to rewind the film to once again watch the real Gary and all his shining idiocy. Although Olivia was the focus, I would have liked to have seen one of the \"fictitious\" shorts take a jab at Gary\\'s Barry Manilow impersonation, whic h was equally ridiculous.']\n",
      "\n",
      "labels:  [0 0 1]\n"
     ]
    }
   ],
   "source": [
    "for example, label in train_dataset.take(1):\n",
    "  print('texts: ', example.numpy()[:3])\n",
    "  print()\n",
    "  print('labels: ', label.numpy()[:3])  # Вывод трех меток отзывов из текущего пакета"
   ]
  },
  {
   "cell_type": "markdown",
   "metadata": {
    "id": "s5eWCo88voPY"
   },
   "source": [
    "## Создание кодировщик текста"
   ]
  },
  {
   "cell_type": "code",
   "execution_count": 9,
   "metadata": {
    "execution": {
     "iopub.execute_input": "2023-11-16T13:53:17.510310Z",
     "iopub.status.busy": "2023-11-16T13:53:17.509633Z",
     "iopub.status.idle": "2023-11-16T13:53:20.433291Z",
     "shell.execute_reply": "2023-11-16T13:53:20.432357Z"
    },
    "id": "uC25Lu1Yvuqy"
   },
   "outputs": [],
   "source": [
    "VOCAB_SIZE = 1000\n",
    "encoder = tf.keras.layers.TextVectorization(\n",
    "    max_tokens=VOCAB_SIZE) # Создание слоя TextVectorization с максимальным количеством токенов равным VOCAB_SIZE\n",
    "encoder.adapt(train_dataset.map(lambda text, label: text))"
   ]
  },
  {
   "cell_type": "markdown",
   "metadata": {
    "id": "IuQzVBbe3Ldu"
   },
   "source": [
    "#### Этот код создает TextVectorization слой для кодирования текста с максимальным размером словаря, равным VOCAB_SIZE. Затем слой адаптируется к обучающей выборке, используя метод adapt, который строит словарь кодировщика на основе текстов из обучающей выборки."
   ]
  },
  {
   "cell_type": "code",
   "execution_count": 10,
   "metadata": {
    "execution": {
     "iopub.execute_input": "2023-11-16T13:53:20.437779Z",
     "iopub.status.busy": "2023-11-16T13:53:20.437035Z",
     "iopub.status.idle": "2023-11-16T13:53:20.444571Z",
     "shell.execute_reply": "2023-11-16T13:53:20.443689Z"
    },
    "id": "tBoyjjWg0Ac9"
   },
   "outputs": [
    {
     "data": {
      "text/plain": [
       "array(['', '[UNK]', 'the', 'and', 'a', 'of', 'to', 'is', 'in', 'it', 'i',\n",
       "       'this', 'that', 'br', 'was', 'as', 'for', 'with', 'movie', 'but'],\n",
       "      dtype='<U14')"
      ]
     },
     "execution_count": 10,
     "metadata": {},
     "output_type": "execute_result"
    }
   ],
   "source": [
    "vocab = np.array(encoder.get_vocabulary()) # Получение словаря (vocab) из кодировщика\n",
    "vocab[:20] # Вывод первых 20 элементов словаря"
   ]
  },
  {
   "cell_type": "code",
   "execution_count": 11,
   "metadata": {
    "execution": {
     "iopub.execute_input": "2023-11-16T13:53:20.448045Z",
     "iopub.status.busy": "2023-11-16T13:53:20.447435Z",
     "iopub.status.idle": "2023-11-16T13:53:21.133694Z",
     "shell.execute_reply": "2023-11-16T13:53:21.132982Z"
    },
    "id": "RGc7C9WiwRWs"
   },
   "outputs": [
    {
     "data": {
      "text/plain": [
       "array([[147, 300, 362, ...,   0,   0,   0],\n",
       "       [  4, 579,   5, ...,   0,   0,   0],\n",
       "       [  2, 348,  12, ...,   0,   0,   0]])"
      ]
     },
     "execution_count": 11,
     "metadata": {},
     "output_type": "execute_result"
    }
   ],
   "source": [
    "encoded_example = encoder(example)[:3].numpy() # Кодирование примеров текста с использованием ранее созданного TextVectorization слоя\n",
    "encoded_example # Вывод закодированных текстов (первые три элемента из пакета)"
   ]
  },
  {
   "cell_type": "code",
   "execution_count": 12,
   "metadata": {
    "execution": {
     "iopub.execute_input": "2023-11-16T13:53:21.137373Z",
     "iopub.status.busy": "2023-11-16T13:53:21.136782Z",
     "iopub.status.idle": "2023-11-16T13:53:21.143742Z",
     "shell.execute_reply": "2023-11-16T13:53:21.143049Z"
    },
    "id": "N_tD0QY5wXaK"
   },
   "outputs": [
    {
     "name": "stdout",
     "output_type": "stream",
     "text": [
      "Original:  b'Watching beautiful women sneaking around, playing cops and robbers is one of the most delightful guilty pleasures the medium film lets me enjoy. So The House on Carroll Street was not entirely a waste of time, although the story is contrived and the screenplay uninspired and somewhat irritating.<br /><br />There are many allusions to different Hitchcock pictures, not least the choice of Kelly McGillis in the starring role. She is dressed up as Grace Kelly, and she is not far off the mark. Not at all. But her character is not convincing. The way she is introduced to the audience, she should be someone with political convictions and a purpose in life. After all the movie deals with a clearly defined time period, true events and a specific issue. But the story degenerates within the first minutes into a sorry run-off-the-mill crime story with unbelievable coincidences, high predictability and a set of two dimensional characters. This is all the more regrettable, as the performances of the actors are good, as are the photography and the set design.<br /><br />The finale in Central Station, New York is breath taking. It starts in the subterranean section and then moves up to the roof. The movie can be praised for its good use of architecture.'\n",
      "Round-trip:  watching beautiful women [UNK] around playing [UNK] and [UNK] is one of the most [UNK] [UNK] [UNK] the [UNK] film lets me enjoy so the house on [UNK] street was not [UNK] a waste of time although the story is [UNK] and the screenplay [UNK] and somewhat [UNK] br there are many [UNK] to different [UNK] [UNK] not least the [UNK] of [UNK] [UNK] in the [UNK] role she is [UNK] up as [UNK] [UNK] and she is not far off the mark not at all but her character is not [UNK] the way she is [UNK] to the audience she should be someone with political [UNK] and a [UNK] in life after all the movie [UNK] with a clearly [UNK] time period true events and a [UNK] [UNK] but the story [UNK] within the first minutes into a sorry [UNK] crime story with [UNK] [UNK] high [UNK] and a set of two [UNK] characters this is all the more [UNK] as the performances of the actors are good as are the [UNK] and the set [UNK] br the [UNK] in [UNK] [UNK] new york is [UNK] taking it starts in the [UNK] [UNK] and then [UNK] up to the [UNK] the movie can be [UNK] for its good use of [UNK]                                                                                                                                                                                                                                                                                                                                                                                                                                                                                                                                                                      \n",
      "\n",
      "Original:  b'A group of people are invited to there high school reunion, but after they arrive they discover it to be a scam by an old classmate they played an almost fatal prank on. Now, he seeks to get revenge on all those that hurt him by sealing all the exits and cutting off all telephone lines.<br /><br />Dark slasher film with an unexceptional premise. Bringing it up a notch are a few good performances, some rather creative death scenes, plenty of excitement & scares, some humor and an original ending.<br /><br />Unrated for Extreme Violence, Graphic Nudity, Sexual Situations, Profanity and Drug Use.'\n",
      "Round-trip:  a group of people are [UNK] to there high school [UNK] but after they [UNK] they [UNK] it to be a [UNK] by an old [UNK] they played an almost [UNK] [UNK] on now he [UNK] to get [UNK] on all those that [UNK] him by [UNK] all the [UNK] and [UNK] off all [UNK] [UNK] br dark [UNK] film with an [UNK] premise [UNK] it up a [UNK] are a few good performances some rather [UNK] death scenes plenty of [UNK] [UNK] some humor and an original [UNK] br [UNK] for [UNK] violence [UNK] [UNK] sexual [UNK] [UNK] and [UNK] use                                                                                                                                                                                                                                                                                                                                                                                                                                                                                                                                                                                                                                                                                    \n",
      "\n",
      "Original:  b'The short that starts this film is the true footage of a guy named Gary, apparently it was taken randomly in the parking lot of a television station where Gary works in the town of Beaver. Gary is a little \"different\"; he is an impersonator and drives an old Chevy named Farrah (after Fawcett). Lo and behold the filmmaker gets a letter from Gary some time later inviting him to return to Beaver to get some footage of the local talent contest he has put together, including Gary\\'s staggering performace as Olivia Newton Dawn. Oh, my. The two shorts that follow are Gary\\'s story, the same one you just witnessed only the first is portrayed by Sean Penn and the second by Crispin Glover titled \"The Orkly Kid.\" If you are in the mood for making fun of someone this is definitely the film to watch. I was doubled over with laughter through most of it, especially Crispins performance which could definitely stand on it\\'s own. When it was over, I had to rewind the film to once again watch the real Gary and all his shining idiocy. Although Olivia was the focus, I would have liked to have seen one of the \"fictitious\" shorts take a jab at Gary\\'s Barry Manilow impersonation, whic h was equally ridiculous.'\n",
      "Round-trip:  the short that starts this film is the true footage of a guy named [UNK] apparently it was taken [UNK] in the [UNK] lot of a television [UNK] where [UNK] works in the town of [UNK] [UNK] is a little different he is an [UNK] and [UNK] an old [UNK] named [UNK] after [UNK] [UNK] and [UNK] the [UNK] gets a [UNK] from [UNK] some time later [UNK] him to return to [UNK] to get some footage of the local talent [UNK] he has put together including [UNK] [UNK] [UNK] as [UNK] [UNK] [UNK] oh my the two [UNK] that follow are [UNK] story the same one you just [UNK] only the first is portrayed by [UNK] [UNK] and the second by [UNK] [UNK] [UNK] the [UNK] kid if you are in the [UNK] for making fun of someone this is definitely the film to watch i was [UNK] over with [UNK] through most of it especially [UNK] performance which could definitely stand on its own when it was over i had to [UNK] the film to once again watch the real [UNK] and all his [UNK] [UNK] although [UNK] was the [UNK] i would have liked to have seen one of the [UNK] [UNK] take a [UNK] at [UNK] [UNK] [UNK] [UNK] [UNK] [UNK] was [UNK] ridiculous                                                                                                                                                                                                                                                                                                                                                                                                                                                                                                                                                                \n",
      "\n"
     ]
    }
   ],
   "source": [
    "for n in range(3):\n",
    "  print(\"Original: \", example[n].numpy())\n",
    "  print(\"Round-trip: \", \" \".join(vocab[encoded_example[n]]))\n",
    "  print()"
   ]
  },
  {
   "cell_type": "markdown",
   "metadata": {
    "id": "bjUqGVBxGw-t"
   },
   "source": [
    "## Создание модели"
   ]
  },
  {
   "cell_type": "code",
   "execution_count": 13,
   "metadata": {
    "execution": {
     "iopub.execute_input": "2023-11-16T13:53:21.147553Z",
     "iopub.status.busy": "2023-11-16T13:53:21.146953Z",
     "iopub.status.idle": "2023-11-16T13:53:22.877537Z",
     "shell.execute_reply": "2023-11-16T13:53:22.876694Z"
    },
    "id": "LwfoBkmRYcP3"
   },
   "outputs": [],
   "source": [
    "model = tf.keras.Sequential([\n",
    "    encoder,\n",
    "    tf.keras.layers.Embedding(     # Добавление слоя Embedding для преобразования числовых индексов в вектора\n",
    "        input_dim=len(encoder.get_vocabulary()),\n",
    "        output_dim=64,\n",
    "        # Используйте маскировку для обработки переменных длин последовательностей\n",
    "        mask_zero=True),\n",
    "    tf.keras.layers.Bidirectional(tf.keras.layers.LSTM(64)),\n",
    "    tf.keras.layers.Dense(64, activation='relu'),\n",
    "    tf.keras.layers.Dense(1)\n",
    "])"
   ]
  },
  {
   "cell_type": "markdown",
   "metadata": {},
   "source": [
    "##### Эта модель принимает текстовые данные, кодирует их с использованием слоя TextVectorization (encoder), преобразует числовые индексы в вектора с помощью слоя Embedding, пропускает эти вектора через Bidirectional LSTM для обработки контекста в обе стороны последовательности, затем пропускает через полносвязный слой с функцией активации ReLU и, наконец, передает через выходной слой без функции активации для бинарной классификации."
   ]
  },
  {
   "cell_type": "code",
   "execution_count": 14,
   "metadata": {
    "execution": {
     "iopub.execute_input": "2023-11-16T13:53:22.883145Z",
     "iopub.status.busy": "2023-11-16T13:53:22.882402Z",
     "iopub.status.idle": "2023-11-16T13:53:22.886822Z",
     "shell.execute_reply": "2023-11-16T13:53:22.886145Z"
    },
    "id": "87a8-CwfKebw"
   },
   "outputs": [
    {
     "name": "stdout",
     "output_type": "stream",
     "text": [
      "[False, True, True, True, True]\n"
     ]
    }
   ],
   "source": [
    "print([layer.supports_masking for layer in model.layers])"
   ]
  },
  {
   "cell_type": "code",
   "execution_count": null,
   "metadata": {},
   "outputs": [],
   "source": [
    "# Текстовый пример для предсказания\n",
    "sample_text = ('The movie was cool. The animation and the graphics '\n",
    "               'were out of this world. I would recommend this movie.')\n",
    "\n",
    "# Преобразование текста в массив и выполнение предсказания с использованием модели\n",
    "predictions = model.predict(np.array([sample_text]))\n",
    "\n",
    "# Вывод предсказания\n",
    "print(predictions[0])"
   ]
  },
  {
   "cell_type": "code",
   "execution_count": 16,
   "metadata": {
    "execution": {
     "iopub.execute_input": "2023-11-16T13:53:25.582684Z",
     "iopub.status.busy": "2023-11-16T13:53:25.581876Z",
     "iopub.status.idle": "2023-11-16T13:53:25.717835Z",
     "shell.execute_reply": "2023-11-16T13:53:25.716816Z"
    },
    "id": "UIgpuTeFNDzq"
   },
   "outputs": [
    {
     "name": "stdout",
     "output_type": "stream",
     "text": [
      "1/1 [==============================] - 0s 86ms/step\n",
      "[0.00856275]\n"
     ]
    }
   ],
   "source": [
    "padding = \"the \" * 2000\n",
    "predictions = model.predict(np.array([sample_text, padding]))\n",
    "print(predictions[0])"
   ]
  },
  {
   "cell_type": "code",
   "execution_count": 17,
   "metadata": {
    "execution": {
     "iopub.execute_input": "2023-11-16T13:53:25.721282Z",
     "iopub.status.busy": "2023-11-16T13:53:25.720988Z",
     "iopub.status.idle": "2023-11-16T13:53:25.738063Z",
     "shell.execute_reply": "2023-11-16T13:53:25.737157Z"
    },
    "id": "kj2xei41YZjC"
   },
   "outputs": [],
   "source": [
    "model.compile(loss=tf.keras.losses.BinaryCrossentropy(from_logits=True),\n",
    "              optimizer=tf.keras.optimizers.Adam(1e-4),\n",
    "              metrics=['accuracy'])"
   ]
  },
  {
   "cell_type": "markdown",
   "metadata": {
    "id": "zIwH3nto596k"
   },
   "source": [
    "## Обучение модели"
   ]
  },
  {
   "cell_type": "code",
   "execution_count": 18,
   "metadata": {
    "execution": {
     "iopub.execute_input": "2023-11-16T13:53:25.741480Z",
     "iopub.status.busy": "2023-11-16T13:53:25.741230Z",
     "iopub.status.idle": "2023-11-16T13:57:18.192381Z",
     "shell.execute_reply": "2023-11-16T13:57:18.191549Z"
    },
    "id": "hw86wWS4YgR2"
   },
   "outputs": [
    {
     "name": "stdout",
     "output_type": "stream",
     "text": [
      "Epoch 1/10\n"
     ]
    },
    {
     "name": "stderr",
     "output_type": "stream",
     "text": [
      "2023-11-16 13:53:32.243442: W tensorflow/core/common_runtime/type_inference.cc:339] Type inference failed. This indicates an invalid graph that escaped type checking. Error message: INVALID_ARGUMENT: expected compatible input types, but input 1:\n",
      "type_id: TFT_OPTIONAL\n",
      "args {\n",
      "  type_id: TFT_PRODUCT\n",
      "  args {\n",
      "    type_id: TFT_TENSOR\n",
      "    args {\n",
      "      type_id: TFT_INT32\n",
      "    }\n",
      "  }\n",
      "}\n",
      " is neither a subtype nor a supertype of the combined inputs preceding it:\n",
      "type_id: TFT_OPTIONAL\n",
      "args {\n",
      "  type_id: TFT_PRODUCT\n",
      "  args {\n",
      "    type_id: TFT_TENSOR\n",
      "    args {\n",
      "      type_id: TFT_FLOAT\n",
      "    }\n",
      "  }\n",
      "}\n",
      "\n",
      "\tfor Tuple type infernce function 0\n",
      "\twhile inferring type of node 'cond_36/output/_23'\n",
      "WARNING: All log messages before absl::InitializeLog() is called are written to STDERR\n",
      "I0000 00:00:1700142813.152065   83765 device_compiler.h:186] Compiled cluster using XLA!  This line is logged at most once for the lifetime of the process.\n"
     ]
    },
    {
     "name": "stdout",
     "output_type": "stream",
     "text": [
      "391/391 [==============================] - 43s 88ms/step - loss: 0.6566 - accuracy: 0.5580 - val_loss: 0.5489 - val_accuracy: 0.7505\n",
      "Epoch 2/10\n",
      "391/391 [==============================] - 21s 54ms/step - loss: 0.4354 - accuracy: 0.7937 - val_loss: 0.3724 - val_accuracy: 0.8234\n",
      "Epoch 3/10\n",
      "391/391 [==============================] - 22s 54ms/step - loss: 0.3451 - accuracy: 0.8468 - val_loss: 0.3403 - val_accuracy: 0.8521\n",
      "Epoch 4/10\n",
      "391/391 [==============================] - 21s 52ms/step - loss: 0.3224 - accuracy: 0.8601 - val_loss: 0.3332 - val_accuracy: 0.8573\n",
      "Epoch 5/10\n",
      "391/391 [==============================] - 21s 52ms/step - loss: 0.3168 - accuracy: 0.8623 - val_loss: 0.3291 - val_accuracy: 0.8620\n",
      "Epoch 6/10\n",
      "391/391 [==============================] - 21s 52ms/step - loss: 0.3088 - accuracy: 0.8658 - val_loss: 0.3370 - val_accuracy: 0.8615\n",
      "Epoch 7/10\n",
      "391/391 [==============================] - 22s 52ms/step - loss: 0.3060 - accuracy: 0.8692 - val_loss: 0.3271 - val_accuracy: 0.8448\n",
      "Epoch 8/10\n",
      "391/391 [==============================] - 21s 52ms/step - loss: 0.3033 - accuracy: 0.8714 - val_loss: 0.3249 - val_accuracy: 0.8583\n",
      "Epoch 9/10\n",
      "391/391 [==============================] - 21s 51ms/step - loss: 0.3017 - accuracy: 0.8695 - val_loss: 0.3293 - val_accuracy: 0.8385\n",
      "Epoch 10/10\n",
      "391/391 [==============================] - 21s 52ms/step - loss: 0.2995 - accuracy: 0.8717 - val_loss: 0.3217 - val_accuracy: 0.8630\n"
     ]
    }
   ],
   "source": [
    "# Обучение модели на обучающей выборке в течение 10 эпох\n",
    "# Проверка эффективности на тестовой выборке после каждой эпохи\n",
    "history = model.fit(train_dataset, epochs=10,\n",
    "                    validation_data=test_dataset,\n",
    "                    validation_steps=30)"
   ]
  },
  {
   "cell_type": "code",
   "execution_count": 19,
   "metadata": {
    "execution": {
     "iopub.execute_input": "2023-11-16T13:57:18.196483Z",
     "iopub.status.busy": "2023-11-16T13:57:18.195833Z",
     "iopub.status.idle": "2023-11-16T13:57:27.543738Z",
     "shell.execute_reply": "2023-11-16T13:57:27.543049Z"
    },
    "id": "BaNbXi43YgUT"
   },
   "outputs": [
    {
     "name": "stdout",
     "output_type": "stream",
     "text": [
      "391/391 [==============================] - 9s 23ms/step - loss: 0.3167 - accuracy: 0.8624\n",
      "Test Loss: 0.3167201280593872\n",
      "Test Accuracy: 0.8623600006103516\n"
     ]
    }
   ],
   "source": [
    "test_loss, test_acc = model.evaluate(test_dataset)\n",
    "\n",
    "print('Test Loss:', test_loss)\n",
    "print('Test Accuracy:', test_acc)"
   ]
  },
  {
   "cell_type": "markdown",
   "metadata": {},
   "source": [
    "#### Следующий код создает график с двумя подграфиками (1 строка, 2 столбца). Первый подграфик отображает метрику точности (accuracy), а второй - метрику потерь (loss). В обоих случаях используется функция plot_graphs, которую, вероятно, вы реализовали для отображения соответствующих графиков. "
   ]
  },
  {
   "cell_type": "code",
   "execution_count": 20,
   "metadata": {
    "execution": {
     "iopub.execute_input": "2023-11-16T13:57:27.547491Z",
     "iopub.status.busy": "2023-11-16T13:57:27.546921Z",
     "iopub.status.idle": "2023-11-16T13:57:27.870857Z",
     "shell.execute_reply": "2023-11-16T13:57:27.870227Z"
    },
    "id": "OZmwt_mzaQJk"
   },
   "outputs": [
    {
     "data": {
      "text/plain": [
       "(0.0, 0.6744414046406746)"
      ]
     },
     "execution_count": 20,
     "metadata": {},
     "output_type": "execute_result"
    },
    {
     "data": {
      "image/png": "[encoded data removed]",
      "text/plain": [
       "<Figure size 1600x800 with 2 Axes>"
      ]
     },
     "metadata": {},
     "output_type": "display_data"
    }
   ],
   "source": [
    "plt.figure(figsize=(16, 8))\n",
    "plt.subplot(1, 2, 1)\n",
    "plot_graphs(history, 'accuracy')\n",
    "plt.ylim(None, 1)\n",
    "plt.subplot(1, 2, 2)\n",
    "plot_graphs(history, 'loss')\n",
    "plt.ylim(0, None)"
   ]
  },
  {
   "cell_type": "code",
   "execution_count": 21,
   "metadata": {
    "execution": {
     "iopub.execute_input": "2023-11-16T13:57:27.874747Z",
     "iopub.status.busy": "2023-11-16T13:57:27.874242Z",
     "iopub.status.idle": "2023-11-16T13:57:30.018286Z",
     "shell.execute_reply": "2023-11-16T13:57:30.017587Z"
    },
    "id": "ZXgfQSgRW6zU"
   },
   "outputs": [
    {
     "name": "stdout",
     "output_type": "stream",
     "text": [
      "1/1 [==============================] - 2s 2s/step\n"
     ]
    }
   ],
   "source": [
    "sample_text = ('The movie was cool. The animation and the graphics '\n",
    "               'were out of this world. I would recommend this movie.')\n",
    "predictions = model.predict(np.array([sample_text]))"
   ]
  },
  {
   "cell_type": "markdown",
   "metadata": {
    "id": "7g1evcaRpTKm"
   },
   "source": [
    "## Сложите два или более слоев LSTM"
   ]
  },
  {
   "cell_type": "code",
   "execution_count": 22,
   "metadata": {
    "execution": {
     "iopub.execute_input": "2023-11-16T13:57:30.022067Z",
     "iopub.status.busy": "2023-11-16T13:57:30.021520Z",
     "iopub.status.idle": "2023-11-16T13:57:33.027922Z",
     "shell.execute_reply": "2023-11-16T13:57:33.026895Z"
    },
    "id": "jo1jjO3vn0jo"
   },
   "outputs": [],
   "source": [
    "model = tf.keras.Sequential([\n",
    "    encoder,\n",
    "    tf.keras.layers.Embedding(len(encoder.get_vocabulary()), 64, mask_zero=True), # Добавление слоя Embedding для преобразования числовых индексов в вектора\n",
    "    tf.keras.layers.Bidirectional(tf.keras.layers.LSTM(64,  return_sequences=True)), # Добавление двунаправленного LSTM слоя\n",
    "    tf.keras.layers.Bidirectional(tf.keras.layers.LSTM(32)),\n",
    "    tf.keras.layers.Dense(64, activation='relu'),\n",
    "    tf.keras.layers.Dropout(0.5),\n",
    "    tf.keras.layers.Dense(1)\n",
    "])"
   ]
  },
  {
   "cell_type": "markdown",
   "metadata": {},
   "source": [
    "### Эта модель имеет архитектуру, которая включает в себя слой Embedding для векторизации текста, два слоя LSTM (первый возвращающий последовательности, второй нет), полносвязный слой с функцией активации ReLU, слой Dropout для регуляризации, и выходной слой без функции активации для задачи бинарной классификации."
   ]
  },
  {
   "cell_type": "code",
   "execution_count": 23,
   "metadata": {
    "execution": {
     "iopub.execute_input": "2023-11-16T13:57:33.032386Z",
     "iopub.status.busy": "2023-11-16T13:57:33.031705Z",
     "iopub.status.idle": "2023-11-16T13:57:33.041694Z",
     "shell.execute_reply": "2023-11-16T13:57:33.041104Z"
    },
    "id": "hEPV5jVGp-is"
   },
   "outputs": [],
   "source": [
    "model.compile(loss=tf.keras.losses.BinaryCrossentropy(from_logits=True),\n",
    "              optimizer=tf.keras.optimizers.Adam(1e-4),\n",
    "              metrics=['accuracy'])"
   ]
  },
  {
   "cell_type": "code",
   "execution_count": 24,
   "metadata": {
    "execution": {
     "iopub.execute_input": "2023-11-16T13:57:33.045043Z",
     "iopub.status.busy": "2023-11-16T13:57:33.044780Z",
     "iopub.status.idle": "2023-11-16T14:04:36.109421Z",
     "shell.execute_reply": "2023-11-16T14:04:36.108547Z"
    },
    "id": "LeSE-YjdqAeN"
   },
   "outputs": [
    {
     "name": "stdout",
     "output_type": "stream",
     "text": [
      "Epoch 1/10\n",
      "391/391 [==============================] - 66s 131ms/step - loss: 0.6284 - accuracy: 0.5935 - val_loss: 0.4341 - val_accuracy: 0.8031\n",
      "Epoch 2/10\n",
      "391/391 [==============================] - 40s 101ms/step - loss: 0.3818 - accuracy: 0.8336 - val_loss: 0.3429 - val_accuracy: 0.8474\n",
      "Epoch 3/10\n",
      "391/391 [==============================] - 40s 100ms/step - loss: 0.3369 - accuracy: 0.8557 - val_loss: 0.3489 - val_accuracy: 0.8458\n",
      "Epoch 4/10\n",
      "391/391 [==============================] - 40s 101ms/step - loss: 0.3265 - accuracy: 0.8590 - val_loss: 0.3239 - val_accuracy: 0.8589\n",
      "Epoch 5/10\n",
      "391/391 [==============================] - 39s 99ms/step - loss: 0.3123 - accuracy: 0.8678 - val_loss: 0.3265 - val_accuracy: 0.8500\n",
      "Epoch 6/10\n",
      "391/391 [==============================] - 40s 100ms/step - loss: 0.3072 - accuracy: 0.8690 - val_loss: 0.3242 - val_accuracy: 0.8604\n",
      "Epoch 7/10\n",
      "391/391 [==============================] - 40s 100ms/step - loss: 0.3060 - accuracy: 0.8673 - val_loss: 0.3211 - val_accuracy: 0.8464\n",
      "Epoch 8/10\n",
      "391/391 [==============================] - 40s 100ms/step - loss: 0.3011 - accuracy: 0.8724 - val_loss: 0.3169 - val_accuracy: 0.8531\n",
      "Epoch 9/10\n",
      "391/391 [==============================] - 39s 99ms/step - loss: 0.2973 - accuracy: 0.8717 - val_loss: 0.3248 - val_accuracy: 0.8635\n",
      "Epoch 10/10\n",
      "391/391 [==============================] - 40s 100ms/step - loss: 0.2953 - accuracy: 0.8734 - val_loss: 0.3242 - val_accuracy: 0.8672\n"
     ]
    }
   ],
   "source": [
    "history = model.fit(train_dataset, epochs=10, # Обучение модели на обучающей выборке в течение 10 эпох\n",
    "                    validation_data=test_dataset, # Проверка эффективности на тестовой выборке после каждой эпохи\n",
    "                    validation_steps=30)   "
   ]
  },
  {
   "cell_type": "code",
   "execution_count": 25,
   "metadata": {
    "execution": {
     "iopub.execute_input": "2023-11-16T14:04:36.113173Z",
     "iopub.status.busy": "2023-11-16T14:04:36.112895Z",
     "iopub.status.idle": "2023-11-16T14:04:52.909430Z",
     "shell.execute_reply": "2023-11-16T14:04:52.908607Z"
    },
    "id": "_LdwilM1qPM3"
   },
   "outputs": [
    {
     "name": "stdout",
     "output_type": "stream",
     "text": [
      "391/391 [==============================] - 17s 42ms/step - loss: 0.3255 - accuracy: 0.8652\n",
      "Test Loss: 0.325457364320755\n",
      "Test Accuracy: 0.8652399778366089\n"
     ]
    }
   ],
   "source": [
    "test_loss, test_acc = model.evaluate(test_dataset)\n",
    "\n",
    "print('Test Loss:', test_loss)\n",
    "print('Test Accuracy:', test_acc)"
   ]
  },
  {
   "cell_type": "markdown",
   "metadata": {},
   "source": [
    "### Результаты оценки указывают на потери (loss) равные приблизительно 0.3255 и точность (accuracy) равную приблизительно 0.8652."
   ]
  },
  {
   "cell_type": "code",
   "execution_count": 26,
   "metadata": {
    "execution": {
     "iopub.execute_input": "2023-11-16T14:04:52.912608Z",
     "iopub.status.busy": "2023-11-16T14:04:52.912342Z",
     "iopub.status.idle": "2023-11-16T14:04:57.162195Z",
     "shell.execute_reply": "2023-11-16T14:04:57.161438Z"
    },
    "id": "ykUKnAoqbycW"
   },
   "outputs": [
    {
     "name": "stdout",
     "output_type": "stream",
     "text": [
      "1/1 [==============================] - 4s 4s/step\n",
      "[[-1.6299357]]\n"
     ]
    }
   ],
   "source": [
    "# мәтін үлгісі бойынша болжау\n",
    "\n",
    "sample_text = ('The movie was not good. The animation and the graphics '\n",
    "               'were terrible. I would not recommend this movie.')\n",
    "predictions = model.predict(np.array([sample_text]))\n",
    "print(predictions)"
   ]
  },
  {
   "cell_type": "markdown",
   "metadata": {},
   "source": [
    "### Этот код создает график для отображения метрик обучения (точности и потерь)"
   ]
  },
  {
   "cell_type": "code",
   "execution_count": 27,
   "metadata": {
    "execution": {
     "iopub.execute_input": "2023-11-16T14:04:57.165289Z",
     "iopub.status.busy": "2023-11-16T14:04:57.165000Z",
     "iopub.status.idle": "2023-11-16T14:04:57.467231Z",
     "shell.execute_reply": "2023-11-16T14:04:57.466587Z"
    },
    "id": "_YYub0EDtwCu"
   },
   "outputs": [
    {
     "data": {
      "image/png": "[encoded data removed]",
      "text/plain": [
       "<Figure size 1600x600 with 2 Axes>"
      ]
     },
     "metadata": {},
     "output_type": "display_data"
    }
   ],
   "source": [
    "plt.figure(figsize=(16, 6))\n",
    "plt.subplot(1, 2, 1)\n",
    "plot_graphs(history, 'accuracy')\n",
    "plt.subplot(1, 2, 2)\n",
    "plot_graphs(history, 'loss')"
   ]
  }
 ],
 "metadata": {
  "accelerator": "GPU",
  "colab": {
   "collapsed_sections": [],
   "name": "text_classification_rnn.ipynb",
   "provenance": [],
   "toc_visible": true
  },
  "kernelspec": {
   "display_name": "Python 3 (ipykernel)",
   "language": "python",
   "name": "python3"
  },
  "language_info": {
   "codemirror_mode": {
    "name": "ipython",
    "version": 3
   },
   "file_extension": ".py",
   "mimetype": "text/x-python",
   "name": "python",
   "nbconvert_exporter": "python",
   "pygments_lexer": "ipython3",
   "version": "3.10.9"
  }
 },
 "nbformat": 4,
 "nbformat_minor": 1
}
