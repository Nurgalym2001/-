{
 "cells": [
  {
   "cell_type": "code",
   "execution_count": 1,
   "id": "19c54c9e",
   "metadata": {},
   "outputs": [],
   "source": [
    "import warnings\n",
    "warnings.filterwarnings('ignore')\n",
    "\n",
    "import numpy as np # линейная алгебра\n",
    "import pandas as pd # обработка данных, ввод-вывод CSV-файла (например, pd.read_csv)\n",
    "\n",
    "# Библиотеки визуализации\n",
    "import matplotlib.pyplot as plt\n",
    "import seaborn as sns\n",
    "\n",
    "# Библиотеки машинного обучения\n",
    "from sklearn.model_selection import train_test_split,GridSearchCV,RandomizedSearchCV\n",
    "from sklearn.feature_extraction.text import TfidfVectorizer\n",
    "from sklearn.feature_selection import SelectKBest,chi2,f_classif\n",
    "from sklearn.ensemble import RandomForestClassifier,VotingClassifier,AdaBoostClassifier,GradientBoostingClassifier,BaggingClassifier\n",
    "from sklearn.metrics import classification_report , confusion_matrix\n",
    "from sklearn.tree import DecisionTreeClassifier\n",
    "from xgboost import XGBClassifier\n",
    "from sklearn.neighbors import KNeighborsClassifier\n",
    "from sklearn.naive_bayes import GaussianNB, MultinomialNB, BernoulliNB\n",
    "\n",
    "import pickle\n",
    "import string\n",
    "\n",
    "# Библиотеки для обработки текста\n",
    "import nltk\n",
    "from nltk.stem import PorterStemmer\n",
    "import os"
   ]
  },
  {
   "cell_type": "code",
   "execution_count": 2,
   "id": "5ce75dc8",
   "metadata": {},
   "outputs": [
    {
     "data": {
      "text/html": [
       "<div>\n",
       "<style scoped>\n",
       "    .dataframe tbody tr th:only-of-type {\n",
       "        vertical-align: middle;\n",
       "    }\n",
       "\n",
       "    .dataframe tbody tr th {\n",
       "        vertical-align: top;\n",
       "    }\n",
       "\n",
       "    .dataframe thead th {\n",
       "        text-align: right;\n",
       "    }\n",
       "</style>\n",
       "<table border=\"1\" class=\"dataframe\">\n",
       "  <thead>\n",
       "    <tr style=\"text-align: right;\">\n",
       "      <th></th>\n",
       "      <th>Unnamed: 0</th>\n",
       "      <th>text</th>\n",
       "      <th>class</th>\n",
       "    </tr>\n",
       "  </thead>\n",
       "  <tbody>\n",
       "    <tr>\n",
       "      <th>0</th>\n",
       "      <td>2</td>\n",
       "      <td>Ex Wife Threatening SuicideRecently I left my ...</td>\n",
       "      <td>suicide</td>\n",
       "    </tr>\n",
       "    <tr>\n",
       "      <th>1</th>\n",
       "      <td>3</td>\n",
       "      <td>Am I weird I don't get affected by compliments...</td>\n",
       "      <td>non-suicide</td>\n",
       "    </tr>\n",
       "    <tr>\n",
       "      <th>2</th>\n",
       "      <td>4</td>\n",
       "      <td>Finally 2020 is almost over... So I can never ...</td>\n",
       "      <td>non-suicide</td>\n",
       "    </tr>\n",
       "    <tr>\n",
       "      <th>3</th>\n",
       "      <td>8</td>\n",
       "      <td>i need helpjust help me im crying so hard</td>\n",
       "      <td>suicide</td>\n",
       "    </tr>\n",
       "    <tr>\n",
       "      <th>4</th>\n",
       "      <td>9</td>\n",
       "      <td>I’m so lostHello, my name is Adam (16) and I’v...</td>\n",
       "      <td>suicide</td>\n",
       "    </tr>\n",
       "  </tbody>\n",
       "</table>\n",
       "</div>"
      ],
      "text/plain": [
       "   Unnamed: 0                                               text        class\n",
       "0           2  Ex Wife Threatening SuicideRecently I left my ...      suicide\n",
       "1           3  Am I weird I don't get affected by compliments...  non-suicide\n",
       "2           4  Finally 2020 is almost over... So I can never ...  non-suicide\n",
       "3           8          i need helpjust help me im crying so hard      suicide\n",
       "4           9  I’m so lostHello, my name is Adam (16) and I’v...      suicide"
      ]
     },
     "execution_count": 2,
     "metadata": {},
     "output_type": "execute_result"
    }
   ],
   "source": [
    "df=pd.read_csv('/Users/LENOVO/DESKTOP/jupyter/Dataset.csv')\n",
    "df.head()"
   ]
  },
  {
   "cell_type": "markdown",
   "id": "81fc1e88",
   "metadata": {},
   "source": [
    "# Предварительная обработка данных"
   ]
  },
  {
   "cell_type": "code",
   "execution_count": 3,
   "id": "e3a74cb1",
   "metadata": {},
   "outputs": [
    {
     "data": {
      "text/plain": [
       "(5000, 3)"
      ]
     },
     "execution_count": 3,
     "metadata": {},
     "output_type": "execute_result"
    }
   ],
   "source": [
    "df.shape"
   ]
  },
  {
   "cell_type": "code",
   "execution_count": 4,
   "id": "ce92b247",
   "metadata": {},
   "outputs": [
    {
     "data": {
      "text/plain": [
       "non-suicide    2531\n",
       "suicide        2469\n",
       "Name: class, dtype: int64"
      ]
     },
     "execution_count": 4,
     "metadata": {},
     "output_type": "execute_result"
    }
   ],
   "source": [
    "df['class'].value_counts()"
   ]
  },
  {
   "cell_type": "code",
   "execution_count": 5,
   "id": "88795292",
   "metadata": {},
   "outputs": [
    {
     "name": "stdout",
     "output_type": "stream",
     "text": [
      "<class 'pandas.core.frame.DataFrame'>\n",
      "RangeIndex: 5000 entries, 0 to 4999\n",
      "Data columns (total 3 columns):\n",
      " #   Column      Non-Null Count  Dtype \n",
      "---  ------      --------------  ----- \n",
      " 0   Unnamed: 0  5000 non-null   int64 \n",
      " 1   text        5000 non-null   object\n",
      " 2   class       5000 non-null   object\n",
      "dtypes: int64(1), object(2)\n",
      "memory usage: 117.3+ KB\n"
     ]
    }
   ],
   "source": [
    "df.info()"
   ]
  },
  {
   "cell_type": "code",
   "execution_count": 6,
   "id": "36530ba1",
   "metadata": {},
   "outputs": [
    {
     "data": {
      "text/plain": [
       "0"
      ]
     },
     "execution_count": 6,
     "metadata": {},
     "output_type": "execute_result"
    }
   ],
   "source": [
    "df.duplicated().sum()"
   ]
  },
  {
   "cell_type": "markdown",
   "id": "82257b0d",
   "metadata": {},
   "source": [
    "# Визуализация данных"
   ]
  },
  {
   "cell_type": "code",
   "execution_count": 7,
   "id": "77edbf71",
   "metadata": {},
   "outputs": [
    {
     "name": "stdout",
     "output_type": "stream",
     "text": [
      "non-suicide    2531\n",
      "suicide        2469\n",
      "Name: class, dtype: int64\n"
     ]
    },
    {
     "data": {
      "image/png": "[encoded data removed]",
      "text/plain": [
       "<Figure size 1000x400 with 2 Axes>"
      ]
     },
     "metadata": {},
     "output_type": "display_data"
    }
   ],
   "source": [
    "classCnt = df['class'].value_counts()\n",
    "print(classCnt)\n",
    "\n",
    "plt.figure(figsize=((10,4)))\n",
    "\n",
    "plt.subplot(1,2,1)\n",
    "sns.countplot(df,x='class')\n",
    "\n",
    "plt.subplot(1,2,2)\n",
    "plt.pie(classCnt,labels = classCnt.index,autopct='%.0f%%')\n",
    "\n",
    "plt.show()"
   ]
  },
  {
   "cell_type": "markdown",
   "id": "cfe02b55",
   "metadata": {},
   "source": [
    "# Предварительная обработка текста"
   ]
  },
  {
   "cell_type": "markdown",
   "id": "7ed8aaaa",
   "metadata": {},
   "source": [
    "#### Опускание текста в нижний регистр"
   ]
  },
  {
   "cell_type": "code",
   "execution_count": 8,
   "id": "42b647a3",
   "metadata": {},
   "outputs": [],
   "source": [
    "df['text']= df['text'].str.lower()"
   ]
  },
  {
   "cell_type": "markdown",
   "id": "b019b9e5",
   "metadata": {},
   "source": [
    "#### Убрать знаки препинания"
   ]
  },
  {
   "cell_type": "code",
   "execution_count": 9,
   "id": "66bbe67e",
   "metadata": {},
   "outputs": [],
   "source": [
    "df['text'] = df['text'].str.replace(r'[^\\w\\s]+', '',regex = True)"
   ]
  },
  {
   "cell_type": "markdown",
   "id": "bc42c15d",
   "metadata": {},
   "source": [
    "#### Удаление стоп-слова"
   ]
  },
  {
   "cell_type": "code",
   "execution_count": 10,
   "id": "d231bc31",
   "metadata": {},
   "outputs": [
    {
     "name": "stderr",
     "output_type": "stream",
     "text": [
      "[nltk_data] Downloading package stopwords to\n",
      "[nltk_data]     C:\\Users\\LENOVO\\AppData\\Roaming\\nltk_data...\n",
      "[nltk_data]   Package stopwords is already up-to-date!\n"
     ]
    }
   ],
   "source": [
    "from nltk.corpus import stopwords\n",
    "from nltk.stem import WordNetLemmatizer\n",
    "nltk.download('stopwords')\n",
    "stop_words = nltk.corpus.stopwords.words('english')\n",
    "lemmatizer = WordNetLemmatizer()"
   ]
  },
  {
   "cell_type": "code",
   "execution_count": 11,
   "id": "b1f511ac",
   "metadata": {},
   "outputs": [],
   "source": [
    "stop_words = set(stopwords.words('english'))\n",
    "df['text'] = df['text'].apply(lambda x: ' '.join([word for word in x.split() if word not in (stop_words)]))"
   ]
  },
  {
   "cell_type": "markdown",
   "id": "e8c12db8",
   "metadata": {},
   "source": [
    "#### Токенизация"
   ]
  },
  {
   "cell_type": "code",
   "execution_count": 12,
   "id": "7cb8e714",
   "metadata": {},
   "outputs": [
    {
     "name": "stderr",
     "output_type": "stream",
     "text": [
      "[nltk_data] Downloading package punkt to\n",
      "[nltk_data]     C:\\Users\\LENOVO\\AppData\\Roaming\\nltk_data...\n",
      "[nltk_data]   Package punkt is already up-to-date!\n"
     ]
    }
   ],
   "source": [
    "nltk.download('punkt')\n",
    "df['text'] = df['text'].apply(lambda x:nltk.word_tokenize(x))"
   ]
  },
  {
   "cell_type": "markdown",
   "id": "0fd49f93",
   "metadata": {},
   "source": [
    "#### Стемминг"
   ]
  },
  {
   "cell_type": "code",
   "execution_count": 13,
   "id": "d49eb892",
   "metadata": {},
   "outputs": [],
   "source": [
    "ps = PorterStemmer()\n",
    "df['text'] = df['text'].apply(lambda x : [ps.stem(i) for i in x])"
   ]
  },
  {
   "cell_type": "code",
   "execution_count": 14,
   "id": "195b26db",
   "metadata": {},
   "outputs": [],
   "source": [
    "df['text']=df['text'].apply(lambda x : ' '.join(x))"
   ]
  },
  {
   "cell_type": "code",
   "execution_count": 15,
   "id": "2c120e54",
   "metadata": {},
   "outputs": [
    {
     "data": {
      "text/html": [
       "<div>\n",
       "<style scoped>\n",
       "    .dataframe tbody tr th:only-of-type {\n",
       "        vertical-align: middle;\n",
       "    }\n",
       "\n",
       "    .dataframe tbody tr th {\n",
       "        vertical-align: top;\n",
       "    }\n",
       "\n",
       "    .dataframe thead th {\n",
       "        text-align: right;\n",
       "    }\n",
       "</style>\n",
       "<table border=\"1\" class=\"dataframe\">\n",
       "  <thead>\n",
       "    <tr style=\"text-align: right;\">\n",
       "      <th></th>\n",
       "      <th>Unnamed: 0</th>\n",
       "      <th>text</th>\n",
       "      <th>class</th>\n",
       "    </tr>\n",
       "  </thead>\n",
       "  <tbody>\n",
       "    <tr>\n",
       "      <th>0</th>\n",
       "      <td>2</td>\n",
       "      <td>ex wife threaten suiciderec left wife good che...</td>\n",
       "      <td>suicide</td>\n",
       "    </tr>\n",
       "    <tr>\n",
       "      <th>1</th>\n",
       "      <td>3</td>\n",
       "      <td>weird dont get affect compliment come someon k...</td>\n",
       "      <td>non-suicide</td>\n",
       "    </tr>\n",
       "    <tr>\n",
       "      <th>2</th>\n",
       "      <td>4</td>\n",
       "      <td>final 2020 almost never hear 2020 bad year eve...</td>\n",
       "      <td>non-suicide</td>\n",
       "    </tr>\n",
       "    <tr>\n",
       "      <th>3</th>\n",
       "      <td>8</td>\n",
       "      <td>need helpjust help im cri hard</td>\n",
       "      <td>suicide</td>\n",
       "    </tr>\n",
       "    <tr>\n",
       "      <th>4</th>\n",
       "      <td>9</td>\n",
       "      <td>im losthello name adam 16 ive struggl year im ...</td>\n",
       "      <td>suicide</td>\n",
       "    </tr>\n",
       "  </tbody>\n",
       "</table>\n",
       "</div>"
      ],
      "text/plain": [
       "   Unnamed: 0                                               text        class\n",
       "0           2  ex wife threaten suiciderec left wife good che...      suicide\n",
       "1           3  weird dont get affect compliment come someon k...  non-suicide\n",
       "2           4  final 2020 almost never hear 2020 bad year eve...  non-suicide\n",
       "3           8                     need helpjust help im cri hard      suicide\n",
       "4           9  im losthello name adam 16 ive struggl year im ...      suicide"
      ]
     },
     "execution_count": 15,
     "metadata": {},
     "output_type": "execute_result"
    }
   ],
   "source": [
    "df.head()"
   ]
  },
  {
   "cell_type": "code",
   "execution_count": 16,
   "id": "0e19bf5e",
   "metadata": {},
   "outputs": [
    {
     "name": "stdout",
     "output_type": "stream",
     "text": [
      "<class 'pandas.core.frame.DataFrame'>\n",
      "RangeIndex: 5000 entries, 0 to 4999\n",
      "Data columns (total 3 columns):\n",
      " #   Column      Non-Null Count  Dtype \n",
      "---  ------      --------------  ----- \n",
      " 0   Unnamed: 0  5000 non-null   int64 \n",
      " 1   text        5000 non-null   object\n",
      " 2   class       5000 non-null   object\n",
      "dtypes: int64(1), object(2)\n",
      "memory usage: 117.3+ KB\n"
     ]
    }
   ],
   "source": [
    "df.info()"
   ]
  },
  {
   "cell_type": "code",
   "execution_count": 17,
   "id": "84c7a487",
   "metadata": {},
   "outputs": [],
   "source": [
    "ind = df[df['text'].isnull()].index"
   ]
  },
  {
   "cell_type": "code",
   "execution_count": 18,
   "id": "7dd4263c",
   "metadata": {},
   "outputs": [
    {
     "data": {
      "text/html": [
       "<div>\n",
       "<style scoped>\n",
       "    .dataframe tbody tr th:only-of-type {\n",
       "        vertical-align: middle;\n",
       "    }\n",
       "\n",
       "    .dataframe tbody tr th {\n",
       "        vertical-align: top;\n",
       "    }\n",
       "\n",
       "    .dataframe thead th {\n",
       "        text-align: right;\n",
       "    }\n",
       "</style>\n",
       "<table border=\"1\" class=\"dataframe\">\n",
       "  <thead>\n",
       "    <tr style=\"text-align: right;\">\n",
       "      <th></th>\n",
       "      <th>Unnamed: 0</th>\n",
       "      <th>text</th>\n",
       "      <th>class</th>\n",
       "    </tr>\n",
       "  </thead>\n",
       "  <tbody>\n",
       "  </tbody>\n",
       "</table>\n",
       "</div>"
      ],
      "text/plain": [
       "Empty DataFrame\n",
       "Columns: [Unnamed: 0, text, class]\n",
       "Index: []"
      ]
     },
     "execution_count": 18,
     "metadata": {},
     "output_type": "execute_result"
    }
   ],
   "source": [
    "df.iloc[ind]"
   ]
  },
  {
   "cell_type": "code",
   "execution_count": 19,
   "id": "eeba89ea",
   "metadata": {},
   "outputs": [],
   "source": [
    "df.dropna(inplace=True)"
   ]
  },
  {
   "cell_type": "markdown",
   "id": "a3681d9f",
   "metadata": {},
   "source": [
    "# Машинное обучение - Выбор модели"
   ]
  },
  {
   "cell_type": "code",
   "execution_count": 20,
   "id": "276bbb85",
   "metadata": {},
   "outputs": [],
   "source": [
    "x,y = df['text'],df['class']"
   ]
  },
  {
   "cell_type": "markdown",
   "id": "4d418a88",
   "metadata": {},
   "source": [
    "# TF-IDF-векторизатор"
   ]
  },
  {
   "cell_type": "code",
   "execution_count": 21,
   "id": "61d070ed",
   "metadata": {},
   "outputs": [],
   "source": [
    "vectorizer = TfidfVectorizer(min_df=50,max_features=5000)\n",
    "x =  vectorizer.fit_transform(x).toarray()"
   ]
  },
  {
   "cell_type": "code",
   "execution_count": 22,
   "id": "5b3c7404",
   "metadata": {},
   "outputs": [],
   "source": [
    "# Save the model\n",
    "with open('tfidf.pkl', 'wb') as f:\n",
    "    pickle.dump(vectorizer, f)   "
   ]
  },
  {
   "cell_type": "code",
   "execution_count": 23,
   "id": "7e967383",
   "metadata": {},
   "outputs": [],
   "source": [
    "X_train,X_test,y_train,y_test = train_test_split(x,y,test_size=0.30,random_state=7)"
   ]
  },
  {
   "cell_type": "code",
   "execution_count": 24,
   "id": "98489959",
   "metadata": {},
   "outputs": [
    {
     "data": {
      "text/plain": [
       "((3500, 810), (1500, 810))"
      ]
     },
     "execution_count": 24,
     "metadata": {},
     "output_type": "execute_result"
    }
   ],
   "source": [
    "X_train.shape,X_test.shape"
   ]
  },
  {
   "cell_type": "markdown",
   "id": "dd2d773f",
   "metadata": {},
   "source": [
    "# Наивный Байесовский классификатор (классификатор голосования)"
   ]
  },
  {
   "cell_type": "code",
   "execution_count": 25,
   "id": "a08087ff",
   "metadata": {},
   "outputs": [
    {
     "name": "stdout",
     "output_type": "stream",
     "text": [
      "Training score: 0.8965714285714286\n",
      "Testing score: 0.864\n"
     ]
    }
   ],
   "source": [
    "nb = GaussianNB()\n",
    "nb2 = BernoulliNB()\n",
    "nb3 = MultinomialNB()\n",
    "VotingClassifiers = VotingClassifier(estimators=[('GaussianNB', nb),('BernoulliNB',nb2), ('MultinomialNB', nb3)], voting = 'soft')\n",
    "VotingClassifiers.fit(X_train, y_train)\n",
    "print('Training score:',VotingClassifiers.score(X_train, y_train))\n",
    "print('Testing score:',VotingClassifiers.score(X_test,y_test))"
   ]
  },
  {
   "cell_type": "code",
   "execution_count": 26,
   "id": "b0ca0693",
   "metadata": {},
   "outputs": [
    {
     "name": "stdout",
     "output_type": "stream",
     "text": [
      "              precision    recall  f1-score   support\n",
      "\n",
      " non-suicide       0.87      0.84      0.86       725\n",
      "     suicide       0.86      0.88      0.87       775\n",
      "\n",
      "    accuracy                           0.86      1500\n",
      "   macro avg       0.86      0.86      0.86      1500\n",
      "weighted avg       0.86      0.86      0.86      1500\n",
      "\n"
     ]
    },
    {
     "data": {
      "image/png": "[encoded data removed]",
      "text/plain": [
       "<Figure size 640x480 with 2 Axes>"
      ]
     },
     "metadata": {},
     "output_type": "display_data"
    }
   ],
   "source": [
    "y_act=y_test\n",
    "y_pred=VotingClassifiers.predict(X_test)\n",
    "sns.heatmap(confusion_matrix(y_act,y_pred),annot=True,cmap='RdYlGn')\n",
    "print(classification_report(y_act,y_pred))"
   ]
  },
  {
   "cell_type": "markdown",
   "id": "51419ed5",
   "metadata": {},
   "source": [
    "# Random Forest"
   ]
  },
  {
   "cell_type": "code",
   "execution_count": 41,
   "id": "376ce087",
   "metadata": {},
   "outputs": [
    {
     "name": "stdout",
     "output_type": "stream",
     "text": [
      "Training score: 0.8034285714285714\n",
      "Testing score: 0.7873333333333333\n",
      "RandomForestClassifier(criterion='entropy', max_depth=3, n_estimators=4)\n"
     ]
    }
   ],
   "source": [
    "classifiers = RandomizedSearchCV(RandomForestClassifier(),{'n_estimators':[4,5],'criterion':['entropy'],\n",
    "                                                      'max_depth':range(1,4),'min_samples_split':range(2,5)},random_state=10)\n",
    "classifiers.fit(X_train, y_train)\n",
    "print('Training score:',classifiers.score(X_train, y_train))\n",
    "print('Testing score:',classifiers.score(X_test,y_test))\n",
    "print(classifiers.best_estimator_)"
   ]
  },
  {
   "cell_type": "code",
   "execution_count": 42,
   "id": "7de9b5ec",
   "metadata": {},
   "outputs": [
    {
     "name": "stdout",
     "output_type": "stream",
     "text": [
      "              precision    recall  f1-score   support\n",
      "\n",
      " non-suicide       0.73      0.89      0.80       725\n",
      "     suicide       0.87      0.69      0.77       775\n",
      "\n",
      "    accuracy                           0.79      1500\n",
      "   macro avg       0.80      0.79      0.79      1500\n",
      "weighted avg       0.80      0.79      0.79      1500\n",
      "\n"
     ]
    },
    {
     "data": {
      "image/png": "[encoded data removed]",
      "text/plain": [
       "<Figure size 640x480 with 2 Axes>"
      ]
     },
     "metadata": {},
     "output_type": "display_data"
    }
   ],
   "source": [
    "y_act=y_test\n",
    "y_pred=classifiers.predict(X_test)\n",
    "sns.heatmap(confusion_matrix(y_act,y_pred),annot=True,cmap='magma')\n",
    "print(classification_report(y_act,y_pred))"
   ]
  },
  {
   "cell_type": "markdown",
   "id": "e4de2853",
   "metadata": {},
   "source": [
    "# Decision Tree (Дерево решений)"
   ]
  },
  {
   "cell_type": "code",
   "execution_count": 47,
   "id": "da78ed3e",
   "metadata": {},
   "outputs": [
    {
     "name": "stdout",
     "output_type": "stream",
     "text": [
      "0.7625714285714286\n",
      "0.7606666666666667\n"
     ]
    }
   ],
   "source": [
    "model2 = DecisionTreeClassifier(criterion='gini',splitter='random',min_samples_leaf=70,max_depth=4,random_state=7)\n",
    "model2.fit(X_train, y_train)\n",
    "print(model2.score(X_train, y_train))\n",
    "print(model2.score(X_test,y_test))"
   ]
  },
  {
   "cell_type": "code",
   "execution_count": 48,
   "id": "a4a2cfab",
   "metadata": {},
   "outputs": [
    {
     "name": "stdout",
     "output_type": "stream",
     "text": [
      "              precision    recall  f1-score   support\n",
      "\n",
      " non-suicide       0.72      0.83      0.77       725\n",
      "     suicide       0.82      0.69      0.75       775\n",
      "\n",
      "    accuracy                           0.76      1500\n",
      "   macro avg       0.77      0.76      0.76      1500\n",
      "weighted avg       0.77      0.76      0.76      1500\n",
      "\n"
     ]
    },
    {
     "data": {
      "image/png": "[encoded data removed]",
      "text/plain": [
       "<Figure size 640x480 with 2 Axes>"
      ]
     },
     "metadata": {},
     "output_type": "display_data"
    }
   ],
   "source": [
    "y_act=y_test\n",
    "y_pred=model2.predict(X_test)\n",
    "sns.heatmap(confusion_matrix(y_act,y_pred),annot=True,cmap='PuBuGn')\n",
    "print(classification_report(y_act,y_pred))"
   ]
  },
  {
   "cell_type": "markdown",
   "id": "0c970af1",
   "metadata": {},
   "source": [
    "# Gradient Boosting (Повышение градиента)"
   ]
  },
  {
   "cell_type": "code",
   "execution_count": 49,
   "id": "10a7dc4f",
   "metadata": {},
   "outputs": [
    {
     "name": "stdout",
     "output_type": "stream",
     "text": [
      "Training score: 0.9954285714285714\n",
      "Testing score: 0.8026666666666666\n"
     ]
    },
    {
     "data": {
      "text/plain": [
       "{'n_estimators': 10, 'max_features': 8, 'max_depth': 200, 'learning_rate': 3}"
      ]
     },
     "execution_count": 49,
     "metadata": {},
     "output_type": "execute_result"
    }
   ],
   "source": [
    "model3 = RandomizedSearchCV(GradientBoostingClassifier(),{\"learning_rate\": range(3,5),\n",
    "                \"max_depth\":[200],\"max_features\":range(6,10,2),\n",
    "                 \"n_estimators\":[10]},random_state=0,n_jobs=-1)\n",
    "model3.fit(X_train,y_train)\n",
    "print('Training score:',model3.score(X_train,y_train))\n",
    "print('Testing score:',model3.score(X_test,y_test))\n",
    "model3.best_params_"
   ]
  },
  {
   "cell_type": "code",
   "execution_count": 50,
   "id": "bb9e2865",
   "metadata": {},
   "outputs": [
    {
     "name": "stdout",
     "output_type": "stream",
     "text": [
      "              precision    recall  f1-score   support\n",
      "\n",
      " non-suicide       0.79      0.80      0.80       725\n",
      "     suicide       0.81      0.81      0.81       775\n",
      "\n",
      "    accuracy                           0.80      1500\n",
      "   macro avg       0.80      0.80      0.80      1500\n",
      "weighted avg       0.80      0.80      0.80      1500\n",
      "\n"
     ]
    },
    {
     "data": {
      "image/png": "[encoded data removed]",
      "text/plain": [
       "<Figure size 640x480 with 2 Axes>"
      ]
     },
     "metadata": {},
     "output_type": "display_data"
    }
   ],
   "source": [
    "#матрица путаницы и отчет о классификации\n",
    "y_act=y_test\n",
    "y_pred=model3.predict(X_test)\n",
    "sns.heatmap(confusion_matrix(y_act,y_pred),annot=True,cmap='Reds')\n",
    "print(classification_report(y_act,y_pred))"
   ]
  },
  {
   "cell_type": "markdown",
   "id": "4226655a",
   "metadata": {},
   "source": [
    "# XG Boost"
   ]
  },
  {
   "cell_type": "code",
   "execution_count": 51,
   "id": "ca11e662",
   "metadata": {},
   "outputs": [
    {
     "name": "stdout",
     "output_type": "stream",
     "text": [
      "Training score: 0.9982857142857143\n",
      "Testing score: 0.8406666666666667\n"
     ]
    }
   ],
   "source": [
    "model = XGBClassifier( eval_metric='map',max_depth=200,n_estimators=70,learning_rate=1.99)\n",
    "model.fit(X_train,y_train.replace({\"non-suicide\":0,'suicide':1}))\n",
    "print('Training score:',model.score(X_train,y_train.replace({\"non-suicide\":0,'suicide':1})))\n",
    "print('Testing score:',model.score(X_test,y_test.replace({\"non-suicide\":0,'suicide':1})))"
   ]
  },
  {
   "cell_type": "code",
   "execution_count": 52,
   "id": "81807c98",
   "metadata": {},
   "outputs": [
    {
     "name": "stdout",
     "output_type": "stream",
     "text": [
      "              precision    recall  f1-score   support\n",
      "\n",
      "           0       0.83      0.84      0.84       725\n",
      "           1       0.85      0.84      0.85       775\n",
      "\n",
      "    accuracy                           0.84      1500\n",
      "   macro avg       0.84      0.84      0.84      1500\n",
      "weighted avg       0.84      0.84      0.84      1500\n",
      "\n"
     ]
    },
    {
     "data": {
      "image/png": "[encoded data removed]",
      "text/plain": [
       "<Figure size 640x480 with 2 Axes>"
      ]
     },
     "metadata": {},
     "output_type": "display_data"
    }
   ],
   "source": [
    "#матрица путаницы и отчет о классификации\n",
    "y_act = y_test.replace({\"non-suicide\":0,'suicide':1})\n",
    "y_pred = model.predict(X_test)\n",
    "sns.heatmap(confusion_matrix(y_act,y_pred),annot=True,cmap='Greens')\n",
    "print(classification_report(y_act,y_pred))"
   ]
  },
  {
   "cell_type": "markdown",
   "id": "b54b404c",
   "metadata": {},
   "source": [
    "# K-Nearest Neighbour (K-Ближайший сосед)"
   ]
  },
  {
   "cell_type": "code",
   "execution_count": 61,
   "id": "4738f828",
   "metadata": {},
   "outputs": [
    {
     "name": "stdout",
     "output_type": "stream",
     "text": [
      "Training score: 0.8754285714285714\n",
      "Testing score: 0.8226666666666667\n",
      "KNeighborsClassifier(metric='cosine', n_neighbors=8, p=1)\n"
     ]
    }
   ],
   "source": [
    "model = RandomizedSearchCV(KNeighborsClassifier(),{'n_neighbors':[8],'metric':['manhattan','minkowski','cosine','tanimoto'],\n",
    "                                                   'p':[1,2]},random_state=0,n_jobs=-1)\n",
    "model.fit(X_train, y_train)\n",
    "print('Training score:',model.score(X_train, y_train))\n",
    "print('Testing score:',model.score(X_test,y_test))\n",
    "print(model.best_estimator_)"
   ]
  },
  {
   "cell_type": "code",
   "execution_count": 62,
   "id": "fabc2972",
   "metadata": {},
   "outputs": [
    {
     "name": "stdout",
     "output_type": "stream",
     "text": [
      "              precision    recall  f1-score   support\n",
      "\n",
      " non-suicide       0.78      0.87      0.83       725\n",
      "     suicide       0.87      0.78      0.82       775\n",
      "\n",
      "    accuracy                           0.82      1500\n",
      "   macro avg       0.83      0.82      0.82      1500\n",
      "weighted avg       0.83      0.82      0.82      1500\n",
      "\n"
     ]
    },
    {
     "data": {
      "image/png": "[encoded data removed]",
      "text/plain": [
       "<Figure size 640x480 with 2 Axes>"
      ]
     },
     "metadata": {},
     "output_type": "display_data"
    }
   ],
   "source": [
    "y_act = y_test\n",
    "y_pred = model.predict(X_test)\n",
    "sns.heatmap(confusion_matrix(y_act,y_pred),annot=True,cmap='autumn')\n",
    "print(classification_report(y_act,y_pred))"
   ]
  },
  {
   "cell_type": "markdown",
   "id": "06737bb0",
   "metadata": {},
   "source": [
    "# Вывод\n",
    "### Исходя из вышеизложенного, мы можем сказать, что из всех моделей наивный Байес (классификатор голосования) является наиболее подходящей моделью для набора данных.\n",
    "### Оценка за обучение: 0.8957142857142857\n",
    "### Результат тестирования: 0.864\n",
    "### Точность : 86%"
   ]
  },
  {
   "cell_type": "markdown",
   "id": "4623a348",
   "metadata": {},
   "source": [
    "# Анализатор текста с моделью Naive Bayes"
   ]
  },
  {
   "cell_type": "code",
   "execution_count": 63,
   "id": "234d82f2",
   "metadata": {},
   "outputs": [],
   "source": [
    "with open('best_model.pkl', 'wb') as f:\n",
    "    pickle.dump(VotingClassifiers, f)  "
   ]
  },
  {
   "cell_type": "code",
   "execution_count": 64,
   "id": "80a6892b",
   "metadata": {},
   "outputs": [],
   "source": [
    "def preprocess(inp):\n",
    "    inp = inp.lower() #преобразовать в нижний регистр\n",
    "    inp = inp.replace(r'[^\\w\\s]+', '') #убрать знаки препинания\n",
    "    inp = [word for word in inp.split() if word not in (stop_words)] #токенизация предложение\n",
    "    inp = ' '.join([ps.stem(i) for i in inp]) #стемминг\n",
    "    inputToModel = vectorizer.transform([inp]).toarray() #преобразовать в векторную форму\n",
    "    return inputToModel"
   ]
  },
  {
   "cell_type": "code",
   "execution_count": 65,
   "id": "75c3b8ef",
   "metadata": {},
   "outputs": [],
   "source": [
    "def app(input_text):\n",
    "    # Определите текстовое поле ввода\n",
    "    print('Input : ',input_text) #принимать вводимые данные от пользователя\n",
    "    processed_array = preprocess(input_text) #предварительная обработка текста\n",
    "    predict = VotingClassifiers.predict(processed_array) #Прогнозирование модели\n",
    "    print('Output : ', predict[0])"
   ]
  },
  {
   "cell_type": "code",
   "execution_count": 66,
   "id": "27d65021",
   "metadata": {},
   "outputs": [
    {
     "name": "stdout",
     "output_type": "stream",
     "text": [
      "Input :  Today evening, I am going to jump off the bridge \n",
      "Output :  suicide\n"
     ]
    }
   ],
   "source": [
    "app('Today evening, I am going to jump off the bridge ')"
   ]
  },
  {
   "cell_type": "code",
   "execution_count": 67,
   "id": "1ae10117",
   "metadata": {},
   "outputs": [
    {
     "name": "stdout",
     "output_type": "stream",
     "text": [
      "Input :  Thoughts of death do not leave me alone. I regret all the loans, that I tied up my family\n",
      "Output :  suicide\n"
     ]
    }
   ],
   "source": [
    "app('Thoughts of death do not leave me alone. I regret all the loans, that I tied up my family')"
   ]
  },
  {
   "cell_type": "code",
   "execution_count": 73,
   "id": "e3c72d72",
   "metadata": {},
   "outputs": [
    {
     "name": "stdout",
     "output_type": "stream",
     "text": [
      "Input :  Have a nice day!\n",
      "Output :  non-suicide\n"
     ]
    }
   ],
   "source": [
    "app('Have a nice day!')"
   ]
  },
  {
   "cell_type": "code",
   "execution_count": 74,
   "id": "b181f0e3",
   "metadata": {},
   "outputs": [
    {
     "name": "stdout",
     "output_type": "stream",
     "text": [
      "Input :  I feel bad and want to die\n",
      "Output :  suicide\n"
     ]
    }
   ],
   "source": [
    "app('I feel bad and want to die')"
   ]
  },
  {
   "cell_type": "code",
   "execution_count": null,
   "id": "f03c09c5",
   "metadata": {},
   "outputs": [],
   "source": []
  }
 ],
 "metadata": {
  "kernelspec": {
   "display_name": "Python 3 (ipykernel)",
   "language": "python",
   "name": "python3"
  },
  "language_info": {
   "codemirror_mode": {
    "name": "ipython",
    "version": 3
   },
   "file_extension": ".py",
   "mimetype": "text/x-python",
   "name": "python",
   "nbconvert_exporter": "python",
   "pygments_lexer": "ipython3",
   "version": "3.10.9"
  }
 },
 "nbformat": 4,
 "nbformat_minor": 5
}
