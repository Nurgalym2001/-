{
 "cells": [
  {
   "cell_type": "code",
   "execution_count": 1,
   "id": "3549ed19",
   "metadata": {},
   "outputs": [],
   "source": [
    "import warnings\n",
    "warnings.filterwarnings('ignore')\n",
    "\n",
    "import numpy as np # линейная алгебра\n",
    "import pandas as pd # обработка данных, ввод-вывод CSV-файла (например, pd.read_csv)\n",
    "\n",
    "# Библиотеки визуализации\n",
    "import matplotlib.pyplot as plt\n",
    "import seaborn as sns\n",
    "\n",
    "# Библиотеки машинного обучения\n",
    "from sklearn.model_selection import train_test_split,GridSearchCV,RandomizedSearchCV\n",
    "from sklearn.feature_extraction.text import TfidfVectorizer\n",
    "from sklearn.feature_selection import SelectKBest,chi2,f_classif\n",
    "from sklearn.ensemble import RandomForestClassifier,VotingClassifier,AdaBoostClassifier,GradientBoostingClassifier,BaggingClassifier\n",
    "from sklearn.metrics import classification_report , confusion_matrix\n",
    "from sklearn.tree import DecisionTreeClassifier\n",
    "from xgboost import XGBClassifier\n",
    "from sklearn.neighbors import KNeighborsClassifier\n",
    "from sklearn.naive_bayes import GaussianNB, MultinomialNB, BernoulliNB\n",
    "\n",
    "import pickle\n",
    "import string\n",
    "\n",
    "# Библиотеки для обработки текста\n",
    "import nltk\n",
    "from nltk.stem import PorterStemmer\n",
    "import os"
   ]
  },
  {
   "cell_type": "markdown",
   "id": "af95f9b8",
   "metadata": {},
   "source": [
    "# Загружаем набор данных"
   ]
  },
  {
   "cell_type": "code",
   "execution_count": 2,
   "id": "afaeec6c",
   "metadata": {},
   "outputs": [
    {
     "data": {
      "text/html": [
       "<div>\n",
       "<style scoped>\n",
       "    .dataframe tbody tr th:only-of-type {\n",
       "        vertical-align: middle;\n",
       "    }\n",
       "\n",
       "    .dataframe tbody tr th {\n",
       "        vertical-align: top;\n",
       "    }\n",
       "\n",
       "    .dataframe thead th {\n",
       "        text-align: right;\n",
       "    }\n",
       "</style>\n",
       "<table border=\"1\" class=\"dataframe\">\n",
       "  <thead>\n",
       "    <tr style=\"text-align: right;\">\n",
       "      <th></th>\n",
       "      <th>text</th>\n",
       "      <th>class</th>\n",
       "    </tr>\n",
       "  </thead>\n",
       "  <tbody>\n",
       "    <tr>\n",
       "      <th>0</th>\n",
       "      <td>Когда-то я был добрым романтиком, который стре...</td>\n",
       "      <td>suicide</td>\n",
       "    </tr>\n",
       "    <tr>\n",
       "      <th>1</th>\n",
       "      <td>Здраствуйте! Я каждый день просыпаюсь с мыслью...</td>\n",
       "      <td>suicide</td>\n",
       "    </tr>\n",
       "    <tr>\n",
       "      <th>2</th>\n",
       "      <td>У меня проблемы с девушкой. Каждую ссору я не ...</td>\n",
       "      <td>suicide</td>\n",
       "    </tr>\n",
       "    <tr>\n",
       "      <th>3</th>\n",
       "      <td>Вся моя жизнь это один сплошной ад, в котором ...</td>\n",
       "      <td>suicide</td>\n",
       "    </tr>\n",
       "    <tr>\n",
       "      <th>4</th>\n",
       "      <td>Я хочу уснуть и не проснуться.каждый день одно...</td>\n",
       "      <td>suicide</td>\n",
       "    </tr>\n",
       "  </tbody>\n",
       "</table>\n",
       "</div>"
      ],
      "text/plain": [
       "                                                text    class\n",
       "0  Когда-то я был добрым романтиком, который стре...  suicide\n",
       "1  Здраствуйте! Я каждый день просыпаюсь с мыслью...  suicide\n",
       "2  У меня проблемы с девушкой. Каждую ссору я не ...  suicide\n",
       "3  Вся моя жизнь это один сплошной ад, в котором ...  suicide\n",
       "4  Я хочу уснуть и не проснуться.каждый день одно...  suicide"
      ]
     },
     "execution_count": 2,
     "metadata": {},
     "output_type": "execute_result"
    }
   ],
   "source": [
    "df=pd.read_csv('/Users/LENOVO/DESKTOP/jupyter/Suicide_corpus.csv')\n",
    "df.head()"
   ]
  },
  {
   "cell_type": "code",
   "execution_count": 3,
   "id": "b09b1164",
   "metadata": {},
   "outputs": [
    {
     "data": {
      "text/plain": [
       "(64039, 2)"
      ]
     },
     "execution_count": 3,
     "metadata": {},
     "output_type": "execute_result"
    }
   ],
   "source": [
    "df.shape"
   ]
  },
  {
   "cell_type": "code",
   "execution_count": 4,
   "id": "78f2f8a0",
   "metadata": {},
   "outputs": [
    {
     "data": {
      "text/plain": [
       "non-suicide    32021\n",
       "suicide        32018\n",
       "Name: class, dtype: int64"
      ]
     },
     "execution_count": 4,
     "metadata": {},
     "output_type": "execute_result"
    }
   ],
   "source": [
    "df['class'].value_counts()"
   ]
  },
  {
   "cell_type": "code",
   "execution_count": 5,
   "id": "8e350cdc",
   "metadata": {},
   "outputs": [
    {
     "name": "stdout",
     "output_type": "stream",
     "text": [
      "<class 'pandas.core.frame.DataFrame'>\n",
      "RangeIndex: 64039 entries, 0 to 64038\n",
      "Data columns (total 2 columns):\n",
      " #   Column  Non-Null Count  Dtype \n",
      "---  ------  --------------  ----- \n",
      " 0   text    64039 non-null  object\n",
      " 1   class   64039 non-null  object\n",
      "dtypes: object(2)\n",
      "memory usage: 1000.7+ KB\n"
     ]
    }
   ],
   "source": [
    "df.info()"
   ]
  },
  {
   "cell_type": "code",
   "execution_count": 6,
   "id": "1b95a91d",
   "metadata": {},
   "outputs": [
    {
     "data": {
      "text/plain": [
       "0"
      ]
     },
     "execution_count": 6,
     "metadata": {},
     "output_type": "execute_result"
    }
   ],
   "source": [
    "df.duplicated().sum()"
   ]
  },
  {
   "cell_type": "markdown",
   "id": "965cf612",
   "metadata": {},
   "source": [
    "# Визуализация данных"
   ]
  },
  {
   "cell_type": "code",
   "execution_count": 7,
   "id": "f3cff417",
   "metadata": {},
   "outputs": [
    {
     "name": "stdout",
     "output_type": "stream",
     "text": [
      "non-suicide    32021\n",
      "suicide        32018\n",
      "Name: class, dtype: int64\n"
     ]
    },
    {
     "data": {
      "image/png": "[encoded data removed]",
      "text/plain": [
       "<Figure size 1000x400 with 2 Axes>"
      ]
     },
     "metadata": {},
     "output_type": "display_data"
    }
   ],
   "source": [
    "classCnt = df['class'].value_counts()\n",
    "print(classCnt)\n",
    "\n",
    "plt.figure(figsize=((10,4)))\n",
    "\n",
    "plt.subplot(1,2,1)\n",
    "sns.countplot(df,x='class')\n",
    "\n",
    "plt.subplot(1,2,2)\n",
    "plt.pie(classCnt,labels = classCnt.index,autopct='%.0f%%')\n",
    "\n",
    "plt.show()"
   ]
  },
  {
   "cell_type": "markdown",
   "id": "438c8204",
   "metadata": {},
   "source": [
    "# Предварительная обработка данных"
   ]
  },
  {
   "cell_type": "code",
   "execution_count": 8,
   "id": "41ee9e51",
   "metadata": {},
   "outputs": [],
   "source": [
    "df['text']= df['text'].str.lower()"
   ]
  },
  {
   "cell_type": "markdown",
   "id": "9883384a",
   "metadata": {},
   "source": [
    "## Удаление стоп слов и знаки препинания"
   ]
  },
  {
   "cell_type": "code",
   "execution_count": 9,
   "id": "d5ac45e8",
   "metadata": {},
   "outputs": [],
   "source": [
    "df['text'] = df['text'].str.replace(r'[^\\w\\s]+', '',regex = True)"
   ]
  },
  {
   "cell_type": "code",
   "execution_count": 10,
   "id": "6555a282",
   "metadata": {},
   "outputs": [],
   "source": [
    "from nltk.corpus import stopwords\n",
    "stop_words = nltk.corpus.stopwords.words('russian')\n",
    "stop_words = set(stopwords.words(\"russian\"))\n",
    "df['text'] = df['text'].apply(lambda x: ' '.join([word for word in x.split() if word not in (stop_words)]))"
   ]
  },
  {
   "cell_type": "markdown",
   "id": "fa707415",
   "metadata": {},
   "source": [
    "# Токенизация"
   ]
  },
  {
   "cell_type": "code",
   "execution_count": 11,
   "id": "ce44f9ef",
   "metadata": {},
   "outputs": [],
   "source": [
    "df['text'] = df['text'].apply(lambda x:nltk.word_tokenize(x))"
   ]
  },
  {
   "cell_type": "markdown",
   "id": "8fa58ac8",
   "metadata": {},
   "source": [
    "## Стемматизация"
   ]
  },
  {
   "cell_type": "code",
   "execution_count": 12,
   "id": "054b4c50",
   "metadata": {},
   "outputs": [],
   "source": [
    "import pymorphy2\n",
    "morph = pymorphy2.MorphAnalyzer()"
   ]
  },
  {
   "cell_type": "code",
   "execution_count": 13,
   "id": "60e0b982",
   "metadata": {},
   "outputs": [
    {
     "data": {
      "text/html": [
       "<div>\n",
       "<style scoped>\n",
       "    .dataframe tbody tr th:only-of-type {\n",
       "        vertical-align: middle;\n",
       "    }\n",
       "\n",
       "    .dataframe tbody tr th {\n",
       "        vertical-align: top;\n",
       "    }\n",
       "\n",
       "    .dataframe thead th {\n",
       "        text-align: right;\n",
       "    }\n",
       "</style>\n",
       "<table border=\"1\" class=\"dataframe\">\n",
       "  <thead>\n",
       "    <tr style=\"text-align: right;\">\n",
       "      <th></th>\n",
       "      <th>text</th>\n",
       "      <th>class</th>\n",
       "    </tr>\n",
       "  </thead>\n",
       "  <tbody>\n",
       "    <tr>\n",
       "      <th>0</th>\n",
       "      <td>когдато добрый романтик который стремиться пом...</td>\n",
       "      <td>suicide</td>\n",
       "    </tr>\n",
       "    <tr>\n",
       "      <th>1</th>\n",
       "      <td>здраствовать каждый день просыпаться мысль жит...</td>\n",
       "      <td>suicide</td>\n",
       "    </tr>\n",
       "    <tr>\n",
       "      <th>2</th>\n",
       "      <td>проблема девушка каждый ссора мочь перенести о...</td>\n",
       "      <td>suicide</td>\n",
       "    </tr>\n",
       "    <tr>\n",
       "      <th>3</th>\n",
       "      <td>весь жизнь это сплошной ад который горе постоя...</td>\n",
       "      <td>suicide</td>\n",
       "    </tr>\n",
       "    <tr>\n",
       "      <th>4</th>\n",
       "      <td>хотеть уснуть проснутьсякаждый день один какой...</td>\n",
       "      <td>suicide</td>\n",
       "    </tr>\n",
       "  </tbody>\n",
       "</table>\n",
       "</div>"
      ],
      "text/plain": [
       "                                                text    class\n",
       "0  когдато добрый романтик который стремиться пом...  suicide\n",
       "1  здраствовать каждый день просыпаться мысль жит...  suicide\n",
       "2  проблема девушка каждый ссора мочь перенести о...  suicide\n",
       "3  весь жизнь это сплошной ад который горе постоя...  suicide\n",
       "4  хотеть уснуть проснутьсякаждый день один какой...  suicide"
      ]
     },
     "execution_count": 13,
     "metadata": {},
     "output_type": "execute_result"
    }
   ],
   "source": [
    "df['text'] = df['text'].apply(lambda x: [morph.parse(word)[0].normal_form for word in x])\n",
    "df['text'] = df['text'].apply(lambda x: ' '.join(x))\n",
    "df.head()"
   ]
  },
  {
   "cell_type": "code",
   "execution_count": 14,
   "id": "f56ca305",
   "metadata": {},
   "outputs": [
    {
     "name": "stdout",
     "output_type": "stream",
     "text": [
      "<class 'pandas.core.frame.DataFrame'>\n",
      "RangeIndex: 64039 entries, 0 to 64038\n",
      "Data columns (total 2 columns):\n",
      " #   Column  Non-Null Count  Dtype \n",
      "---  ------  --------------  ----- \n",
      " 0   text    64039 non-null  object\n",
      " 1   class   64039 non-null  object\n",
      "dtypes: object(2)\n",
      "memory usage: 1000.7+ KB\n"
     ]
    }
   ],
   "source": [
    "df.info()"
   ]
  },
  {
   "cell_type": "code",
   "execution_count": 15,
   "id": "bf76da19",
   "metadata": {},
   "outputs": [],
   "source": [
    "ind = df[df['text'].isnull()].index"
   ]
  },
  {
   "cell_type": "code",
   "execution_count": 16,
   "id": "e9cf9239",
   "metadata": {},
   "outputs": [
    {
     "data": {
      "text/html": [
       "<div>\n",
       "<style scoped>\n",
       "    .dataframe tbody tr th:only-of-type {\n",
       "        vertical-align: middle;\n",
       "    }\n",
       "\n",
       "    .dataframe tbody tr th {\n",
       "        vertical-align: top;\n",
       "    }\n",
       "\n",
       "    .dataframe thead th {\n",
       "        text-align: right;\n",
       "    }\n",
       "</style>\n",
       "<table border=\"1\" class=\"dataframe\">\n",
       "  <thead>\n",
       "    <tr style=\"text-align: right;\">\n",
       "      <th></th>\n",
       "      <th>text</th>\n",
       "      <th>class</th>\n",
       "    </tr>\n",
       "  </thead>\n",
       "  <tbody>\n",
       "  </tbody>\n",
       "</table>\n",
       "</div>"
      ],
      "text/plain": [
       "Empty DataFrame\n",
       "Columns: [text, class]\n",
       "Index: []"
      ]
     },
     "execution_count": 16,
     "metadata": {},
     "output_type": "execute_result"
    }
   ],
   "source": [
    "df.iloc[ind]"
   ]
  },
  {
   "cell_type": "code",
   "execution_count": 17,
   "id": "ec06482b",
   "metadata": {},
   "outputs": [],
   "source": [
    "df.dropna(inplace=True)"
   ]
  },
  {
   "cell_type": "markdown",
   "id": "1d37a1d5",
   "metadata": {},
   "source": [
    "## TF-IDF векторизатор"
   ]
  },
  {
   "cell_type": "code",
   "execution_count": 18,
   "id": "cd9b32ce",
   "metadata": {},
   "outputs": [],
   "source": [
    "x,y = df['text'],df['class']"
   ]
  },
  {
   "cell_type": "code",
   "execution_count": 19,
   "id": "5f7c4b74",
   "metadata": {},
   "outputs": [],
   "source": [
    "vectorizer = TfidfVectorizer(min_df=50,max_features=5000)\n",
    "x =  vectorizer.fit_transform(x).toarray()"
   ]
  },
  {
   "cell_type": "code",
   "execution_count": 20,
   "id": "a85619ea",
   "metadata": {},
   "outputs": [],
   "source": [
    "# Сохранение модели\n",
    "with open('tfidf.pkl', 'wb') as f:\n",
    "    pickle.dump(vectorizer, f)  "
   ]
  },
  {
   "cell_type": "markdown",
   "id": "e79b7ad2",
   "metadata": {},
   "source": [
    "## Разделение данных"
   ]
  },
  {
   "cell_type": "code",
   "execution_count": 56,
   "id": "d4486dc7",
   "metadata": {},
   "outputs": [],
   "source": [
    "X_train,X_test,y_train,y_test = train_test_split(x,y,test_size=0.20,random_state=7)"
   ]
  },
  {
   "cell_type": "code",
   "execution_count": 57,
   "id": "872e5c70",
   "metadata": {},
   "outputs": [
    {
     "data": {
      "text/plain": [
       "((51231, 5000), (12808, 5000))"
      ]
     },
     "execution_count": 57,
     "metadata": {},
     "output_type": "execute_result"
    }
   ],
   "source": [
    "X_train.shape,X_test.shape"
   ]
  },
  {
   "cell_type": "markdown",
   "id": "c5aef658",
   "metadata": {},
   "source": [
    "# Наивный Байесовский классификатор"
   ]
  },
  {
   "cell_type": "code",
   "execution_count": 58,
   "id": "58abd5fb",
   "metadata": {},
   "outputs": [
    {
     "name": "stdout",
     "output_type": "stream",
     "text": [
      "Training score: 0.986902461400324\n",
      "Testing score: 0.986102435977514\n"
     ]
    }
   ],
   "source": [
    "nb = GaussianNB()\n",
    "nb2 = BernoulliNB()\n",
    "nb3 = MultinomialNB()\n",
    "VotingClassifiers = VotingClassifier(estimators=[('GaussianNB', nb),('BernoulliNB',nb2), ('MultinomialNB', nb3)], voting = 'soft')\n",
    "VotingClassifiers.fit(X_train, y_train)\n",
    "print('Training score:',VotingClassifiers.score(X_train, y_train))\n",
    "print('Testing score:',VotingClassifiers.score(X_test,y_test))"
   ]
  },
  {
   "cell_type": "code",
   "execution_count": 59,
   "id": "214a7933",
   "metadata": {},
   "outputs": [
    {
     "name": "stdout",
     "output_type": "stream",
     "text": [
      "              precision    recall  f1-score   support\n",
      "\n",
      " non-suicide       1.00      0.98      0.99      6329\n",
      "     suicide       0.98      1.00      0.99      6479\n",
      "\n",
      "    accuracy                           0.99     12808\n",
      "   macro avg       0.99      0.99      0.99     12808\n",
      "weighted avg       0.99      0.99      0.99     12808\n",
      "\n"
     ]
    },
    {
     "data": {
      "image/png": "[encoded data removed]",
      "text/plain": [
       "<Figure size 640x480 with 2 Axes>"
      ]
     },
     "metadata": {},
     "output_type": "display_data"
    }
   ],
   "source": [
    "y_act=y_test\n",
    "y_pred=VotingClassifiers.predict(X_test)\n",
    "sns.heatmap(confusion_matrix(y_act,y_pred),annot=True,cmap='RdYlGn')\n",
    "print(classification_report(y_act,y_pred))"
   ]
  },
  {
   "cell_type": "markdown",
   "id": "da2ece74",
   "metadata": {},
   "source": [
    "# Random Forest"
   ]
  },
  {
   "cell_type": "code",
   "execution_count": 40,
   "id": "dbf7efaf",
   "metadata": {},
   "outputs": [
    {
     "name": "stdout",
     "output_type": "stream",
     "text": [
      "Training score: 0.736311998594601\n",
      "Testing score: 0.7352435977514054\n",
      "RandomForestClassifier(criterion='entropy', max_depth=3, n_estimators=4)\n"
     ]
    }
   ],
   "source": [
    "classifiers = RandomizedSearchCV(RandomForestClassifier(),{'n_estimators':[4,5],'criterion':['entropy'],\n",
    "                                                      'max_depth':range(1,4),'min_samples_split':range(2,5)},random_state=10)\n",
    "classifiers.fit(X_train, y_train)\n",
    "print('Training score:',classifiers.score(X_train, y_train))\n",
    "print('Testing score:',classifiers.score(X_test,y_test))\n",
    "print(classifiers.best_estimator_)"
   ]
  },
  {
   "cell_type": "code",
   "execution_count": 20,
   "id": "16915afe",
   "metadata": {},
   "outputs": [
    {
     "name": "stdout",
     "output_type": "stream",
     "text": [
      "              precision    recall  f1-score   support\n",
      "\n",
      " non-suicide       0.98      0.56      0.72       485\n",
      "     suicide       0.71      0.99      0.82       515\n",
      "\n",
      "    accuracy                           0.78      1000\n",
      "   macro avg       0.84      0.78      0.77      1000\n",
      "weighted avg       0.84      0.78      0.77      1000\n",
      "\n"
     ]
    },
    {
     "data": {
      "image/png": "[encoded data removed]",
      "text/plain": [
       "<Figure size 640x480 with 2 Axes>"
      ]
     },
     "metadata": {},
     "output_type": "display_data"
    }
   ],
   "source": [
    "y_act=y_test\n",
    "y_pred=classifiers.predict(X_test)\n",
    "sns.heatmap(confusion_matrix(y_act,y_pred),annot=True,cmap='magma')\n",
    "print(classification_report(y_act,y_pred))"
   ]
  },
  {
   "cell_type": "markdown",
   "id": "e6638472",
   "metadata": {},
   "source": [
    "# Decision Tree (Шешім ағашы)"
   ]
  },
  {
   "cell_type": "code",
   "execution_count": 32,
   "id": "3245544c",
   "metadata": {},
   "outputs": [
    {
     "name": "stdout",
     "output_type": "stream",
     "text": [
      "0.806952821533837\n",
      "0.8023891317926296\n"
     ]
    }
   ],
   "source": [
    "model2 = DecisionTreeClassifier(criterion='gini',splitter='random',min_samples_leaf=70,max_depth=4,random_state=7)\n",
    "model2.fit(X_train, y_train)\n",
    "print(model2.score(X_train, y_train))\n",
    "print(model2.score(X_test,y_test))"
   ]
  },
  {
   "cell_type": "code",
   "execution_count": 33,
   "id": "da42493c",
   "metadata": {},
   "outputs": [
    {
     "name": "stdout",
     "output_type": "stream",
     "text": [
      "              precision    recall  f1-score   support\n",
      "\n",
      " non-suicide       0.73      0.95      0.83      6329\n",
      "     suicide       0.94      0.65      0.77      6479\n",
      "\n",
      "    accuracy                           0.80     12808\n",
      "   macro avg       0.83      0.80      0.80     12808\n",
      "weighted avg       0.83      0.80      0.80     12808\n",
      "\n"
     ]
    },
    {
     "data": {
      "image/png": "[encoded data removed]",
      "text/plain": [
       "<Figure size 640x480 with 2 Axes>"
      ]
     },
     "metadata": {},
     "output_type": "display_data"
    }
   ],
   "source": [
    "y_act=y_test\n",
    "y_pred=model2.predict(X_test)\n",
    "sns.heatmap(confusion_matrix(y_act,y_pred),annot=True,cmap='PuBuGn')\n",
    "print(classification_report(y_act,y_pred))"
   ]
  },
  {
   "cell_type": "code",
   "execution_count": 21,
   "id": "82f16f1c",
   "metadata": {},
   "outputs": [
    {
     "name": "stdout",
     "output_type": "stream",
     "text": [
      "Training score: 0.7305\n",
      "Testing score: 0.703\n"
     ]
    }
   ],
   "source": [
    "model = XGBClassifier( eval_metric='map',max_depth=200,n_estimators=70,learning_rate=1.99)\n",
    "model.fit(X_train,y_train.replace({\"non-suicide\":0,'suicide':1}))\n",
    "print('Training score:',model.score(X_train,y_train.replace({\"non-suicide\":0,'suicide':1})))\n",
    "print('Testing score:',model.score(X_test,y_test.replace({\"non-suicide\":0,'suicide':1})))"
   ]
  },
  {
   "cell_type": "code",
   "execution_count": 22,
   "id": "786103eb",
   "metadata": {},
   "outputs": [
    {
     "name": "stdout",
     "output_type": "stream",
     "text": [
      "              precision    recall  f1-score   support\n",
      "\n",
      "           0       0.68      0.74      0.71       485\n",
      "           1       0.73      0.66      0.70       515\n",
      "\n",
      "    accuracy                           0.70      1000\n",
      "   macro avg       0.70      0.70      0.70      1000\n",
      "weighted avg       0.71      0.70      0.70      1000\n",
      "\n"
     ]
    },
    {
     "data": {
      "image/png": "[encoded data removed]",
      "text/plain": [
       "<Figure size 640x480 with 2 Axes>"
      ]
     },
     "metadata": {},
     "output_type": "display_data"
    }
   ],
   "source": [
    "#матрица путаницы и отчет о классификации\n",
    "y_act = y_test.replace({\"non-suicide\":0,'suicide':1})\n",
    "y_pred = model.predict(X_test)\n",
    "sns.heatmap(confusion_matrix(y_act,y_pred),annot=True,cmap='Greens')\n",
    "print(classification_report(y_act,y_pred))"
   ]
  },
  {
   "cell_type": "code",
   "execution_count": null,
   "id": "97b32730",
   "metadata": {},
   "outputs": [],
   "source": [
    "model = RandomizedSearchCV(KNeighborsClassifier(),{'n_neighbors':[8],'metric':['manhattan','minkowski','cosine','tanimoto'],\n",
    "                                                   'p':[1,2]},random_state=0,n_jobs=-1)\n",
    "model.fit(X_train, y_train)\n",
    "print('Training score:',model.score(X_train, y_train))\n",
    "print('Testing score:',model.score(X_test,y_test))\n",
    "print(model.best_estimator_)"
   ]
  },
  {
   "cell_type": "code",
   "execution_count": null,
   "id": "70b7ad4b",
   "metadata": {},
   "outputs": [],
   "source": [
    "y_act = y_test\n",
    "y_pred = model.predict(X_test)\n",
    "sns.heatmap(confusion_matrix(y_act,y_pred),annot=True,cmap='autumn')\n",
    "print(classification_report(y_act,y_pred))"
   ]
  },
  {
   "cell_type": "markdown",
   "id": "e9685ea7",
   "metadata": {},
   "source": [
    "# Вывод\n",
    "### Исходя из вышеизложенного, мы можем сказать, что из всех моделей наивный Байес (классификатор голосования) является наиболее подходящей моделью для набора данных.\n",
    "### Оценка за обучение: 0.9846074910210364\n",
    "### Результат тестирования: 0.9834998958983968\n",
    "### Точность : 99%"
   ]
  },
  {
   "cell_type": "code",
   "execution_count": null,
   "id": "5136f028",
   "metadata": {},
   "outputs": [],
   "source": []
  },
  {
   "cell_type": "markdown",
   "id": "56e70771",
   "metadata": {},
   "source": [
    "# Анализатор текста с моделью Naive Bayes"
   ]
  },
  {
   "cell_type": "code",
   "execution_count": 60,
   "id": "fffd56fb",
   "metadata": {},
   "outputs": [],
   "source": [
    "with open('best_model.pkl', 'wb') as f:\n",
    "    pickle.dump(VotingClassifiers, f)  "
   ]
  },
  {
   "cell_type": "code",
   "execution_count": 61,
   "id": "c016fe0a",
   "metadata": {},
   "outputs": [],
   "source": [
    "def preprocess(inp):\n",
    "    inp = inp.lower() #преобразовать в нижний регистр\n",
    "    inp = inp.replace(r'[^\\w\\s]+', '') #убрать знаки препинания\n",
    "    inp = [word for word in inp.split() if word not in (stop_words)] #токенизация предложение\n",
    "    inp = ' '.join([morph.parse(word)[0].normal_form for word in inp]) #стемминг\n",
    "    inputToModel = vectorizer.transform([inp]).toarray() #преобразовать в векторную форму\n",
    "    return inputToModel"
   ]
  },
  {
   "cell_type": "code",
   "execution_count": 62,
   "id": "a3fa3d40",
   "metadata": {},
   "outputs": [],
   "source": [
    "def app(input_text):\n",
    "    # Определите текстовое поле ввода\n",
    "    print('Input : ',input_text) #принимать вводимые данные от пользователя\n",
    "    processed_array = preprocess(input_text) #предварительная обработка текста\n",
    "    predict = VotingClassifiers.predict(processed_array) #Прогнозирование модели\n",
    "    print('Output : ', predict[0])"
   ]
  },
  {
   "cell_type": "code",
   "execution_count": 63,
   "id": "f1736229",
   "metadata": {},
   "outputs": [
    {
     "name": "stdout",
     "output_type": "stream",
     "text": [
      "Input :  Я устал от жизни, хочу умереть\n",
      "Output :  suicide\n"
     ]
    }
   ],
   "source": [
    "app('Я устал от жизни, хочу умереть')"
   ]
  },
  {
   "cell_type": "code",
   "execution_count": 32,
   "id": "a4524d59",
   "metadata": {},
   "outputs": [
    {
     "name": "stdout",
     "output_type": "stream",
     "text": [
      "Input :  Свежие новости Алматы и главные события в городе на сегодня\n",
      "Output :  non-suicide\n"
     ]
    }
   ],
   "source": [
    "app('Свежие новости Алматы и главные события в городе на сегодня')"
   ]
  },
  {
   "cell_type": "code",
   "execution_count": 47,
   "id": "570a2806",
   "metadata": {},
   "outputs": [
    {
     "name": "stdout",
     "output_type": "stream",
     "text": [
      "Input :  Я прыгаю с моста Сегодня вечером\n",
      "Output :  suicide\n"
     ]
    }
   ],
   "source": [
    "app('Я прыгаю с моста Сегодня вечером')"
   ]
  },
  {
   "cell_type": "code",
   "execution_count": 34,
   "id": "48cdfc4f",
   "metadata": {},
   "outputs": [
    {
     "name": "stdout",
     "output_type": "stream",
     "text": [
      "Input :  Я сегодня провалил все экзамены и не вижу смысла дальше жить\n",
      "Output :  suicide\n"
     ]
    }
   ],
   "source": [
    "app('Я сегодня провалил все экзамены и не вижу смысла дальше жить')"
   ]
  },
  {
   "cell_type": "code",
   "execution_count": 35,
   "id": "8b96dc76",
   "metadata": {},
   "outputs": [
    {
     "name": "stdout",
     "output_type": "stream",
     "text": [
      "Input :  Последние новости Алматы рассказывают о важных событиях, которые произошли на территории города и страны\n",
      "Output :  non-suicide\n"
     ]
    }
   ],
   "source": [
    "app('Последние новости Алматы рассказывают о важных событиях, которые произошли на территории города и страны')"
   ]
  },
  {
   "cell_type": "code",
   "execution_count": 36,
   "id": "5337eccc",
   "metadata": {},
   "outputs": [
    {
     "name": "stdout",
     "output_type": "stream",
     "text": [
      "Input :  не хочу жить\n",
      "Output :  suicide\n"
     ]
    }
   ],
   "source": [
    "app('не хочу жить')"
   ]
  },
  {
   "cell_type": "code",
   "execution_count": 37,
   "id": "90a02670",
   "metadata": {},
   "outputs": [
    {
     "name": "stdout",
     "output_type": "stream",
     "text": [
      "Input :  Я прожил уже 90 лет и с каждым днем чувствую что мой конец очень близко\n",
      "Output :  suicide\n"
     ]
    }
   ],
   "source": [
    "app('Я прожил уже 90 лет и с каждым днем чувствую что мой конец очень близко')"
   ]
  },
  {
   "cell_type": "code",
   "execution_count": 41,
   "id": "190fddf3",
   "metadata": {},
   "outputs": [
    {
     "name": "stdout",
     "output_type": "stream",
     "text": [
      "Input :  И может, кому-то покажется это глупым, но мне реально тяжело, и чувство безысходности толкает на суицид\n",
      "Output :  suicide\n"
     ]
    }
   ],
   "source": [
    "app('И может, кому-то покажется это глупым, но мне реально тяжело, и чувство безысходности толкает на суицид')"
   ]
  },
  {
   "cell_type": "code",
   "execution_count": 44,
   "id": "4715dc17",
   "metadata": {},
   "outputs": [
    {
     "name": "stdout",
     "output_type": "stream",
     "text": [
      "Input :  Не хочу жить, все разговоры с девушками сводятся к обмену парами фраз и постоянным неловким молчанием, сегодня мой единственный друг женился, я веду себя на его свадьбе как побитый пес с опущенной головой ,знакомый переспал с девушкой в которую я был тайно влюблен, хочется все рвать и метать в клочья, хотя с его стороны вины никакой нету, это я затупок ,я просто не понимаю себя - постоянно сижу молчу, сам я не трус в плане, например прыжков с парашюта, но никак не могу найти в себе сил решить вроде бы обыденные вопросы для стандартного такого парня\n",
      "Output :  suicide\n"
     ]
    }
   ],
   "source": [
    "app('Не хочу жить, все разговоры с девушками сводятся к обмену парами фраз и постоянным неловким молчанием, сегодня мой единственный друг женился, я веду себя на его свадьбе как побитый пес с опущенной головой ,знакомый переспал с девушкой в которую я был тайно влюблен, хочется все рвать и метать в клочья, хотя с его стороны вины никакой нету, это я затупок ,я просто не понимаю себя - постоянно сижу молчу, сам я не трус в плане, например прыжков с парашюта, но никак не могу найти в себе сил решить вроде бы обыденные вопросы для стандартного такого парня')"
   ]
  },
  {
   "cell_type": "code",
   "execution_count": 51,
   "id": "98262480",
   "metadata": {},
   "outputs": [
    {
     "name": "stdout",
     "output_type": "stream",
     "text": [
      "Input :  Я сегодня вечером собираюсь спрыгнуть с моста\n",
      "Output :  suicide\n"
     ]
    }
   ],
   "source": [
    "app('Я сегодня вечером собираюсь спрыгнуть с моста')"
   ]
  },
  {
   "cell_type": "code",
   "execution_count": null,
   "id": "51a9c119",
   "metadata": {},
   "outputs": [],
   "source": []
  }
 ],
 "metadata": {
  "kernelspec": {
   "display_name": "Python 3 (ipykernel)",
   "language": "python",
   "name": "python3"
  },
  "language_info": {
   "codemirror_mode": {
    "name": "ipython",
    "version": 3
   },
   "file_extension": ".py",
   "mimetype": "text/x-python",
   "name": "python",
   "nbconvert_exporter": "python",
   "pygments_lexer": "ipython3",
   "version": "3.10.9"
  }
 },
 "nbformat": 4,
 "nbformat_minor": 5
}
