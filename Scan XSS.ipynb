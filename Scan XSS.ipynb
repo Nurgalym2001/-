{
 "cells": [
  {
   "cell_type": "markdown",
   "id": "aa9f7d32",
   "metadata": {},
   "source": [
    "## Амангелді Нұрғалым СИБ 23-01"
   ]
  },
  {
   "cell_type": "markdown",
   "id": "9e509feb",
   "metadata": {},
   "source": [
    "### check_security_headers — проверяет наличие важных заголовков безопасности.\n",
    "### check_xss_vulnerability — отправляет тестовый XSS-пейлоад, чтобы определить, выполняется ли код на странице.\n",
    "### scan_website — основная функция, которая запускает оба теста."
   ]
  },
  {
   "cell_type": "code",
   "execution_count": 2,
   "id": "9629b836",
   "metadata": {},
   "outputs": [
    {
     "name": "stdout",
     "output_type": "stream",
     "text": [
      "Сканирование сайта: http://testaspnet.vulnweb.com\n",
      "Найдены проблемы с заголовками безопасности:\n",
      "Уязвимость: Отсутствие HSTS может быть проблемой\n",
      "Уязвимость: Отсутствие CSP может привести к XSS\n",
      "Уязвимость: Отсутствие X-Content-Type-Options может быть проблемой\n",
      "Уязвимость: Отсутствие X-Frame-Options может привести к Clickjacking\n",
      "Уязвимость: Отсутствие X-XSS-Protection может привести к XSS\n",
      "XSS не обнаружено.\n"
     ]
    }
   ],
   "source": [
    "import requests\n",
    "from bs4 import BeautifulSoup\n",
    "\n",
    "# Функция для проверки заголовков безопасности\n",
    "def check_security_headers(url):\n",
    "    try:\n",
    "        response = requests.get(url)\n",
    "        headers = response.headers\n",
    "\n",
    "        # Проверяем наличие популярных заголовков безопасности\n",
    "        security_headers = {\n",
    "            \"Strict-Transport-Security\": \"Отсутствие HSTS может быть проблемой\",\n",
    "            \"Content-Security-Policy\": \"Отсутствие CSP может привести к XSS\",\n",
    "            \"X-Content-Type-Options\": \"Отсутствие X-Content-Type-Options может быть проблемой\",\n",
    "            \"X-Frame-Options\": \"Отсутствие X-Frame-Options может привести к Clickjacking\",\n",
    "            \"X-XSS-Protection\": \"Отсутствие X-XSS-Protection может привести к XSS\"\n",
    "        }\n",
    "\n",
    "        issues_found = []\n",
    "        for header, warning in security_headers.items():\n",
    "            if header not in headers:\n",
    "                issues_found.append(f\"Уязвимость: {warning}\")\n",
    "\n",
    "        if issues_found:\n",
    "            print(\"Найдены проблемы с заголовками безопасности:\")\n",
    "            for issue in issues_found:\n",
    "                print(issue)\n",
    "        else:\n",
    "            print(\"Все основные заголовки безопасности присутствуют.\")\n",
    "    except requests.exceptions.RequestException as e:\n",
    "        print(f\"Ошибка при попытке доступа к {url}: {e}\")\n",
    "\n",
    "# Функция для проверки уязвимости XSS\n",
    "def check_xss_vulnerability(url):\n",
    "    try:\n",
    "        payload = \"<script>alert(1)</script>\"\n",
    "        params = {\"q\": payload}\n",
    "        response = requests.get(url, params=params)\n",
    "        if payload in response.text:\n",
    "            print(\"Уязвимость XSS найдена!\")\n",
    "        else:\n",
    "            print(\"XSS не обнаружено.\")\n",
    "    except requests.exceptions.RequestException as e:\n",
    "        print(f\"Ошибка при попытке проверки XSS на {url}: {e}\")\n",
    "\n",
    "# Основная функция\n",
    "def scan_website(url):\n",
    "    print(f\"Сканирование сайта: {url}\")\n",
    "    check_security_headers(url)\n",
    "    check_xss_vulnerability(url)\n",
    "\n",
    "# Пример использования1\n",
    "website_url = \"http://testaspnet.vulnweb.com\"\n",
    "scan_website(website_url)\n"
   ]
  },
  {
   "cell_type": "code",
   "execution_count": 3,
   "id": "8cb27c99",
   "metadata": {},
   "outputs": [
    {
     "name": "stdout",
     "output_type": "stream",
     "text": [
      "Сканирование сайта: http://testasp.vulnweb.com\n",
      "Найдены проблемы с заголовками безопасности:\n",
      "Уязвимость: Отсутствие HSTS может быть проблемой\n",
      "Уязвимость: Отсутствие CSP может привести к XSS\n",
      "Уязвимость: Отсутствие X-Content-Type-Options может быть проблемой\n",
      "Уязвимость: Отсутствие X-Frame-Options может привести к Clickjacking\n",
      "Уязвимость: Отсутствие X-XSS-Protection может привести к XSS\n",
      "XSS не обнаружено.\n"
     ]
    }
   ],
   "source": [
    "# Пример использования2\n",
    "website_url = \"http://testasp.vulnweb.com\"\n",
    "scan_website(website_url)"
   ]
  },
  {
   "cell_type": "code",
   "execution_count": 4,
   "id": "9c2dae20",
   "metadata": {},
   "outputs": [
    {
     "name": "stdout",
     "output_type": "stream",
     "text": [
      "Сканирование сайта: http://testhtml5.vulnweb.com\n",
      "Найдены проблемы с заголовками безопасности:\n",
      "Уязвимость: Отсутствие HSTS может быть проблемой\n",
      "Уязвимость: Отсутствие CSP может привести к XSS\n",
      "Уязвимость: Отсутствие X-Content-Type-Options может быть проблемой\n",
      "Уязвимость: Отсутствие X-Frame-Options может привести к Clickjacking\n",
      "Уязвимость: Отсутствие X-XSS-Protection может привести к XSS\n",
      "XSS не обнаружено.\n"
     ]
    }
   ],
   "source": [
    "# Пример использования3\n",
    "website_url = \"http://testhtml5.vulnweb.com\"\n",
    "scan_website(website_url)"
   ]
  },
  {
   "cell_type": "markdown",
   "id": "e006ddd8",
   "metadata": {},
   "source": [
    "### Суть этой программы заключается в выполнении базового анализа безопасности веб-сайта на наличие некоторых распространённых уязвимостей:"
   ]
  },
  {
   "cell_type": "markdown",
   "id": "89d6b83f",
   "metadata": {},
   "source": [
    "Результаты сканирования указывают на несколько проблем с заголовками безопасности на этих 3 сайтах http://testaspnet.vulnweb.com,\" http://testasp.vulnweb.com\",\"http://testhtml5.vulnweb.com\"  которые могут сделать его уязвимым для различных атак:\n",
    "\n",
    "Отсутствие HSTS (Strict-Transport-Security):\n",
    "Этот заголовок предотвращает атаки \"man-in-the-middle\" (перехват трафика) путем принудительного использования HTTPS. Его отсутствие означает, что сайт может быть уязвим для снижения протокола (downgrade attacks) или атак на перенаправление HTTP -> HTTPS.\n",
    "\n",
    "Отсутствие CSP (Content-Security-Policy):\n",
    "Отсутствие этого заголовка делает сайт более уязвимым к XSS-атакам и внедрению вредоносного контента. CSP помогает ограничивать типы ресурсов, которые могут быть загружены или выполнены, что снижает риск внедрения скриптов злоумышленников.\n",
    "\n",
    "Отсутствие X-Content-Type-Options:\n",
    "Этот заголовок указывает браузеру не определять MIME-тип файла автоматически. Его отсутствие может позволить атакующему заставить браузер выполнить вредоносный файл (например, скрипт), который должен был быть обработан как простой текст.\n",
    "\n",
    "Отсутствие X-Frame-Options:\n",
    "Этот заголовок предотвращает вставку страниц сайта в iframe, что может использоваться для атак типа Clickjacking. Без этого заголовка злоумышленник может создать страницу, которая отображает ваш сайт в невидимом iframe и манипулировать пользователями, чтобы они совершали нежелательные действия.\n",
    "\n",
    "Отсутствие X-XSS-Protection:\n",
    "Это указывает на то, что сайт не использует встроенные механизмы защиты браузера от XSS. Хотя этот механизм устарел в некоторых браузерах, его отсутствие все же является индикатором более низкой защищенности."
   ]
  },
  {
   "cell_type": "markdown",
   "id": "586d0150",
   "metadata": {},
   "source": [
    "## Меры для устранения:"
   ]
  },
  {
   "cell_type": "markdown",
   "id": "d6b4e19f",
   "metadata": {},
   "source": [
    "#### Добавить заголовок Strict-Transport-Security, чтобы принудительно использовать HTTPS: \n",
    "Strict-Transport-Security: max-age=31536000; includeSubDomains; preload; \n",
    "\n",
    "#### Внедрить строгую политику контентной безопасности, чтобы предотвратить XSS и другие виды атак:\n",
    "Content-Security-Policy: default-src 'self'; script-src 'self' https://testhtml5.vulnweb.com;\n",
    "\n",
    "#### X-XSS-Protection: Включить встроенную защиту браузеров от XSS:\n",
    "X-XSS-Protection: 1; mode=block"
   ]
  },
  {
   "cell_type": "markdown",
   "id": "ee7aa519",
   "metadata": {},
   "source": [
    "# Спасибо за внимание"
   ]
  },
  {
   "cell_type": "code",
   "execution_count": null,
   "id": "e7e2060c",
   "metadata": {},
   "outputs": [],
   "source": []
  }
 ],
 "metadata": {
  "kernelspec": {
   "display_name": "Python 3 (ipykernel)",
   "language": "python",
   "name": "python3"
  },
  "language_info": {
   "codemirror_mode": {
    "name": "ipython",
    "version": 3
   },
   "file_extension": ".py",
   "mimetype": "text/x-python",
   "name": "python",
   "nbconvert_exporter": "python",
   "pygments_lexer": "ipython3",
   "version": "3.10.9"
  }
 },
 "nbformat": 4,
 "nbformat_minor": 5
}
