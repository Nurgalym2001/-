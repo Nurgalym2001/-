{
 "cells": [
  {
   "cell_type": "markdown",
   "id": "db4c1894",
   "metadata": {},
   "source": [
    "## Amangeldi Nurgalym, СИБ 23-01\n",
    "\n",
    "### 5. Программа для анализа файлов на наличие вредоносного кода\n",
    "#### \tЗадача: Разработать утилиту для сканирования файлов на наличие вредоносных программ и анализ их поведения.\n"
   ]
  },
  {
   "cell_type": "markdown",
   "id": "6b25b9c4",
   "metadata": {},
   "source": [
    "#### Сначала создаем файл rules.yar с правилами YARA для обнаружения вредоносного кода:"
   ]
  },
  {
   "cell_type": "code",
   "execution_count": 3,
   "id": "be9d5a33",
   "metadata": {},
   "outputs": [],
   "source": [
    "yara_rules = \"\"\"\n",
    "rule ExampleMalware\n",
    "{\n",
    "    meta:\n",
    "        description = \"Пример правила для обнаружения вредоносного кода\"\n",
    "        author = \"Nurgalym\"\n",
    "        date = \"2024-11-18\"\n",
    "\n",
    "    strings:\n",
    "        $malicious_string1 = \"malicious_code_signature\"\n",
    "        $malicious_string2 = { E2 34 A1 C4 66 }\n",
    "        $url_indicator = \"http://malicious-url.com\"\n",
    "\n",
    "    condition:\n",
    "        any of ($malicious_string1, $malicious_string2, $url_indicator)\n",
    "}\n",
    "\n",
    "rule AnotherExample\n",
    "{\n",
    "    meta:\n",
    "        description = \"Rules2\"\n",
    "        author = \"Your Name\"\n",
    "        date = \"2024-11-18\"\n",
    "\n",
    "    strings:\n",
    "        $suspicious_command = \"cmd.exe /c\"\n",
    "\n",
    "    condition:\n",
    "        $suspicious_command\n",
    "}\n",
    "\"\"\"\n",
    "\n",
    "with open(\"rules.yar\", \"w\") as file:\n",
    "    file.write(yara_rules)\n"
   ]
  },
  {
   "cell_type": "code",
   "execution_count": 6,
   "id": "2522e505",
   "metadata": {},
   "outputs": [
    {
     "name": "stdout",
     "output_type": "stream",
     "text": [
      "Подозрительных файлов не обнаружено.\n"
     ]
    }
   ],
   "source": [
    "import os\n",
    "import hashlib\n",
    "import magic\n",
    "import yara\n",
    "\n",
    "def calculate_file_hash(filepath):\n",
    "    \"\"\"Расчет хэша SHA-256 файла.\"\"\"\n",
    "    hash_sha256 = hashlib.sha256()\n",
    "    with open(filepath, \"rb\") as f:\n",
    "        for chunk in iter(lambda: f.read(4096), b\"\"):\n",
    "            hash_sha256.update(chunk)\n",
    "    return hash_sha256.hexdigest()\n",
    "\n",
    "def scan_with_yara(filepath, rules):\n",
    "    \"\"\"Сканирование файла с помощью правил YARA.\"\"\"\n",
    "    matches = rules.match(filepath)\n",
    "    return [match.rule for match in matches]\n",
    "\n",
    "def analyze_file(filepath, yara_rules):\n",
    "    \"\"\"Анализ файла на наличие вредоносного кода.\"\"\"\n",
    "    try:\n",
    "        file_type = magic.from_file(filepath)\n",
    "        file_hash = calculate_file_hash(filepath)\n",
    "        yara_matches = scan_with_yara(filepath, yara_rules)\n",
    "\n",
    "        analysis_result = {\n",
    "            \"file_path\": filepath,\n",
    "            \"file_type\": file_type,\n",
    "            \"file_hash\": file_hash,\n",
    "            \"yara_matches\": yara_matches,\n",
    "        }\n",
    "\n",
    "        if yara_matches:\n",
    "            analysis_result[\"suspicious\"] = True\n",
    "        else:\n",
    "            analysis_result[\"suspicious\"] = False\n",
    "\n",
    "        return analysis_result\n",
    "    except Exception as e:\n",
    "        return {\"file_path\": filepath, \"error\": str(e)}\n",
    "\n",
    "def scan_directory(directory, yara_rules):\n",
    "    \"\"\"Сканирование всех файлов в директории.\"\"\"\n",
    "    suspicious_files = []\n",
    "    for root, _, files in os.walk(directory):\n",
    "        for file in files:\n",
    "            file_path = os.path.join(root, file)\n",
    "            result = analyze_file(file_path, yara_rules)\n",
    "            if result.get(\"suspicious\"):\n",
    "                suspicious_files.append(result)\n",
    "    return suspicious_files\n",
    "\n",
    "# Создаем правила YARA\n",
    "yara_rules = yara.compile(filepath=\"rules.yar\")\n",
    "\n",
    "# Указываем директорию для анализа\n",
    "directory_to_scan = \"C:/Users/LENOVO/Desktop/Весь материал Нургалыма\"\n",
    "\n",
    "# Запускаем анализ\n",
    "results = scan_directory(directory_to_scan, yara_rules)\n",
    "\n",
    "# Выводим результаты\n",
    "if results:\n",
    "    print(\"Обнаружены подозрительные файлы:\")\n",
    "    for result in results:\n",
    "        print(f\"Файл: {result['file_path']}\")\n",
    "        print(f\"Тип: {result['file_type']}\")\n",
    "        print(f\"Хэш: {result['file_hash']}\")\n",
    "        print(f\"YARA правила: {', '.join(result['yara_matches'])}\")\n",
    "        print(\"-\" * 40)\n",
    "else:\n",
    "    print(\"Подозрительных файлов не обнаружено.\")\n"
   ]
  },
  {
   "cell_type": "markdown",
   "id": "e2bc3a30",
   "metadata": {},
   "source": [
    "# Вывод:\n",
    "\n",
    "##  Результат \"Подозрительных файлов не обнаружено\" означает, что программа написанная мной не нашла подозрительных файлов или же вредоносных программ при сканировании директории \"C:/Users/LENOVO/Desktop/Весь материал Нургалыма\"."
   ]
  },
  {
   "cell_type": "code",
   "execution_count": null,
   "id": "00146300",
   "metadata": {},
   "outputs": [],
   "source": []
  }
 ],
 "metadata": {
  "kernelspec": {
   "display_name": "Python 3 (ipykernel)",
   "language": "python",
   "name": "python3"
  },
  "language_info": {
   "codemirror_mode": {
    "name": "ipython",
    "version": 3
   },
   "file_extension": ".py",
   "mimetype": "text/x-python",
   "name": "python",
   "nbconvert_exporter": "python",
   "pygments_lexer": "ipython3",
   "version": "3.10.9"
  }
 },
 "nbformat": 4,
 "nbformat_minor": 5
}
